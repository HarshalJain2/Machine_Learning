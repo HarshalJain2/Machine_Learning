{
 "cells": [
  {
   "cell_type": "markdown",
   "metadata": {},
   "source": [
    "<table align=\"center\" width=100%>\n",
    "    <tr>\n",
    "        <td width=\"20%\">\n",
    "            <img src=\"in_class.png\">\n",
    "        </td>\n",
    "        <td>\n",
    "            <div align=\"center\">\n",
    "                <font color=\"#21618C\" size=8px>\n",
    "                    <b> Inclass - Lab <br>(Day 3)\n",
    "                    </b>\n",
    "                </font>\n",
    "            </div>\n",
    "        </td>\n",
    "         <td width=\"25%\">\n",
    "            <img src=\"GL-2.png\">\n",
    "        </td>\n",
    "    </tr>\n",
    "</table>"
   ]
  },
  {
   "cell_type": "markdown",
   "metadata": {},
   "source": [
    "### About the dataset (Rain prediction data)\n",
    "\n",
    "The dataset consists of various factors like temperature, humidity, a wind speed that are important in predicting the rainfall in the Indian subcontinent. \n",
    "\n",
    "**Temperature_min**: Minimum temperature for the day\n",
    "\n",
    "**Temperature_max**: Maximum temperature for the day\n",
    "\n",
    "**WindSpeedAt3am**: Today's speed of the wind at 3 am \n",
    "\n",
    "**WindSpeedAt10am**: Today's speed of the wind at 10 am\n",
    "\n",
    "**WindSpeedAt6pm**: Today's speed of the wind at 6 pm \n",
    "\n",
    "**HumidityLevelAt10am**: Today's humidity level at 10 am\n",
    "\n",
    "**HumidityAt6pm**: Today's humidity level at 6 pm\n",
    "\n",
    "**PressureAt10am**: Today's atmospheric pressure at 10 am\n",
    "\n",
    "**PressureAt6pm**: Today's atmospheric pressure at 6 pm\n",
    "\n",
    "**TemperatureAt10am**: Today's temperature at 10 am\n",
    "\n",
    "**TemperatureAt6pm**: Today's temperature at 6 pm\n",
    "\n",
    "**WillRainTomorrow?**: Will there be rain tomorrow? (Yes or No) (target/dependent variable)\n",
    "\n",
    "Use different dimension reduction techniques to transform the dataset into the lower dimension."
   ]
  },
  {
   "cell_type": "markdown",
   "metadata": {},
   "source": [
    "## Table of Content\n",
    "\n",
    "1. **[Exploratory Data Analysis](#eda)**\n",
    "2. **[Principal Component Analysis (PCA)](#pca)**\n",
    "3. **[Linear Discriminant Analysis (LDA)](#lda)**"
   ]
  },
  {
   "cell_type": "markdown",
   "metadata": {},
   "source": [
    "**Import the required libraries**"
   ]
  },
  {
   "cell_type": "code",
   "execution_count": 1,
   "metadata": {},
   "outputs": [],
   "source": [
    "# write your code here\n",
    "import numpy as np\n",
    "import pandas as pd\n",
    "import seaborn as sns \n",
    "import matplotlib.pyplot as plt\n",
    "from sklearn.model_selection import train_test_split\n",
    "from sklearn.cluster import KMeans\n",
    "from sklearn.metrics import silhouette_samples, silhouette_score\n",
    "from sklearn.cluster import DBSCAN"
   ]
  },
  {
   "cell_type": "markdown",
   "metadata": {},
   "source": [
    "#### Load the csv file"
   ]
  },
  {
   "cell_type": "code",
   "execution_count": 2,
   "metadata": {},
   "outputs": [
    {
     "data": {
      "text/html": [
       "<div>\n",
       "<style scoped>\n",
       "    .dataframe tbody tr th:only-of-type {\n",
       "        vertical-align: middle;\n",
       "    }\n",
       "\n",
       "    .dataframe tbody tr th {\n",
       "        vertical-align: top;\n",
       "    }\n",
       "\n",
       "    .dataframe thead th {\n",
       "        text-align: right;\n",
       "    }\n",
       "</style>\n",
       "<table border=\"1\" class=\"dataframe\">\n",
       "  <thead>\n",
       "    <tr style=\"text-align: right;\">\n",
       "      <th></th>\n",
       "      <th>Temperature_min</th>\n",
       "      <th>Temperature_max</th>\n",
       "      <th>WindSpeedAt3am</th>\n",
       "      <th>WindSpeedAt10am</th>\n",
       "      <th>WindSpeedAt6pm</th>\n",
       "      <th>HumidityLevelAt10am</th>\n",
       "      <th>HumidityAt6pm</th>\n",
       "      <th>PressureAt10am</th>\n",
       "      <th>PressureAt6pm</th>\n",
       "      <th>TemperatureAt10am</th>\n",
       "      <th>TemperatureAt6pm</th>\n",
       "      <th>WillRainTomorrow?</th>\n",
       "    </tr>\n",
       "  </thead>\n",
       "  <tbody>\n",
       "    <tr>\n",
       "      <th>0</th>\n",
       "      <td>20.3</td>\n",
       "      <td>30.7</td>\n",
       "      <td>32</td>\n",
       "      <td>6</td>\n",
       "      <td>17</td>\n",
       "      <td>110</td>\n",
       "      <td>72</td>\n",
       "      <td>1025.2</td>\n",
       "      <td>1015.4</td>\n",
       "      <td>26.6</td>\n",
       "      <td>40.4</td>\n",
       "      <td>No</td>\n",
       "    </tr>\n",
       "    <tr>\n",
       "      <th>1</th>\n",
       "      <td>30.0</td>\n",
       "      <td>33.3</td>\n",
       "      <td>33</td>\n",
       "      <td>10</td>\n",
       "      <td>20</td>\n",
       "      <td>70</td>\n",
       "      <td>35</td>\n",
       "      <td>1032.6</td>\n",
       "      <td>1035.4</td>\n",
       "      <td>26.6</td>\n",
       "      <td>39.3</td>\n",
       "      <td>No</td>\n",
       "    </tr>\n",
       "    <tr>\n",
       "      <th>2</th>\n",
       "      <td>23.5</td>\n",
       "      <td>26.9</td>\n",
       "      <td>24</td>\n",
       "      <td>14</td>\n",
       "      <td>20</td>\n",
       "      <td>98</td>\n",
       "      <td>63</td>\n",
       "      <td>1025.5</td>\n",
       "      <td>1026.0</td>\n",
       "      <td>29.8</td>\n",
       "      <td>34.6</td>\n",
       "      <td>Yes</td>\n",
       "    </tr>\n",
       "    <tr>\n",
       "      <th>3</th>\n",
       "      <td>25.5</td>\n",
       "      <td>26.9</td>\n",
       "      <td>45</td>\n",
       "      <td>20</td>\n",
       "      <td>30</td>\n",
       "      <td>82</td>\n",
       "      <td>59</td>\n",
       "      <td>1019.3</td>\n",
       "      <td>1016.9</td>\n",
       "      <td>24.2</td>\n",
       "      <td>30.8</td>\n",
       "      <td>No</td>\n",
       "    </tr>\n",
       "    <tr>\n",
       "      <th>4</th>\n",
       "      <td>33.5</td>\n",
       "      <td>39.3</td>\n",
       "      <td>33</td>\n",
       "      <td>4</td>\n",
       "      <td>12</td>\n",
       "      <td>94</td>\n",
       "      <td>49</td>\n",
       "      <td>1027.3</td>\n",
       "      <td>1022.2</td>\n",
       "      <td>33.6</td>\n",
       "      <td>43.6</td>\n",
       "      <td>No</td>\n",
       "    </tr>\n",
       "  </tbody>\n",
       "</table>\n",
       "</div>"
      ],
      "text/plain": [
       "   Temperature_min  Temperature_max  WindSpeedAt3am  WindSpeedAt10am  \\\n",
       "0             20.3             30.7              32                6   \n",
       "1             30.0             33.3              33               10   \n",
       "2             23.5             26.9              24               14   \n",
       "3             25.5             26.9              45               20   \n",
       "4             33.5             39.3              33                4   \n",
       "\n",
       "   WindSpeedAt6pm  HumidityLevelAt10am  HumidityAt6pm  PressureAt10am  \\\n",
       "0              17                  110             72          1025.2   \n",
       "1              20                   70             35          1032.6   \n",
       "2              20                   98             63          1025.5   \n",
       "3              30                   82             59          1019.3   \n",
       "4              12                   94             49          1027.3   \n",
       "\n",
       "   PressureAt6pm  TemperatureAt10am  TemperatureAt6pm WillRainTomorrow?  \n",
       "0         1015.4               26.6              40.4                No  \n",
       "1         1035.4               26.6              39.3                No  \n",
       "2         1026.0               29.8              34.6               Yes  \n",
       "3         1016.9               24.2              30.8                No  \n",
       "4         1022.2               33.6              43.6                No  "
      ]
     },
     "execution_count": 2,
     "metadata": {},
     "output_type": "execute_result"
    }
   ],
   "source": [
    "# write your code here\n",
    "df_rain=pd.read_csv('Ind_Climate_RainPred.csv')\n",
    "df_rain.head()"
   ]
  },
  {
   "cell_type": "markdown",
   "metadata": {},
   "source": [
    "\n",
    "### Let's begin with some hands-on practice exercises"
   ]
  },
  {
   "cell_type": "markdown",
   "metadata": {},
   "source": [
    "<a id=\"eda\"> </a>\n",
    "## 1. Exploratory Data Analysis"
   ]
  },
  {
   "cell_type": "markdown",
   "metadata": {
    "collapsed": true
   },
   "source": [
    "<table align=\"left\">\n",
    "    <tr>\n",
    "        <td width=\"6%\">\n",
    "            <img src=\"question_icon.png\">\n",
    "        </td>\n",
    "        <td>\n",
    "            <div align=\"left\", style=\"font-size:120%\">\n",
    "                <font color=\"#21618C\">\n",
    "                    <b>1. Check the datatype of all the variables in the dataset. If the datatype is not as per the definition, do the needful.</b>\n",
    "                </font>\n",
    "            </div>\n",
    "        </td>\n",
    "    </tr>\n",
    "</table>"
   ]
  },
  {
   "cell_type": "code",
   "execution_count": 3,
   "metadata": {},
   "outputs": [
    {
     "name": "stdout",
     "output_type": "stream",
     "text": [
      "<class 'pandas.core.frame.DataFrame'>\n",
      "RangeIndex: 10464 entries, 0 to 10463\n",
      "Data columns (total 12 columns):\n",
      " #   Column               Non-Null Count  Dtype  \n",
      "---  ------               --------------  -----  \n",
      " 0   Temperature_min      10464 non-null  float64\n",
      " 1   Temperature_max      10464 non-null  float64\n",
      " 2   WindSpeedAt3am       10464 non-null  int64  \n",
      " 3   WindSpeedAt10am      10464 non-null  int64  \n",
      " 4   WindSpeedAt6pm       10464 non-null  int64  \n",
      " 5   HumidityLevelAt10am  10464 non-null  int64  \n",
      " 6   HumidityAt6pm        10464 non-null  int64  \n",
      " 7   PressureAt10am       10464 non-null  float64\n",
      " 8   PressureAt6pm        10464 non-null  float64\n",
      " 9   TemperatureAt10am    10464 non-null  float64\n",
      " 10  TemperatureAt6pm     10464 non-null  float64\n",
      " 11  WillRainTomorrow?    10464 non-null  object \n",
      "dtypes: float64(6), int64(5), object(1)\n",
      "memory usage: 981.1+ KB\n"
     ]
    }
   ],
   "source": [
    "# write your code here\n",
    "df_rain.info()"
   ]
  },
  {
   "cell_type": "markdown",
   "metadata": {
    "collapsed": true
   },
   "source": [
    "<table align=\"left\">\n",
    "    <tr>\n",
    "        <td width=\"6%\">\n",
    "            <img src=\"question_icon.png\">\n",
    "        </td>\n",
    "        <td>\n",
    "            <div align=\"left\", style=\"font-size:120%\">\n",
    "                <font color=\"#21618C\">\n",
    "                    <b>2. Check the statistical summary of all the numerical variables.</b>\n",
    "                </font>\n",
    "            </div>\n",
    "        </td>\n",
    "    </tr>\n",
    "</table>"
   ]
  },
  {
   "cell_type": "code",
   "execution_count": 4,
   "metadata": {},
   "outputs": [
    {
     "data": {
      "text/html": [
       "<div>\n",
       "<style scoped>\n",
       "    .dataframe tbody tr th:only-of-type {\n",
       "        vertical-align: middle;\n",
       "    }\n",
       "\n",
       "    .dataframe tbody tr th {\n",
       "        vertical-align: top;\n",
       "    }\n",
       "\n",
       "    .dataframe thead th {\n",
       "        text-align: right;\n",
       "    }\n",
       "</style>\n",
       "<table border=\"1\" class=\"dataframe\">\n",
       "  <thead>\n",
       "    <tr style=\"text-align: right;\">\n",
       "      <th></th>\n",
       "      <th>Temperature_min</th>\n",
       "      <th>Temperature_max</th>\n",
       "      <th>WindSpeedAt3am</th>\n",
       "      <th>WindSpeedAt10am</th>\n",
       "      <th>WindSpeedAt6pm</th>\n",
       "      <th>HumidityLevelAt10am</th>\n",
       "      <th>HumidityAt6pm</th>\n",
       "      <th>PressureAt10am</th>\n",
       "      <th>PressureAt6pm</th>\n",
       "      <th>TemperatureAt10am</th>\n",
       "      <th>TemperatureAt6pm</th>\n",
       "    </tr>\n",
       "  </thead>\n",
       "  <tbody>\n",
       "    <tr>\n",
       "      <th>count</th>\n",
       "      <td>10464.000000</td>\n",
       "      <td>10464.000000</td>\n",
       "      <td>10464.000000</td>\n",
       "      <td>10464.000000</td>\n",
       "      <td>10464.000000</td>\n",
       "      <td>10464.000000</td>\n",
       "      <td>10464.000000</td>\n",
       "      <td>10464.000000</td>\n",
       "      <td>10464.000000</td>\n",
       "      <td>10464.000000</td>\n",
       "      <td>10464.000000</td>\n",
       "    </tr>\n",
       "    <tr>\n",
       "      <th>mean</th>\n",
       "      <td>26.308964</td>\n",
       "      <td>30.309939</td>\n",
       "      <td>41.391820</td>\n",
       "      <td>15.379683</td>\n",
       "      <td>20.394209</td>\n",
       "      <td>82.210627</td>\n",
       "      <td>60.992928</td>\n",
       "      <td>1023.362481</td>\n",
       "      <td>1020.702332</td>\n",
       "      <td>30.713083</td>\n",
       "      <td>36.218626</td>\n",
       "    </tr>\n",
       "    <tr>\n",
       "      <th>std</th>\n",
       "      <td>6.843041</td>\n",
       "      <td>7.424327</td>\n",
       "      <td>14.437279</td>\n",
       "      <td>7.449217</td>\n",
       "      <td>7.847386</td>\n",
       "      <td>18.557838</td>\n",
       "      <td>22.737736</td>\n",
       "      <td>7.536385</td>\n",
       "      <td>7.433202</td>\n",
       "      <td>6.752840</td>\n",
       "      <td>7.723442</td>\n",
       "    </tr>\n",
       "    <tr>\n",
       "      <th>min</th>\n",
       "      <td>7.200000</td>\n",
       "      <td>13.200000</td>\n",
       "      <td>9.000000</td>\n",
       "      <td>2.000000</td>\n",
       "      <td>2.000000</td>\n",
       "      <td>11.000000</td>\n",
       "      <td>4.000000</td>\n",
       "      <td>993.700000</td>\n",
       "      <td>991.900000</td>\n",
       "      <td>10.300000</td>\n",
       "      <td>16.700000</td>\n",
       "    </tr>\n",
       "    <tr>\n",
       "      <th>25%</th>\n",
       "      <td>21.300000</td>\n",
       "      <td>24.600000</td>\n",
       "      <td>31.000000</td>\n",
       "      <td>10.000000</td>\n",
       "      <td>15.000000</td>\n",
       "      <td>70.000000</td>\n",
       "      <td>44.000000</td>\n",
       "      <td>1018.400000</td>\n",
       "      <td>1015.600000</td>\n",
       "      <td>25.800000</td>\n",
       "      <td>30.600000</td>\n",
       "    </tr>\n",
       "    <tr>\n",
       "      <th>50%</th>\n",
       "      <td>26.200000</td>\n",
       "      <td>29.500000</td>\n",
       "      <td>39.000000</td>\n",
       "      <td>14.000000</td>\n",
       "      <td>20.000000</td>\n",
       "      <td>85.000000</td>\n",
       "      <td>59.000000</td>\n",
       "      <td>1023.400000</td>\n",
       "      <td>1020.700000</td>\n",
       "      <td>30.800000</td>\n",
       "      <td>35.600000</td>\n",
       "    </tr>\n",
       "    <tr>\n",
       "      <th>75%</th>\n",
       "      <td>31.500000</td>\n",
       "      <td>35.600000</td>\n",
       "      <td>49.000000</td>\n",
       "      <td>20.000000</td>\n",
       "      <td>25.000000</td>\n",
       "      <td>98.000000</td>\n",
       "      <td>77.000000</td>\n",
       "      <td>1028.600000</td>\n",
       "      <td>1025.700000</td>\n",
       "      <td>35.400000</td>\n",
       "      <td>41.400000</td>\n",
       "    </tr>\n",
       "    <tr>\n",
       "      <th>max</th>\n",
       "      <td>47.300000</td>\n",
       "      <td>55.800000</td>\n",
       "      <td>131.000000</td>\n",
       "      <td>58.000000</td>\n",
       "      <td>63.000000</td>\n",
       "      <td>110.000000</td>\n",
       "      <td>110.000000</td>\n",
       "      <td>1048.900000</td>\n",
       "      <td>1046.400000</td>\n",
       "      <td>56.300000</td>\n",
       "      <td>63.300000</td>\n",
       "    </tr>\n",
       "  </tbody>\n",
       "</table>\n",
       "</div>"
      ],
      "text/plain": [
       "       Temperature_min  Temperature_max  WindSpeedAt3am  WindSpeedAt10am  \\\n",
       "count     10464.000000     10464.000000    10464.000000     10464.000000   \n",
       "mean         26.308964        30.309939       41.391820        15.379683   \n",
       "std           6.843041         7.424327       14.437279         7.449217   \n",
       "min           7.200000        13.200000        9.000000         2.000000   \n",
       "25%          21.300000        24.600000       31.000000        10.000000   \n",
       "50%          26.200000        29.500000       39.000000        14.000000   \n",
       "75%          31.500000        35.600000       49.000000        20.000000   \n",
       "max          47.300000        55.800000      131.000000        58.000000   \n",
       "\n",
       "       WindSpeedAt6pm  HumidityLevelAt10am  HumidityAt6pm  PressureAt10am  \\\n",
       "count    10464.000000         10464.000000   10464.000000    10464.000000   \n",
       "mean        20.394209            82.210627      60.992928     1023.362481   \n",
       "std          7.847386            18.557838      22.737736        7.536385   \n",
       "min          2.000000            11.000000       4.000000      993.700000   \n",
       "25%         15.000000            70.000000      44.000000     1018.400000   \n",
       "50%         20.000000            85.000000      59.000000     1023.400000   \n",
       "75%         25.000000            98.000000      77.000000     1028.600000   \n",
       "max         63.000000           110.000000     110.000000     1048.900000   \n",
       "\n",
       "       PressureAt6pm  TemperatureAt10am  TemperatureAt6pm  \n",
       "count   10464.000000       10464.000000      10464.000000  \n",
       "mean     1020.702332          30.713083         36.218626  \n",
       "std         7.433202           6.752840          7.723442  \n",
       "min       991.900000          10.300000         16.700000  \n",
       "25%      1015.600000          25.800000         30.600000  \n",
       "50%      1020.700000          30.800000         35.600000  \n",
       "75%      1025.700000          35.400000         41.400000  \n",
       "max      1046.400000          56.300000         63.300000  "
      ]
     },
     "execution_count": 4,
     "metadata": {},
     "output_type": "execute_result"
    }
   ],
   "source": [
    "# write your code here\n",
    "df_rain.describe()"
   ]
  },
  {
   "cell_type": "markdown",
   "metadata": {
    "collapsed": true
   },
   "source": [
    "<table align=\"left\">\n",
    "    <tr>\n",
    "        <td width=\"6%\">\n",
    "            <img src=\"question_icon.png\">\n",
    "        </td>\n",
    "        <td>\n",
    "            <div align=\"left\", style=\"font-size:120%\">\n",
    "                <font color=\"#21618C\">\n",
    "                    <b>3. Is the target variable highly imbalanced? </b>\n",
    "                </font>\n",
    "            </div>\n",
    "        </td>\n",
    "    </tr>\n",
    "</table>"
   ]
  },
  {
   "cell_type": "code",
   "execution_count": 11,
   "metadata": {},
   "outputs": [
    {
     "data": {
      "text/plain": [
       "No     5464\n",
       "Yes    5000\n",
       "Name: WillRainTomorrow?, dtype: int64"
      ]
     },
     "execution_count": 11,
     "metadata": {},
     "output_type": "execute_result"
    }
   ],
   "source": [
    "# write your code here\n",
    "df_rain['WillRainTomorrow?'].value_counts()"
   ]
  },
  {
   "cell_type": "markdown",
   "metadata": {
    "collapsed": true
   },
   "source": [
    "<table align=\"left\">\n",
    "    <tr>\n",
    "        <td width=\"6%\">\n",
    "            <img src=\"question_icon.png\">\n",
    "        </td>\n",
    "        <td>\n",
    "            <div align=\"left\", style=\"font-size:120%\">\n",
    "                <font color=\"#21618C\">\n",
    "                    <b>4. Check if any missing values are present in the data. If yes, do the needful.</b>\n",
    "                </font>\n",
    "            </div>\n",
    "        </td>\n",
    "    </tr>\n",
    "</table>"
   ]
  },
  {
   "cell_type": "code",
   "execution_count": 1,
   "metadata": {},
   "outputs": [],
   "source": [
    "# write your code here\n"
   ]
  },
  {
   "cell_type": "markdown",
   "metadata": {
    "collapsed": true
   },
   "source": [
    "<table align=\"left\">\n",
    "    <tr>\n",
    "        <td width=\"6%\">\n",
    "            <img src=\"question_icon.png\">\n",
    "        </td>\n",
    "        <td>\n",
    "            <div align=\"left\", style=\"font-size:120%\">\n",
    "                <font color=\"#21618C\">\n",
    "                    <b>5. Visualize the distribution of all the independent variables and identify the type of skewness.</b>\n",
    "                </font>\n",
    "            </div>\n",
    "        </td>\n",
    "    </tr>\n",
    "</table>"
   ]
  },
  {
   "cell_type": "code",
   "execution_count": 1,
   "metadata": {},
   "outputs": [],
   "source": [
    "# write your code here"
   ]
  },
  {
   "cell_type": "markdown",
   "metadata": {
    "collapsed": true
   },
   "source": [
    "<table align=\"left\">\n",
    "    <tr>\n",
    "        <td width=\"6%\">\n",
    "            <img src=\"question_icon.png\">\n",
    "        </td>\n",
    "        <td>\n",
    "            <div align=\"left\", style=\"font-size:120%\">\n",
    "                <font color=\"#21618C\">\n",
    "                    <b>6. Transform the independent variables such that each variable will have a mean zero and standard deviation of 1.</b>\n",
    "                </font>\n",
    "            </div>\n",
    "        </td>\n",
    "    </tr>\n",
    "</table>"
   ]
  },
  {
   "cell_type": "code",
   "execution_count": 1,
   "metadata": {},
   "outputs": [],
   "source": [
    "# write your code here"
   ]
  },
  {
   "cell_type": "markdown",
   "metadata": {},
   "source": [
    "<a id=\"pca\"> </a>\n",
    "## 2. Principal Component Analysis (PCA)"
   ]
  },
  {
   "cell_type": "markdown",
   "metadata": {
    "collapsed": true
   },
   "source": [
    "<table align=\"left\">\n",
    "    <tr>\n",
    "        <td width=\"6%\">\n",
    "            <img src=\"question_icon.png\">\n",
    "        </td>\n",
    "        <td>\n",
    "            <div align=\"left\", style=\"font-size:120%\">\n",
    "                <font color=\"#21618C\">\n",
    "                    <b>7. Find the covariance matrix of the standardized data.</b>\n",
    "                </font>\n",
    "            </div>\n",
    "        </td>\n",
    "    </tr>\n",
    "</table>"
   ]
  },
  {
   "cell_type": "code",
   "execution_count": 1,
   "metadata": {},
   "outputs": [],
   "source": [
    "# write your code here"
   ]
  },
  {
   "cell_type": "markdown",
   "metadata": {
    "collapsed": true
   },
   "source": [
    "<table align=\"left\">\n",
    "    <tr>\n",
    "        <td width=\"6%\">\n",
    "            <img src=\"question_icon.png\">\n",
    "        </td>\n",
    "        <td>\n",
    "            <div align=\"left\", style=\"font-size:120%\">\n",
    "                <font color=\"#21618C\">\n",
    "                    <b>8. Compute the eigenvalues and eigenvectors of the above covariance matrix.</b>\n",
    "                </font>\n",
    "            </div>\n",
    "        </td>\n",
    "    </tr>\n",
    "</table>"
   ]
  },
  {
   "cell_type": "code",
   "execution_count": 1,
   "metadata": {},
   "outputs": [],
   "source": [
    "# write your code here"
   ]
  },
  {
   "cell_type": "markdown",
   "metadata": {
    "collapsed": true
   },
   "source": [
    "<table align=\"left\">\n",
    "    <tr>\n",
    "        <td width=\"6%\">\n",
    "            <img src=\"question_icon.png\">\n",
    "        </td>\n",
    "        <td>\n",
    "            <div align=\"left\", style=\"font-size:120%\">\n",
    "                <font color=\"#21618C\">\n",
    "                    <b>9. Use the Kaiser criterion to identify the optimal number of principal components.</b>\n",
    "                </font>\n",
    "            </div>\n",
    "        </td>\n",
    "    </tr>\n",
    "</table>"
   ]
  },
  {
   "cell_type": "code",
   "execution_count": 1,
   "metadata": {},
   "outputs": [],
   "source": [
    "# write your code here"
   ]
  },
  {
   "cell_type": "markdown",
   "metadata": {
    "collapsed": true
   },
   "source": [
    "<table align=\"left\">\n",
    "    <tr>\n",
    "        <td width=\"6%\">\n",
    "            <img src=\"question_icon.png\">\n",
    "        </td>\n",
    "        <td>\n",
    "            <div align=\"left\", style=\"font-size:120%\">\n",
    "                <font color=\"#21618C\">\n",
    "                    <b>10. How many minimum principal components are required to explain at least 80% of the variation in the data?</b>\n",
    "                </font>\n",
    "            </div>\n",
    "        </td>\n",
    "    </tr>\n",
    "</table>"
   ]
  },
  {
   "cell_type": "code",
   "execution_count": 1,
   "metadata": {},
   "outputs": [],
   "source": [
    "# write your code here"
   ]
  },
  {
   "cell_type": "markdown",
   "metadata": {
    "collapsed": true
   },
   "source": [
    "<table align=\"left\">\n",
    "    <tr>\n",
    "        <td width=\"6%\">\n",
    "            <img src=\"question_icon.png\">\n",
    "        </td>\n",
    "        <td>\n",
    "            <div align=\"left\", style=\"font-size:120%\">\n",
    "                <font color=\"#21618C\">\n",
    "                    <b>11. Create a dataframe of the transformed data with 4 principal components.</b>\n",
    "                </font>\n",
    "            </div>\n",
    "        </td>\n",
    "    </tr>\n",
    "</table>"
   ]
  },
  {
   "cell_type": "code",
   "execution_count": 1,
   "metadata": {},
   "outputs": [],
   "source": [
    "# write your code here"
   ]
  },
  {
   "cell_type": "markdown",
   "metadata": {
    "collapsed": true
   },
   "source": [
    "<table align=\"left\">\n",
    "    <tr>\n",
    "        <td width=\"6%\">\n",
    "            <img src=\"question_icon.png\">\n",
    "        </td>\n",
    "        <td>\n",
    "            <div align=\"left\", style=\"font-size:120%\">\n",
    "                <font color=\"#21618C\">\n",
    "                    <b>12. Visualize the rain prediction data by transforming it to 2-dimensions using the python library. Also, display the classes of the target variables with different colors.</b>\n",
    "                </font>\n",
    "            </div>\n",
    "        </td>\n",
    "    </tr>\n",
    "</table>"
   ]
  },
  {
   "cell_type": "code",
   "execution_count": 1,
   "metadata": {},
   "outputs": [],
   "source": [
    "# write your code here"
   ]
  },
  {
   "cell_type": "markdown",
   "metadata": {
    "collapsed": true
   },
   "source": [
    "<table align=\"left\">\n",
    "    <tr>\n",
    "        <td width=\"6%\">\n",
    "            <img src=\"question_icon.png\">\n",
    "        </td>\n",
    "        <td>\n",
    "            <div align=\"left\", style=\"font-size:120%\">\n",
    "                <font color=\"#21618C\">\n",
    "                    <b>13. Split the dataset of the 11 standardized features into the train and test sets of proportion 70:30.</b>\n",
    "                </font>\n",
    "            </div>\n",
    "        </td>\n",
    "    </tr>\n",
    "</table>"
   ]
  },
  {
   "cell_type": "code",
   "execution_count": 1,
   "metadata": {},
   "outputs": [],
   "source": [
    "# write your code here"
   ]
  },
  {
   "cell_type": "markdown",
   "metadata": {
    "collapsed": true
   },
   "source": [
    "<table align=\"left\">\n",
    "    <tr>\n",
    "        <td width=\"6%\">\n",
    "            <img src=\"question_icon.png\">\n",
    "        </td>\n",
    "        <td>\n",
    "            <div align=\"left\", style=\"font-size:120%\">\n",
    "                <font color=\"#21618C\">\n",
    "                    <b>14. Reduce the number of features in the train and test sets to 3 using the python library.</b>\n",
    "                </font>\n",
    "            </div>\n",
    "        </td>\n",
    "    </tr>\n",
    "</table>"
   ]
  },
  {
   "cell_type": "code",
   "execution_count": 1,
   "metadata": {},
   "outputs": [],
   "source": [
    "# write your code here"
   ]
  },
  {
   "cell_type": "markdown",
   "metadata": {
    "collapsed": true
   },
   "source": [
    "<table align=\"left\">\n",
    "    <tr>\n",
    "        <td width=\"6%\">\n",
    "            <img src=\"question_icon.png\">\n",
    "        </td>\n",
    "        <td>\n",
    "            <div align=\"left\", style=\"font-size:120%\">\n",
    "                <font color=\"#21618C\">\n",
    "                    <b>15. Write a generalized function that builds the random forest classification algorithm and returns the accuracy of the algorithm on the test set.</b>\n",
    "                </font>\n",
    "            </div>\n",
    "        </td>\n",
    "    </tr>\n",
    "</table>"
   ]
  },
  {
   "cell_type": "code",
   "execution_count": 1,
   "metadata": {},
   "outputs": [],
   "source": [
    "# write your code here"
   ]
  },
  {
   "cell_type": "markdown",
   "metadata": {
    "collapsed": true
   },
   "source": [
    "<table align=\"left\">\n",
    "    <tr>\n",
    "        <td width=\"6%\">\n",
    "            <img src=\"question_icon.png\">\n",
    "        </td>\n",
    "        <td>\n",
    "            <div align=\"left\", style=\"font-size:120%\">\n",
    "                <font color=\"#21618C\">\n",
    "                    <b>16. Build a random forest model on the original data (without PCA transformation) and find the accuracy of the model on the test data. Also, calculate the time required to execute the code.</b>\n",
    "                </font>\n",
    "            </div>\n",
    "        </td>\n",
    "    </tr>\n",
    "</table>"
   ]
  },
  {
   "cell_type": "code",
   "execution_count": 12,
   "metadata": {},
   "outputs": [
    {
     "name": "stderr",
     "output_type": "stream",
     "text": [
      "UsageError: Line magic function `%%time` not found.\n"
     ]
    }
   ],
   "source": [
    "# write your code here\n",
    "%%time\n"
   ]
  },
  {
   "cell_type": "markdown",
   "metadata": {
    "collapsed": true
   },
   "source": [
    "<table align=\"left\">\n",
    "    <tr>\n",
    "        <td width=\"6%\">\n",
    "            <img src=\"question_icon.png\">\n",
    "        </td>\n",
    "        <td>\n",
    "            <div align=\"left\", style=\"font-size:120%\">\n",
    "                <font color=\"#21618C\">\n",
    "                    <b>17. Build a random forest model on the dataset transformed using PCA and find the accuracy of the model on the test data. Also, calculate the time required to execute the code.</b>\n",
    "                </font>\n",
    "            </div>\n",
    "        </td>\n",
    "    </tr>\n",
    "</table>"
   ]
  },
  {
   "cell_type": "code",
   "execution_count": 1,
   "metadata": {},
   "outputs": [],
   "source": [
    "# write your code here"
   ]
  },
  {
   "cell_type": "markdown",
   "metadata": {},
   "source": [
    "<a id=\"lda\"> </a>\n",
    "## 3. Linear Discriminant Analysis (LDA)"
   ]
  },
  {
   "cell_type": "markdown",
   "metadata": {
    "collapsed": true
   },
   "source": [
    "<table align=\"left\">\n",
    "    <tr>\n",
    "        <td width=\"6%\">\n",
    "            <img src=\"question_icon.png\">\n",
    "        </td>\n",
    "        <td>\n",
    "            <div align=\"left\", style=\"font-size:120%\">\n",
    "                <font color=\"#21618C\">\n",
    "                    <b>18. Project the train and test sets (data without PCA transformation) onto the 1-dimensional vector that maximizes the separation between the classes of the target variable.</b>\n",
    "                </font>\n",
    "            </div>\n",
    "        </td>\n",
    "    </tr>\n",
    "</table>"
   ]
  },
  {
   "cell_type": "code",
   "execution_count": 1,
   "metadata": {},
   "outputs": [],
   "source": [
    "# write your code here"
   ]
  },
  {
   "cell_type": "markdown",
   "metadata": {
    "collapsed": true
   },
   "source": [
    "<table align=\"left\">\n",
    "    <tr>\n",
    "        <td width=\"6%\">\n",
    "            <img src=\"question_icon.png\">\n",
    "        </td>\n",
    "        <td>\n",
    "            <div align=\"left\", style=\"font-size:120%\">\n",
    "                <font color=\"#21618C\">\n",
    "                    <b>19. Run the random forest classifier on the LDA transformed data and find the model accuracy on the test set. Also, calculate the time required to execute the code.</b>\n",
    "                </font>\n",
    "            </div>\n",
    "        </td>\n",
    "    </tr>\n",
    "</table>"
   ]
  },
  {
   "cell_type": "code",
   "execution_count": 1,
   "metadata": {},
   "outputs": [],
   "source": [
    "# write your code here"
   ]
  },
  {
   "cell_type": "markdown",
   "metadata": {
    "collapsed": true
   },
   "source": [
    "<table align=\"left\">\n",
    "    <tr>\n",
    "        <td width=\"6%\">\n",
    "            <img src=\"question_icon.png\">\n",
    "        </td>\n",
    "        <td>\n",
    "            <div align=\"left\", style=\"font-size:120%\">\n",
    "                <font color=\"#21618C\">\n",
    "                    <b>20. Which of the above methods is more efficient in reducing the dimension of the data?</b>\n",
    "                </font>\n",
    "            </div>\n",
    "        </td>\n",
    "    </tr>\n",
    "</table>"
   ]
  },
  {
   "cell_type": "code",
   "execution_count": 1,
   "metadata": {},
   "outputs": [],
   "source": [
    "# write your code here"
   ]
  }
 ],
 "metadata": {
  "kernelspec": {
   "display_name": "Python 3 (ipykernel)",
   "language": "python",
   "name": "python3"
  },
  "language_info": {
   "codemirror_mode": {
    "name": "ipython",
    "version": 3
   },
   "file_extension": ".py",
   "mimetype": "text/x-python",
   "name": "python",
   "nbconvert_exporter": "python",
   "pygments_lexer": "ipython3",
   "version": "3.9.13"
  }
 },
 "nbformat": 4,
 "nbformat_minor": 4
}
