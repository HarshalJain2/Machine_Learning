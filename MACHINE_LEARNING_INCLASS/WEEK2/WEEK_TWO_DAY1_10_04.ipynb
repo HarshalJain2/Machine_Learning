{
 "cells": [
  {
   "cell_type": "code",
   "execution_count": 1,
   "id": "1d98e30d",
   "metadata": {},
   "outputs": [],
   "source": [
    "import numpy as np \n",
    "import pandas as pd\n",
    "import seaborn as sns \n",
    "import matplotlib.pyplot as plt\n",
    "import statsmodels.api as sm\n",
    "import scipy.stats as stats\n",
    "from statsmodels.stats.outliers_influence import variance_inflation_factor as VIF"
   ]
  },
  {
   "cell_type": "code",
   "execution_count": null,
   "id": "18859c1f",
   "metadata": {},
   "outputs": [],
   "source": [
    "df1=pd.DataFrame({'age':[45,36,38,44,58,67,28,32,30,25],\n",
    "                 'glu':[230,210,215,228,260,320,200,208,205,180]})"
   ]
  },
  {
   "cell_type": "code",
   "execution_count": null,
   "id": "eab81b63",
   "metadata": {},
   "outputs": [],
   "source": [
    "df1"
   ]
  },
  {
   "cell_type": "code",
   "execution_count": null,
   "id": "688555fc",
   "metadata": {},
   "outputs": [],
   "source": [
    "plt.plot(df1['age'],df1['glu'],'*')"
   ]
  },
  {
   "cell_type": "code",
   "execution_count": null,
   "id": "ddcac3d3",
   "metadata": {},
   "outputs": [],
   "source": [
    "plt.scatter(df1['age'],df1['glu'],marker='+')"
   ]
  },
  {
   "cell_type": "code",
   "execution_count": null,
   "id": "aa095e2d",
   "metadata": {},
   "outputs": [],
   "source": [
    "x=df1['age']\n",
    "y=df1['glu']\n",
    "# beta1=np.sum((x-np.mean(x))*(y-np.mean(y)))/np.sum((x-np.mean(x))**2)\n",
    "# beta1\n",
    "x"
   ]
  },
  {
   "cell_type": "code",
   "execution_count": null,
   "id": "9d8ec095",
   "metadata": {},
   "outputs": [],
   "source": [
    "xbar=np.mean(x)\n",
    "ybar=np.mean(y)\n",
    "beta1=np.sum((x-xbar)*(y-ybar))/(np.sum((x-xbar)**2))"
   ]
  },
  {
   "cell_type": "code",
   "execution_count": null,
   "id": "54ac43f9",
   "metadata": {},
   "outputs": [],
   "source": [
    "beta1 "
   ]
  },
  {
   "cell_type": "code",
   "execution_count": null,
   "id": "bf0dc9f3",
   "metadata": {},
   "outputs": [],
   "source": [
    "beta0= ybar-beta1*xbar"
   ]
  },
  {
   "cell_type": "code",
   "execution_count": null,
   "id": "a342d158",
   "metadata": {},
   "outputs": [],
   "source": [
    "beta0"
   ]
  },
  {
   "cell_type": "code",
   "execution_count": null,
   "id": "05a12caf",
   "metadata": {},
   "outputs": [],
   "source": [
    "y_pred= beta0+beta1*x "
   ]
  },
  {
   "cell_type": "code",
   "execution_count": null,
   "id": "79270712",
   "metadata": {},
   "outputs": [],
   "source": [
    "y_pred"
   ]
  },
  {
   "cell_type": "code",
   "execution_count": null,
   "id": "c8178dd5",
   "metadata": {},
   "outputs": [],
   "source": [
    "plt.plot(x,y,'*')\n",
    "plt.plot(x,y_pred)"
   ]
  },
  {
   "cell_type": "code",
   "execution_count": null,
   "id": "188ab664",
   "metadata": {},
   "outputs": [],
   "source": [
    "from sklearn.linear_model import LinearRegression\n"
   ]
  },
  {
   "cell_type": "code",
   "execution_count": null,
   "id": "f6a6bfdd",
   "metadata": {},
   "outputs": [],
   "source": [
    "LR=LinearRegression()"
   ]
  },
  {
   "cell_type": "code",
   "execution_count": null,
   "id": "c2151e4c",
   "metadata": {},
   "outputs": [],
   "source": [
    "X=df['age']   ####################################################we have to give dataframe otherwise its throwing an error\n",
    "Y=df['glu']\n",
    "LR=LinearRegression()\n",
    "LR.fit(X,Y)\n",
    "LR.intercept_LR.coef_"
   ]
  },
  {
   "cell_type": "code",
   "execution_count": null,
   "id": "a76f9d0e",
   "metadata": {},
   "outputs": [],
   "source": [
    "X=df1[['age']]\n",
    "Y=df1['glu']\n",
    "LR.fit(X,Y)\n",
    "LR.intercept_,LR.coef_"
   ]
  },
  {
   "cell_type": "code",
   "execution_count": null,
   "id": "e2778c10",
   "metadata": {},
   "outputs": [],
   "source": [
    "y_pred=LR.intercept_,+LR.coef_*x\n",
    "df1['y_pred']=y_pred"
   ]
  },
  {
   "cell_type": "code",
   "execution_count": null,
   "id": "38e61b83",
   "metadata": {},
   "outputs": [],
   "source": [
    "#plt.plot(x,y,'*')\n",
    "plt.plot(X,y_pred,'+')"
   ]
  },
  {
   "cell_type": "code",
   "execution_count": null,
   "id": "e10bbe30",
   "metadata": {},
   "outputs": [],
   "source": [
    "y_pred_bad=140*1.5*x\n",
    "y_pred_bad\n",
    "np.sum(y-y_pred_bad)"
   ]
  },
  {
   "cell_type": "code",
   "execution_count": null,
   "id": "5d007282",
   "metadata": {},
   "outputs": [],
   "source": [
    "plt.plot(x,y,'*')\n",
    "#plt.plot(x,y_pred)\n",
    "plt.plot(x,y_pred_bad)"
   ]
  },
  {
   "cell_type": "markdown",
   "id": "9288a341",
   "metadata": {},
   "source": [
    "# LOGISTIC REGRESSION"
   ]
  },
  {
   "cell_type": "code",
   "execution_count": 56,
   "id": "b526b402",
   "metadata": {},
   "outputs": [],
   "source": [
    "df1=pd.DataFrame({'class':[1,0,0,1,1,1,0,0,0,0],\n",
    "                 'glu':[230,210,215,228,260,320,200,208,205,180]})       "
   ]
  },
  {
   "cell_type": "code",
   "execution_count": 57,
   "id": "740dc489",
   "metadata": {},
   "outputs": [
    {
     "data": {
      "text/html": [
       "<div>\n",
       "<style scoped>\n",
       "    .dataframe tbody tr th:only-of-type {\n",
       "        vertical-align: middle;\n",
       "    }\n",
       "\n",
       "    .dataframe tbody tr th {\n",
       "        vertical-align: top;\n",
       "    }\n",
       "\n",
       "    .dataframe thead th {\n",
       "        text-align: right;\n",
       "    }\n",
       "</style>\n",
       "<table border=\"1\" class=\"dataframe\">\n",
       "  <thead>\n",
       "    <tr style=\"text-align: right;\">\n",
       "      <th></th>\n",
       "      <th>class</th>\n",
       "      <th>glu</th>\n",
       "    </tr>\n",
       "  </thead>\n",
       "  <tbody>\n",
       "    <tr>\n",
       "      <th>0</th>\n",
       "      <td>1</td>\n",
       "      <td>230</td>\n",
       "    </tr>\n",
       "    <tr>\n",
       "      <th>1</th>\n",
       "      <td>0</td>\n",
       "      <td>210</td>\n",
       "    </tr>\n",
       "    <tr>\n",
       "      <th>2</th>\n",
       "      <td>0</td>\n",
       "      <td>215</td>\n",
       "    </tr>\n",
       "    <tr>\n",
       "      <th>3</th>\n",
       "      <td>1</td>\n",
       "      <td>228</td>\n",
       "    </tr>\n",
       "    <tr>\n",
       "      <th>4</th>\n",
       "      <td>1</td>\n",
       "      <td>260</td>\n",
       "    </tr>\n",
       "    <tr>\n",
       "      <th>5</th>\n",
       "      <td>1</td>\n",
       "      <td>320</td>\n",
       "    </tr>\n",
       "    <tr>\n",
       "      <th>6</th>\n",
       "      <td>0</td>\n",
       "      <td>200</td>\n",
       "    </tr>\n",
       "    <tr>\n",
       "      <th>7</th>\n",
       "      <td>0</td>\n",
       "      <td>208</td>\n",
       "    </tr>\n",
       "    <tr>\n",
       "      <th>8</th>\n",
       "      <td>0</td>\n",
       "      <td>205</td>\n",
       "    </tr>\n",
       "    <tr>\n",
       "      <th>9</th>\n",
       "      <td>0</td>\n",
       "      <td>180</td>\n",
       "    </tr>\n",
       "  </tbody>\n",
       "</table>\n",
       "</div>"
      ],
      "text/plain": [
       "   class  glu\n",
       "0      1  230\n",
       "1      0  210\n",
       "2      0  215\n",
       "3      1  228\n",
       "4      1  260\n",
       "5      1  320\n",
       "6      0  200\n",
       "7      0  208\n",
       "8      0  205\n",
       "9      0  180"
      ]
     },
     "execution_count": 57,
     "metadata": {},
     "output_type": "execute_result"
    }
   ],
   "source": [
    "df1"
   ]
  },
  {
   "cell_type": "code",
   "execution_count": 58,
   "id": "79740f27",
   "metadata": {},
   "outputs": [],
   "source": [
    "x=df1['glu']\n",
    "y=df1['class']"
   ]
  },
  {
   "cell_type": "code",
   "execution_count": 59,
   "id": "518df5e0",
   "metadata": {},
   "outputs": [
    {
     "data": {
      "text/plain": [
       "[<matplotlib.lines.Line2D at 0x19cf2837280>]"
      ]
     },
     "execution_count": 59,
     "metadata": {},
     "output_type": "execute_result"
    },
    {
     "data": {
      "image/png": "[encoded data removed]",
      "text/plain": [
       "<Figure size 640x480 with 1 Axes>"
      ]
     },
     "metadata": {},
     "output_type": "display_data"
    }
   ],
   "source": [
    "plt.plot(df1['glu'],df1['class'],'*')"
   ]
  },
  {
   "cell_type": "code",
   "execution_count": 60,
   "id": "464f587b",
   "metadata": {},
   "outputs": [],
   "source": [
    "xbar=np.mean(x)\n",
    "ybar=np.mean(y)\n",
    "beta1=np.sum((x-xbar)*(y-ybar))/(np.sum((x-xbar)**2))"
   ]
  },
  {
   "cell_type": "code",
   "execution_count": 61,
   "id": "0a284370",
   "metadata": {},
   "outputs": [],
   "source": [
    "beta0= ybar-beta1*xbar"
   ]
  },
  {
   "cell_type": "code",
   "execution_count": 62,
   "id": "8b883a9e",
   "metadata": {},
   "outputs": [
    {
     "data": {
      "text/plain": [
       "0.009724333782737155"
      ]
     },
     "execution_count": 62,
     "metadata": {},
     "output_type": "execute_result"
    }
   ],
   "source": [
    "beta1"
   ]
  },
  {
   "cell_type": "code",
   "execution_count": 63,
   "id": "c8eb60fc",
   "metadata": {},
   "outputs": [
    {
     "data": {
      "text/plain": [
       "-1.793809701385502"
      ]
     },
     "execution_count": 63,
     "metadata": {},
     "output_type": "execute_result"
    }
   ],
   "source": [
    "beta0"
   ]
  },
  {
   "cell_type": "code",
   "execution_count": 64,
   "id": "fc6135d4",
   "metadata": {},
   "outputs": [],
   "source": [
    "y_pred= beta0+beta1*x "
   ]
  },
  {
   "cell_type": "code",
   "execution_count": 65,
   "id": "d19964b6",
   "metadata": {},
   "outputs": [
    {
     "data": {
      "text/plain": [
       "0    0.442787\n",
       "1    0.248300\n",
       "2    0.296922\n",
       "3    0.423338\n",
       "4    0.734517\n",
       "5    1.317977\n",
       "6    0.151057\n",
       "7    0.228852\n",
       "8    0.199679\n",
       "9   -0.043430\n",
       "Name: glu, dtype: float64"
      ]
     },
     "execution_count": 65,
     "metadata": {},
     "output_type": "execute_result"
    }
   ],
   "source": [
    "y_pred"
   ]
  },
  {
   "cell_type": "code",
   "execution_count": 66,
   "id": "a9e567a3",
   "metadata": {},
   "outputs": [
    {
     "data": {
      "text/plain": [
       "[<matplotlib.lines.Line2D at 0x19cf28a34c0>]"
      ]
     },
     "execution_count": 66,
     "metadata": {},
     "output_type": "execute_result"
    },
    {
     "data": {
      "image/png": "[encoded data removed]",
      "text/plain": [
       "<Figure size 640x480 with 1 Axes>"
      ]
     },
     "metadata": {},
     "output_type": "display_data"
    }
   ],
   "source": [
    "plt.plot(x,y,'*')\n",
    "plt.plot(x,y_pred)"
   ]
  },
  {
   "cell_type": "code",
   "execution_count": 67,
   "id": "05f93da1",
   "metadata": {},
   "outputs": [
    {
     "data": {
      "text/plain": [
       "0    0.608923\n",
       "1    0.561758\n",
       "2    0.573690\n",
       "3    0.604282\n",
       "4    0.675796\n",
       "5    0.788845\n",
       "6    0.537693\n",
       "7    0.556965\n",
       "8    0.549754\n",
       "9    0.489144\n",
       "Name: glu, dtype: float64"
      ]
     },
     "execution_count": 67,
     "metadata": {},
     "output_type": "execute_result"
    }
   ],
   "source": [
    "y_prob=1/(1+np.exp(-beta0-beta1*x))\n",
    "y_prob"
   ]
  },
  {
   "cell_type": "code",
   "execution_count": 68,
   "id": "7d343e30",
   "metadata": {},
   "outputs": [
    {
     "data": {
      "text/plain": [
       "[<matplotlib.lines.Line2D at 0x19cf29166a0>]"
      ]
     },
     "execution_count": 68,
     "metadata": {},
     "output_type": "execute_result"
    },
    {
     "data": {
      "image/png": "[encoded data removed]",
      "text/plain": [
       "<Figure size 640x480 with 1 Axes>"
      ]
     },
     "metadata": {},
     "output_type": "display_data"
    }
   ],
   "source": [
    "plt.plot(x,y,'*')\n",
    "plt.plot(x,y_pred ,'+')\n",
    "plt.plot(x,y_pred )\n",
    "plt.plot(x,y_prob)\n",
    "plt.plot(x,y_prob,'.')"
   ]
  },
  {
   "cell_type": "code",
   "execution_count": 69,
   "id": "1215e22a",
   "metadata": {},
   "outputs": [
    {
     "name": "stdout",
     "output_type": "stream",
     "text": [
      "[1, 0, 0, 1, 1, 1, 0, 0, 0, 0]\n"
     ]
    }
   ],
   "source": [
    "y_class=[]\n",
    "for val in y_prob:\n",
    "    if val>=np.mean(y_prob):\n",
    "        y_class.append(1)\n",
    "    else:\n",
    "        y_class.append(0)\n",
    "print(y_class)        \n",
    "        "
   ]
  },
  {
   "cell_type": "code",
   "execution_count": 70,
   "id": "013a1907",
   "metadata": {},
   "outputs": [
    {
     "data": {
      "text/plain": [
       "0    1\n",
       "1    0\n",
       "2    0\n",
       "3    1\n",
       "4    1\n",
       "5    1\n",
       "6    0\n",
       "7    0\n",
       "8    0\n",
       "9    0\n",
       "Name: class, dtype: int64"
      ]
     },
     "execution_count": 70,
     "metadata": {},
     "output_type": "execute_result"
    }
   ],
   "source": [
    "df1['class']"
   ]
  },
  {
   "cell_type": "code",
   "execution_count": 71,
   "id": "bdc7c9a4",
   "metadata": {},
   "outputs": [],
   "source": [
    "from sklearn.linear_model import LogisticRegression"
   ]
  },
  {
   "cell_type": "code",
   "execution_count": 78,
   "id": "3443e4d4",
   "metadata": {},
   "outputs": [],
   "source": [
    "X=df1[['glu']]\n",
    "Y=df1['class']"
   ]
  },
  {
   "cell_type": "code",
   "execution_count": 79,
   "id": "23641fdd",
   "metadata": {},
   "outputs": [],
   "source": [
    "LogReg=LogisticRegression()\n"
   ]
  },
  {
   "cell_type": "code",
   "execution_count": 80,
   "id": "5a6ed5c2",
   "metadata": {},
   "outputs": [
    {
     "data": {
      "text/plain": [
       "LogisticRegression()"
      ]
     },
     "execution_count": 80,
     "metadata": {},
     "output_type": "execute_result"
    }
   ],
   "source": [
    "LogReg.fit(X,Y) #  function fits a logistic regression model to the training data X and corresponding target values Y. \n",
    "                #  The model learns the relationship between the input features and the target variable\n",
    "                #  calculates the weights or coefficients for each feature that best fit the data\n",
    "                #  In summary, LogReg.fit(X,Y) is used to train a logistic regression mode"
   ]
  },
  {
   "cell_type": "code",
   "execution_count": 81,
   "id": "58c9a422",
   "metadata": {},
   "outputs": [
    {
     "data": {
      "text/plain": [
       "array([1, 0, 0, 1, 1, 1, 0, 0, 0, 0], dtype=int64)"
      ]
     },
     "execution_count": 81,
     "metadata": {},
     "output_type": "execute_result"
    }
   ],
   "source": [
    "LogReg.predict(X)  # function uses trained LRM to predict the target variable for new set of input data X\n",
    "                   # It takes the input data as an argument and returns the predicted class labels for the data\n",
    "                   # The predicted class labels are calculated using the learned weights or coefficients from the LRM \n",
    "                   # function to evaluate the performance of the trained model on new, unseen data\n",
    "                # This helps us to determine how well the model is able to generalize to new data and make accurate predictions\n",
    "                   # In summary, LogReg.predict(X) is used to predict the class labels for new input data."
   ]
  },
  {
   "cell_type": "code",
   "execution_count": 75,
   "id": "707e86ad",
   "metadata": {},
   "outputs": [
    {
     "data": {
      "text/plain": [
       "array([[9.83021468e-03, 9.90169785e-01],\n",
       "       [9.97510857e-01, 2.48914260e-03],\n",
       "       [9.65838245e-01, 3.41617551e-02],\n",
       "       [2.78726303e-02, 9.72127370e-01],\n",
       "       [1.22414123e-09, 9.99999999e-01],\n",
       "       [0.00000000e+00, 1.00000000e+00],\n",
       "       [9.99987580e-01, 1.24199398e-05],\n",
       "       [9.99136712e-01, 8.63287816e-04],\n",
       "       [9.99823984e-01, 1.76015967e-04],\n",
       "       [1.00000000e+00, 3.07687863e-10]])"
      ]
     },
     "execution_count": 75,
     "metadata": {},
     "output_type": "execute_result"
    }
   ],
   "source": [
    "LogReg.predict_proba(X)   # function is used to predict the probabilities of the class labels for a new set of input data X, \n",
    "                          # using a logistic regression model that has been previously trained on some training data.\n",
    "                        "
   ]
  },
  {
   "cell_type": "markdown",
   "id": "b631eaad",
   "metadata": {},
   "source": [
    "steps \n",
    "\n",
    "\n",
    "1.  load dataset\n",
    "2.  x= df[feature] , y=df[target]\n",
    "3.  xbar= np.mean(x), ybar= np.mean(y)\n",
    "4.  beta1= (np.sum((x-xbar)*(y-ybar)))/(sn.sum(x-xbar))\n",
    "5.  beta0= ybar - beta1*x\n",
    "6.  ypred= beta0+beta1*x\n",
    "7.  import liblary ----------from sklearn.linear_model import LogisticRegression\n",
    "8.  X=df1[['glu']]  ,    Y=df1['class']\n",
    "9.  define -------------LogReg=LogisticRegression()\n",
    "10.  LogReg.fit(X,Y)\n",
    "11. LogReg.predict(X)\n",
    "12. LogReg.predict_proba(X)"
   ]
  },
  {
   "cell_type": "code",
   "execution_count": null,
   "id": "8233d844",
   "metadata": {},
   "outputs": [],
   "source": []
  },
  {
   "cell_type": "markdown",
   "id": "9bd0ba7b",
   "metadata": {},
   "source": [
    "# DAY2"
   ]
  },
  {
   "cell_type": "code",
   "execution_count": null,
   "id": "f1107dfc",
   "metadata": {},
   "outputs": [],
   "source": [
    "import numpy as np \n",
    "import pandas as pd\n",
    "import seaborn as sns \n",
    "import matplotlib.pyplot as plt\n",
    "import statsmodels.api as sm\n",
    "import scipy.stats as stats\n",
    "from statsmodels.stats.outliers_influence import variance_inflation_factor as VIF\n",
    "import statistics as stats"
   ]
  },
  {
   "cell_type": "code",
   "execution_count": null,
   "id": "ae5dca6f",
   "metadata": {},
   "outputs": [],
   "source": [
    "# inferential statistics\n",
    "n=800\n",
    "xbar=1085000\n",
    "s=125000\n",
    "sig_lvl=0.05\n",
    "# To estimate the avg sal of 5 yrs exp. DS working in India,\n",
    "# give the 95% CI range of 5 yrs exp DS sal working in India"
   ]
  },
  {
   "cell_type": "code",
   "execution_count": null,
   "id": "f0983eb4",
   "metadata": {},
   "outputs": [],
   "source": [
    "# Q2\n",
    "# Swiggy BLR want to study their delivery quality and applying for certification operation team expects their avg delivery time \n",
    "# to any pact of BLR is within 40 min. Qa team randomly picks past data n=1500 with mean del. time 38.8min with sd=12 min \n",
    "# Does swiggy Dataset rejects their Quality std\n",
    "\n",
    "n=1500\n",
    "xbar=38.8\n",
    "s=12\n",
    "mu=40\n",
    "sig_lvl=0.05\n",
    "# h0 - the avg delivery time greater than and equal to 40 \n",
    "# ha - the avg delivery time less than 40 min \n"
   ]
  },
  {
   "cell_type": "code",
   "execution_count": null,
   "id": "7f41824e",
   "metadata": {},
   "outputs": [],
   "source": [
    "# covishield want  to study their effectiveness of their vaccice scientist expects the immunity level of 1 st dose will be \n",
    "# effective for 240 days Random volanteries n=2000 have called and studied their reinfection cares  1st dosage found to be 235 days\n",
    "# within sd= 15 days  does the scientist  expectation holds good \n",
    "\n",
    "n=2000\n",
    "mu=240\n",
    "xbar=235\n",
    "std_dev=15\n",
    "sig_lvl=0.05\n",
    "# h0: the immunity of 1st dose will be effective less than equal to for 240 days \n",
    "# ha: the immunity of 1st dose will effective greater than 240 days\n",
    "t= ((xbar)-mu)/(std_dev/np.sqrt(n))\n",
    "t"
   ]
  },
  {
   "cell_type": "code",
   "execution_count": null,
   "id": "2da3e318",
   "metadata": {},
   "outputs": [],
   "source": [
    "np.sqrt(2000)"
   ]
  },
  {
   "cell_type": "code",
   "execution_count": null,
   "id": "6d472eb2",
   "metadata": {},
   "outputs": [],
   "source": [
    "15/44.7213"
   ]
  },
  {
   "cell_type": "code",
   "execution_count": null,
   "id": "c0e6a7da",
   "metadata": {},
   "outputs": [],
   "source": [
    "0.8/0.335"
   ]
  },
  {
   "cell_type": "code",
   "execution_count": null,
   "id": "c548a514",
   "metadata": {},
   "outputs": [],
   "source": []
  },
  {
   "cell_type": "code",
   "execution_count": null,
   "id": "90fdb97f",
   "metadata": {},
   "outputs": [],
   "source": []
  },
  {
   "cell_type": "code",
   "execution_count": null,
   "id": "64edde7c",
   "metadata": {},
   "outputs": [],
   "source": []
  },
  {
   "cell_type": "code",
   "execution_count": null,
   "id": "c48bff4a",
   "metadata": {},
   "outputs": [],
   "source": []
  },
  {
   "cell_type": "code",
   "execution_count": null,
   "id": "8ef6bf21",
   "metadata": {},
   "outputs": [],
   "source": []
  },
  {
   "cell_type": "code",
   "execution_count": null,
   "id": "216ff57e",
   "metadata": {},
   "outputs": [],
   "source": []
  },
  {
   "cell_type": "markdown",
   "id": "2211b4e8",
   "metadata": {},
   "source": [
    "# DAY3"
   ]
  },
  {
   "cell_type": "code",
   "execution_count": 1,
   "id": "d2de8390",
   "metadata": {},
   "outputs": [],
   "source": [
    "import numpy as np \n",
    "import pandas as pd\n",
    "import seaborn as sns \n",
    "import matplotlib.pyplot as plt\n",
    "import statsmodels.api as sm\n",
    "import scipy.stats as stats\n",
    "from statsmodels.stats.outliers_influence import variance_inflation_factor as VIF\n",
    "import statistics as stats"
   ]
  },
  {
   "cell_type": "code",
   "execution_count": null,
   "id": "df4803b4",
   "metadata": {},
   "outputs": [],
   "source": [
    "df=pd.DataFrame({'age':[32,45,28,30,54,24,65,20,48,50],\n",
    "                 'bmi':[6.2,7.2,4.3,4.5,8.2,4.1,6.3,5.5,6.5,7.2],\n",
    "                 'class':[1,1,0,0,1,0,1,0,1,1]})"
   ]
  },
  {
   "cell_type": "code",
   "execution_count": null,
   "id": "6cdbc0eb",
   "metadata": {},
   "outputs": [],
   "source": [
    "df.head()"
   ]
  },
  {
   "cell_type": "code",
   "execution_count": null,
   "id": "17c94183",
   "metadata": {},
   "outputs": [],
   "source": [
    "np.mean(df['age'])"
   ]
  },
  {
   "cell_type": "code",
   "execution_count": null,
   "id": "52576ef2",
   "metadata": {},
   "outputs": [],
   "source": [
    "np.mean(df['bmi'])"
   ]
  },
  {
   "cell_type": "code",
   "execution_count": null,
   "id": "4c9516ca",
   "metadata": {},
   "outputs": [],
   "source": [
    "df.head()"
   ]
  },
  {
   "cell_type": "code",
   "execution_count": null,
   "id": "4123817b",
   "metadata": {},
   "outputs": [],
   "source": [
    "df_healthy=df[df['class']==0]\n",
    "df_healthy"
   ]
  },
  {
   "cell_type": "code",
   "execution_count": null,
   "id": "e52ab566",
   "metadata": {},
   "outputs": [],
   "source": [
    "df_diab=df[df['class']==1]\n",
    "df_diab"
   ]
  },
  {
   "cell_type": "code",
   "execution_count": null,
   "id": "22e34157",
   "metadata": {},
   "outputs": [],
   "source": [
    "df_healthy.describe()"
   ]
  },
  {
   "cell_type": "code",
   "execution_count": null,
   "id": "78eb2ce7",
   "metadata": {},
   "outputs": [],
   "source": [
    "df_diab.describe()"
   ]
  },
  {
   "cell_type": "code",
   "execution_count": null,
   "id": "226be452",
   "metadata": {},
   "outputs": [],
   "source": [
    "# Gaussian Probablity Density Function \n",
    "def my_gpdf(x,mean,sd):\n",
    "    exponent=np.exp(-((x-mean)**2/(2*sd**2)))\n",
    "    return (1/(np.sqrt(2*np.pi)*sd))*exponent\n",
    "    "
   ]
  },
  {
   "cell_type": "code",
   "execution_count": null,
   "id": "46e61e4b",
   "metadata": {},
   "outputs": [],
   "source": [
    "# for age 30 and bmi 4.5 "
   ]
  },
  {
   "cell_type": "code",
   "execution_count": null,
   "id": "473552e5",
   "metadata": {},
   "outputs": [],
   "source": [
    "test_age=(30-df['age'].mean())/df['age'].std()      # we have to perform this we have to run df and then\n",
    "test_age"
   ]
  },
  {
   "cell_type": "code",
   "execution_count": null,
   "id": "cae7579a",
   "metadata": {},
   "outputs": [],
   "source": [
    "test_bmi=4.5-df['bmi'].mean()/df['bmi'].std()\n",
    "test_bmi"
   ]
  },
  {
   "cell_type": "code",
   "execution_count": null,
   "id": "7a0c8757",
   "metadata": {},
   "outputs": [],
   "source": [
    "my_gpdf(-0.648,-0.952,0.29)"
   ]
  },
  {
   "cell_type": "code",
   "execution_count": null,
   "id": "574c01c3",
   "metadata": {},
   "outputs": [],
   "source": [
    "my_gpdf(-0.648,0.6349,0.7325)"
   ]
  },
  {
   "cell_type": "code",
   "execution_count": null,
   "id": "3c631d7a",
   "metadata": {},
   "outputs": [],
   "source": [
    "# for healthy  and diabetic age 50 and bmi 6.8"
   ]
  },
  {
   "cell_type": "code",
   "execution_count": null,
   "id": "98c6d594",
   "metadata": {},
   "outputs": [],
   "source": [
    "test_age=(50-df['age'].mean())/df['age'].std()        # we have to perform this we have to run df and then\n",
    "test_age"
   ]
  },
  {
   "cell_type": "code",
   "execution_count": null,
   "id": "702d3aea",
   "metadata": {},
   "outputs": [],
   "source": [
    "test_bmi= (6.8-df['bmi'].mean())/df['bmi'].std()\n",
    "test_bmi"
   ]
  },
  {
   "cell_type": "code",
   "execution_count": null,
   "id": "8be52782",
   "metadata": {},
   "outputs": [],
   "source": [
    "my_gpdf(0.702,0.6349,0.7325)*my_gpdf(0.58,0.677,0.549)*0.6"
   ]
  },
  {
   "cell_type": "code",
   "execution_count": null,
   "id": "e90766ce",
   "metadata": {},
   "outputs": [],
   "source": [
    "my_gpdf(0.702,-0.952,0.29)*my_gpdf(0.58,-1.01,0.4511)*0.4"
   ]
  },
  {
   "cell_type": "code",
   "execution_count": null,
   "id": "1d084f00",
   "metadata": {},
   "outputs": [],
   "source": []
  },
  {
   "cell_type": "markdown",
   "id": "67a9c3a0",
   "metadata": {},
   "source": [
    "# DAY4"
   ]
  },
  {
   "cell_type": "code",
   "execution_count": 31,
   "id": "c7e60ad6",
   "metadata": {},
   "outputs": [],
   "source": [
    "from sklearn.ensemble import RandomForestClassifier,BaggingClassifier,AdaBoostClassifier,GradientBoostingClassifier\n",
    "from sklearn.model_selection import KFold\n",
    "from sklearn.model_selection import train_test_split"
   ]
  },
  {
   "cell_type": "code",
   "execution_count": 6,
   "id": "da83b222",
   "metadata": {},
   "outputs": [],
   "source": [
    "age=np.array([13,14,15,25,35,49,68,71,73])"
   ]
  },
  {
   "cell_type": "code",
   "execution_count": 15,
   "id": "2fbe9b8d",
   "metadata": {},
   "outputs": [],
   "source": [
    "a=np.mean(age)"
   ]
  },
  {
   "cell_type": "code",
   "execution_count": 16,
   "id": "e6088559",
   "metadata": {
    "scrolled": true
   },
   "outputs": [
    {
     "data": {
      "text/plain": [
       "577.1111111111111"
      ]
     },
     "execution_count": 16,
     "metadata": {},
     "output_type": "execute_result"
    }
   ],
   "source": [
    "np.mean((age-a)**2)"
   ]
  },
  {
   "cell_type": "code",
   "execution_count": 26,
   "id": "68c351f9",
   "metadata": {},
   "outputs": [
    {
     "data": {
      "text/plain": [
       "19.25"
      ]
     },
     "execution_count": 26,
     "metadata": {},
     "output_type": "execute_result"
    }
   ],
   "source": [
    "(13+14+15+35)/4"
   ]
  },
  {
   "cell_type": "code",
   "execution_count": 28,
   "id": "30fca612",
   "metadata": {},
   "outputs": [
    {
     "data": {
      "text/plain": [
       "57.2"
      ]
     },
     "execution_count": 28,
     "metadata": {},
     "output_type": "execute_result"
    }
   ],
   "source": [
    "(25+49+68+71+73)/5"
   ]
  },
  {
   "cell_type": "code",
   "execution_count": 18,
   "id": "435c3f32",
   "metadata": {},
   "outputs": [
    {
     "data": {
      "text/plain": [
       "array([19.25, 19.25, 19.25, 57.2 , 19.25, 57.2 , 57.2 , 57.2 , 57.2 ])"
      ]
     },
     "execution_count": 18,
     "metadata": {},
     "output_type": "execute_result"
    }
   ],
   "source": [
    "#est1_pred\n",
    "y1_pred=np.array([19.25,19.25,19.25,57.2,19.25,57.2,57.2,57.2,57.2])\n",
    "y1_pred"
   ]
  },
  {
   "cell_type": "code",
   "execution_count": 19,
   "id": "d42479b6",
   "metadata": {},
   "outputs": [
    {
     "data": {
      "text/plain": [
       "221.50555555555556"
      ]
     },
     "execution_count": 19,
     "metadata": {},
     "output_type": "execute_result"
    }
   ],
   "source": [
    "np.mean((age-y1_pred)**2)"
   ]
  },
  {
   "cell_type": "code",
   "execution_count": 20,
   "id": "46bff080",
   "metadata": {},
   "outputs": [
    {
     "data": {
      "text/plain": [
       "array([ -6.25,  -5.25,  -4.25, -32.2 ,  15.75,  -8.2 ,  10.8 ,  13.8 ,\n",
       "        15.8 ])"
      ]
     },
     "execution_count": 20,
     "metadata": {},
     "output_type": "execute_result"
    }
   ],
   "source": [
    "(age-y1_pred)"
   ]
  },
  {
   "cell_type": "code",
   "execution_count": 24,
   "id": "cfe426c2",
   "metadata": {},
   "outputs": [
    {
     "data": {
      "text/plain": [
       "array([15.68, 15.68, 15.68, 53.63, 15.68, 64.33, 53.63, 64.33, 64.33])"
      ]
     },
     "execution_count": 24,
     "metadata": {},
     "output_type": "execute_result"
    }
   ],
   "source": [
    "#combined_pred\n",
    "y_pred_out=np.array([15.68,15.68,15.68,53.63,15.68,64.33,53.63,64.33,64.33])\n",
    "y_pred_out"
   ]
  },
  {
   "cell_type": "code",
   "execution_count": 25,
   "id": "6c2a2153",
   "metadata": {},
   "outputs": [
    {
     "data": {
      "text/plain": [
       "196.06334444444448"
      ]
     },
     "execution_count": 25,
     "metadata": {},
     "output_type": "execute_result"
    }
   ],
   "source": [
    "np.mean((age-y_pred_out)**2)"
   ]
  },
  {
   "cell_type": "code",
   "execution_count": 36,
   "id": "22eadf77",
   "metadata": {},
   "outputs": [],
   "source": [
    "# gboost_model = GradientBoostingClassifier(n_estimators = 100, max_depth = 3, random_state = 8)\n",
    "# # X_train, X_test, y_train, y_test = train_test_split(X, df_target, random_state = 10, test_size = 0.2)\n",
    "# # # fit the model using fit() on train data\n",
    "# # gboost_model.fit(X_train, y_train)\n",
    "\n",
    "# y_pred_gb = gboost_model.predict(X_test)\n",
    "\n",
    "# print('The accuracy score is ', round(accuracy_score(y_test, y_pred_gb), 4))"
   ]
  },
  {
   "cell_type": "code",
   "execution_count": 15,
   "id": "b1d6bd25",
   "metadata": {},
   "outputs": [
    {
     "data": {
      "text/html": [
       "<div>\n",
       "<style scoped>\n",
       "    .dataframe tbody tr th:only-of-type {\n",
       "        vertical-align: middle;\n",
       "    }\n",
       "\n",
       "    .dataframe tbody tr th {\n",
       "        vertical-align: top;\n",
       "    }\n",
       "\n",
       "    .dataframe thead th {\n",
       "        text-align: right;\n",
       "    }\n",
       "</style>\n",
       "<table border=\"1\" class=\"dataframe\">\n",
       "  <thead>\n",
       "    <tr style=\"text-align: right;\">\n",
       "      <th></th>\n",
       "      <th>Gender</th>\n",
       "      <th>Smoker</th>\n",
       "    </tr>\n",
       "  </thead>\n",
       "  <tbody>\n",
       "    <tr>\n",
       "      <th>0</th>\n",
       "      <td>10</td>\n",
       "      <td>1</td>\n",
       "    </tr>\n",
       "  </tbody>\n",
       "</table>\n",
       "</div>"
      ],
      "text/plain": [
       "   Gender  Smoker\n",
       "0      10       1"
      ]
     },
     "execution_count": 15,
     "metadata": {},
     "output_type": "execute_result"
    }
   ],
   "source": [
    "import pandas as pd\n",
    "# df=pd.DataFrame({'Gender':10,\n",
    "#                  'smoker':1})    If using all scalar values, you must pass an index\n",
    "\n",
    "import pandas as pd\n",
    "\n",
    "df= pd.DataFrame({'Gender': [10],\n",
    "                   'Smoker': [1]})\n",
    "df"
   ]
  },
  {
   "cell_type": "markdown",
   "id": "eb01cefe",
   "metadata": {},
   "source": [
    "# Harshal work"
   ]
  },
  {
   "cell_type": "markdown",
   "id": "2cbc324d",
   "metadata": {},
   "source": [
    "# Odds Ratio"
   ]
  },
  {
   "cell_type": "code",
   "execution_count": 2,
   "id": "7d76b85f",
   "metadata": {},
   "outputs": [
    {
     "name": "stdout",
     "output_type": "stream",
     "text": [
      "Odds Ratio: 4.0\n"
     ]
    }
   ],
   "source": [
    "import numpy as np\n",
    "\n",
    "# Define the number of events in each group\n",
    "\n",
    "event_group1 = 50\n",
    "non_event_group1 = 50\n",
    "event_group2 = 20\n",
    "non_event_group2 = 80\n",
    "\n",
    "# Calculate the odds ratio\n",
    "odds_ratio = (event_group1 / non_event_group1) / (event_group2 / non_event_group2)\n",
    "\n",
    "print(\"Odds Ratio:\", odds_ratio)\n"
   ]
  },
  {
   "cell_type": "code",
   "execution_count": null,
   "id": "556f0ac1",
   "metadata": {},
   "outputs": [],
   "source": []
  }
 ],
 "metadata": {
  "kernelspec": {
   "display_name": "Python 3 (ipykernel)",
   "language": "python",
   "name": "python3"
  },
  "language_info": {
   "codemirror_mode": {
    "name": "ipython",
    "version": 3
   },
   "file_extension": ".py",
   "mimetype": "text/x-python",
   "name": "python",
   "nbconvert_exporter": "python",
   "pygments_lexer": "ipython3",
   "version": "3.9.13"
  }
 },
 "nbformat": 4,
 "nbformat_minor": 5
}
