{
 "cells": [
  {
   "cell_type": "code",
   "execution_count": null,
   "id": "8ac7ceaa",
   "metadata": {},
   "outputs": [],
   "source": [
    "import numpy as np\n",
    "np.random.seed(0)\n",
    "from sklearn import preprocessing\n",
    "import statsmodels.api as sm\n",
    "import pandas as pd\n",
    "#!pip install plot_metric\n",
    "#from plot_metric.functions import BinaryClassification\n",
    "from sklearn.metrics import confusion_matrix, roc_auc_score, plot_roc_curve\n",
    "import matplotlib.pyplot as plt\n",
    "import warnings\n",
    "warnings.filterwarnings('ignore')\n",
    "from sklearn.linear_model import LogisticRegression\n",
    "from sklearn.linear_model import LogisticRegression\n"
   ]
  },
  {
   "cell_type": "code",
   "execution_count": null,
   "id": "2e950430",
   "metadata": {},
   "outputs": [],
   "source": [
    "x = np.array([25, 66, 77, 55, 70, 30, 42, 37, 18, 26, 21, 29, 34, 90, 48, 50, 52, 55, 57, 61])\n",
    "y = np.array(['N','Y','Y','N','Y','N','Y','Y','N','N','N','Y','N','Y','N','Y','Y','N','Y','N'])\n",
    "\n",
    "df=pd.DataFrame({'Age':x,'Stroke_y':y})\n"
   ]
  },
  {
   "cell_type": "code",
   "execution_count": null,
   "id": "873fe67f",
   "metadata": {},
   "outputs": [],
   "source": [
    "df['Stroke_y'] = preprocessing.LabelEncoder().fit_transform(df['Stroke_y'])\n"
   ]
  },
  {
   "cell_type": "code",
   "execution_count": null,
   "id": "d29c9b3d",
   "metadata": {},
   "outputs": [],
   "source": [
    "# X is a dataframe, Y is a numpy array\n",
    "X = df[['Age']]\n",
    "X = sm.add_constant(X)\n",
    "y = df.Stroke_y\n",
    "df.rename(columns={'Stroke_y':'y'},inplace=True)\n"
   ]
  },
  {
   "cell_type": "code",
   "execution_count": null,
   "id": "d874f5cd",
   "metadata": {},
   "outputs": [],
   "source": [
    "X"
   ]
  },
  {
   "cell_type": "code",
   "execution_count": null,
   "id": "095a332f",
   "metadata": {},
   "outputs": [],
   "source": [
    "y"
   ]
  },
  {
   "cell_type": "markdown",
   "id": "2e031ca4",
   "metadata": {},
   "source": [
    "### 1.Using statsmodel"
   ]
  },
  {
   "cell_type": "code",
   "execution_count": null,
   "id": "7a213039",
   "metadata": {},
   "outputs": [],
   "source": [
    "model = sm.Logit(y,X).fit()"
   ]
  },
  {
   "cell_type": "code",
   "execution_count": null,
   "id": "026b76de",
   "metadata": {},
   "outputs": [],
   "source": [
    "model.summary()"
   ]
  },
  {
   "cell_type": "code",
   "execution_count": null,
   "id": "2445cca6",
   "metadata": {},
   "outputs": [],
   "source": [
    "b0 = -3.1529    # b0 is intercept\n",
    "b1 = 0.0676     # b1 is coefficient\n",
    "\n",
    "z = b0 + b1 * X.Age\n",
    "df['prob_y=1']=np.exp(z) / (1 + np.exp(z))"
   ]
  },
  {
   "cell_type": "code",
   "execution_count": null,
   "id": "ff3e2343",
   "metadata": {},
   "outputs": [],
   "source": [
    "model.predict(X) # probabilities for Y=1"
   ]
  },
  {
   "cell_type": "code",
   "execution_count": null,
   "id": "698dcf2b",
   "metadata": {},
   "outputs": [],
   "source": [
    "df['prob_y=0']=1-df['prob_y=1']\n",
    "df"
   ]
  },
  {
   "cell_type": "code",
   "execution_count": null,
   "id": "a5798545",
   "metadata": {},
   "outputs": [],
   "source": [
    "df['likelihood']=df['y']"
   ]
  },
  {
   "cell_type": "code",
   "execution_count": null,
   "id": "e1825b03",
   "metadata": {},
   "outputs": [],
   "source": [
    "# likelihood is probability of our actual 'y' \n",
    "\n",
    "for i in range(len(df['y'])):\n",
    "    if df['y'][i]==1:\n",
    "        df['likelihood'][i]=df['prob_y=1'][i]\n",
    "    else:\n",
    "        df['likelihood'][i]=df['prob_y=0'][i]"
   ]
  },
  {
   "cell_type": "code",
   "execution_count": null,
   "id": "744350c4",
   "metadata": {},
   "outputs": [],
   "source": [
    "df"
   ]
  },
  {
   "cell_type": "code",
   "execution_count": null,
   "id": "a42a0a72",
   "metadata": {},
   "outputs": [],
   "source": [
    "df['log_of_likelihood']=np.log(df['likelihood'])\n",
    "df"
   ]
  },
  {
   "cell_type": "code",
   "execution_count": null,
   "id": "c1643424",
   "metadata": {},
   "outputs": [],
   "source": [
    "df['log_of_likelihood'].sum()"
   ]
  },
  {
   "cell_type": "code",
   "execution_count": null,
   "id": "4005bac5",
   "metadata": {},
   "outputs": [],
   "source": [
    "df['prob'] = model.predict(X)\n",
    "df[df.prob < 0.5]\n",
    "model.aic\n"
   ]
  },
  {
   "cell_type": "code",
   "execution_count": null,
   "id": "ac691a3f",
   "metadata": {},
   "outputs": [],
   "source": [
    "df_roc = pd.DataFrame(columns=['Threshold', 'TP', 'TN', 'FP', 'FN', 'TPR', 'FPR'])"
   ]
  },
  {
   "cell_type": "markdown",
   "id": "e242f03e",
   "metadata": {},
   "source": [
    "### ROC curve (receiver operating characteristics curve) is a graph showing the performance of a classification model at all classification thresholds."
   ]
  },
  {
   "cell_type": "code",
   "execution_count": null,
   "id": "8adc9b13",
   "metadata": {},
   "outputs": [],
   "source": [
    "for threshold in np.arange(0, 1.1, 0.1):\n",
    "    y_pred = (df['prob'] > threshold).astype(int)\n",
    "    cm = confusion_matrix(y, y_pred)\n",
    "    TP = cm[1, 1]\n",
    "    TN = cm[0, 0]\n",
    "    FP = cm[0, 1]\n",
    "    FN = cm[1, 0]\n",
    "    TPR = TP / (TP + FN)\n",
    "    FPR = FP / (FP + TN)\n",
    "    df_roc = df_roc.append({'Threshold': threshold, 'TP': TP, 'TN': TN, 'FP': FP, 'FN': FN, 'TPR': TPR, 'FPR': FPR}, ignore_index=True)\n",
    "df_roc"
   ]
  },
  {
   "cell_type": "code",
   "execution_count": null,
   "id": "d9fd5f7a",
   "metadata": {},
   "outputs": [],
   "source": [
    "# AUC stands for Area under the ROC curve\n",
    "\n",
    "auc = roc_auc_score(y, df['prob'])\n",
    "auc"
   ]
  },
  {
   "cell_type": "code",
   "execution_count": null,
   "id": "8b658096",
   "metadata": {},
   "outputs": [],
   "source": [
    "# Plot ROC curve from df_ROC\n",
    "plt.plot(df_roc['FPR'], df_roc['TPR'], label=f'AUC={auc:.2f}')\n",
    "plt.xlabel('False Positive Rate')\n",
    "plt.ylabel('True Positive Rate')\n",
    "plt.title('ROC Curve')\n",
    "plt.legend()\n",
    "plt.show()"
   ]
  },
  {
   "cell_type": "code",
   "execution_count": null,
   "id": "ee5d14a1",
   "metadata": {},
   "outputs": [],
   "source": [
    "df_roc['TPR'] = df_roc.TP / (df_roc.TP+df_roc.FN)\n",
    "df_roc['FPR'] = df_roc.FP / (df_roc.TN+df_roc.FP)"
   ]
  },
  {
   "cell_type": "code",
   "execution_count": null,
   "id": "52f4bb01",
   "metadata": {},
   "outputs": [],
   "source": [
    "df_roc"
   ]
  },
  {
   "cell_type": "code",
   "execution_count": null,
   "id": "bc676644",
   "metadata": {},
   "outputs": [],
   "source": [
    "# for a given threshold, confusion matrix\n",
    "Threshold = 0.5\n",
    "df_roc[df_roc.Threshold==Threshold][['Threshold','TP','TN','FP','FN']]\n"
   ]
  },
  {
   "cell_type": "code",
   "execution_count": null,
   "id": "67c7d3e7",
   "metadata": {},
   "outputs": [],
   "source": [
    "# as TPR - FPR is more, threshold is better. one method of selecting threshold is this.\n",
    "df_roc['(TPR-FPR)']=(df_roc.TPR - df_roc.FPR)\n",
    "df_roc"
   ]
  },
  {
   "cell_type": "markdown",
   "id": "f8009df1",
   "metadata": {},
   "source": [
    "### The threshold of 0.3 yields the highest value for the difference between the true positive rate and false positive rate. Therefore, using a threshold of 0.3 in this model would result in the highest accuracy."
   ]
  },
  {
   "cell_type": "code",
   "execution_count": null,
   "id": "629288e8",
   "metadata": {},
   "outputs": [],
   "source": [
    "# Plot histogram of predicted probabilities for each true class\n",
    "plt.hist(df['prob'][y==1], alpha=0.5, label='True Negative')\n",
    "plt.hist(df['prob'][y==0], alpha=0.5, label='True Positive')\n",
    "plt.legend()\n",
    "plt.xlabel('Predicted Probability')\n",
    "plt.ylabel('Count')\n",
    "plt.title('Distribution of Predicted Probabilities')\n",
    "plt.show()"
   ]
  },
  {
   "cell_type": "code",
   "execution_count": null,
   "id": "a04ab30b",
   "metadata": {},
   "outputs": [],
   "source": []
  },
  {
   "cell_type": "markdown",
   "id": "f1c21fe8",
   "metadata": {},
   "source": [
    "### ROC curve by library "
   ]
  },
  {
   "cell_type": "code",
   "execution_count": null,
   "id": "6675593f",
   "metadata": {},
   "outputs": [],
   "source": [
    "# Visualisation with plot_metric\n",
    "bc = BinaryClassification(y, model.predict(X), labels=[\"0\", \"1\"])\n",
    "\n",
    "# Figures\n",
    "plt.figure(figsize=(5,5))\n",
    "bc.plot_roc_curve()\n",
    "plt.show()"
   ]
  },
  {
   "cell_type": "markdown",
   "id": "c46f7dd2",
   "metadata": {},
   "source": [
    "### 2. Using sklearn library"
   ]
  },
  {
   "cell_type": "code",
   "execution_count": null,
   "id": "bdb6c394",
   "metadata": {},
   "outputs": [],
   "source": [
    "X = df[['Age', 'y']]\n",
    "y= df[['y']]"
   ]
  },
  {
   "cell_type": "code",
   "execution_count": null,
   "id": "47b07899",
   "metadata": {},
   "outputs": [],
   "source": [
    "from sklearn.linear_model import LogisticRegression\n",
    "\n",
    "lr = LogisticRegression()\n",
    "model = lr.fit(X,y)"
   ]
  },
  {
   "cell_type": "code",
   "execution_count": null,
   "id": "a6af30bb",
   "metadata": {},
   "outputs": [],
   "source": [
    "df2 = df[['Age', 'y']]"
   ]
  },
  {
   "cell_type": "code",
   "execution_count": null,
   "id": "36a2c9ba",
   "metadata": {},
   "outputs": [],
   "source": [
    "df2['prob'] = model.predict_proba(X)[:,1]"
   ]
  },
  {
   "cell_type": "code",
   "execution_count": null,
   "id": "b46c725d",
   "metadata": {},
   "outputs": [],
   "source": [
    "df2"
   ]
  },
  {
   "cell_type": "code",
   "execution_count": null,
   "id": "b458f14b",
   "metadata": {},
   "outputs": [],
   "source": [
    "df_ROC = pd.DataFrame(columns=['Threshold', 'TP', 'TN', 'FP', 'FN', 'TPR', 'FPR'])"
   ]
  },
  {
   "cell_type": "code",
   "execution_count": null,
   "id": "e3eeac30",
   "metadata": {},
   "outputs": [],
   "source": [
    "# Loop through different thresholds and calculate metrics\n",
    "for threshold in np.arange(0, 1.1, 0.1):\n",
    "    y_pred = (df2['prob'] > threshold).astype(int)\n",
    "    cm = confusion_matrix(y, y_pred)\n",
    "    TP = cm[1, 1]\n",
    "    TN = cm[0, 0]\n",
    "    FP = cm[0, 1]\n",
    "    FN = cm[1, 0]\n",
    "    TPR = TP / (TP + FN)\n",
    "    FPR = FP / (FP + TN)\n",
    "    df_ROC = df_ROC.append({'Threshold': threshold, 'TP': TP, 'TN': TN, 'FP': FP, 'FN': FN, 'TPR': TPR, 'FPR': FPR}, ignore_index=True)"
   ]
  },
  {
   "cell_type": "code",
   "execution_count": null,
   "id": "493a7640",
   "metadata": {},
   "outputs": [],
   "source": [
    "auc = roc_auc_score(y, df2['prob'])\n",
    "# Print ROC curve and AUC\n",
    "print(df_ROC)\n",
    "print('AUC:', auc)"
   ]
  },
  {
   "cell_type": "code",
   "execution_count": null,
   "id": "3004e52f",
   "metadata": {},
   "outputs": [],
   "source": [
    "# Plot ROC curve from df_ROC\n",
    "plt.plot(df_ROC['FPR'], df_ROC['TPR'], label=f'AUC={auc:.2f}')\n",
    "plt.xlabel('False Positive Rate')\n",
    "plt.ylabel('True Positive Rate')\n",
    "plt.title('ROC Curve')\n",
    "plt.legend()\n",
    "plt.show()"
   ]
  }
 ],
 "metadata": {
  "kernelspec": {
   "display_name": "Python 3 (ipykernel)",
   "language": "python",
   "name": "python3"
  },
  "language_info": {
   "codemirror_mode": {
    "name": "ipython",
    "version": 3
   },
   "file_extension": ".py",
   "mimetype": "text/x-python",
   "name": "python",
   "nbconvert_exporter": "python",
   "pygments_lexer": "ipython3",
   "version": "3.9.13"
  }
 },
 "nbformat": 4,
 "nbformat_minor": 5
}
