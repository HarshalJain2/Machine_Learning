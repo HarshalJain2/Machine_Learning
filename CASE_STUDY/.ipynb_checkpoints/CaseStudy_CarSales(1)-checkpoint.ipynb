{
 "cells": [
  {
   "cell_type": "code",
   "execution_count": null,
   "id": "017c93c2",
   "metadata": {},
   "outputs": [],
   "source": [
    "from sklearn.preprocessing import \n"
   ]
  },
  {
   "cell_type": "code",
   "execution_count": 65,
   "id": "838b2856",
   "metadata": {},
   "outputs": [],
   "source": [
    "import pandas as pd\n",
    "\n",
    "# import 'Numpy'\n",
    "import numpy as np\n",
    "\n",
    "# import 'matplotlib.pyplot'\n",
    "import matplotlib.pyplot as plt\n",
    "\n",
    "# import 'Seaborn'\n",
    "import seaborn as sns\n",
    "\n",
    "# to suppress warnings\n",
    "from warnings import filterwarnings\n",
    "filterwarnings('ignore')\n",
    "\n",
    "# display all columns of the dataframe\n",
    "pd.options.display.max_columns = None\n",
    "\n",
    "# display all rows of the dataframe\n",
    "pd.options.display.max_rows = None\n",
    " \n",
    "# to suppress the notation 'e'    \n",
    "pd.options.display.float_format = '{:.6f}'.format\n",
    "\n",
    "# import various metrics from 'Scikit-learn' (sklearn)\n",
    "from sklearn.model_selection import train_test_split\n",
    "\n",
    "# 'Statsmodels' is used to build and analyze various statistical models\n",
    "import statsmodels\n",
    "import statsmodels.api as sm\n",
    "import statsmodels.stats.api as sms\n",
    "import statsmodels.formula.api as smf\n",
    "##from statsmodels.tools.eval_measures import rmse\n",
    "##from statsmodels.compat import lzip\n",
    "from statsmodels.stats.outliers_influence import variance_inflation_factor as VIF\n",
    "##from statsmodels.stats.diagnostic import linear_rainbow\n",
    "##import statsmodels.tsa.api as smt\n",
    "##from statsmodels.graphics.gofplots import qqplot\n",
    "##from statsmodels.stats.stattools import durbin_watson\n",
    "\n",
    "# 'SciPy' is used to perform scientific computations\n",
    "from scipy import stats\n",
    "from scipy.stats import shapiro\n",
    "\n",
    "# 'metrics' from sklearn is used for evaluating the model performance\n",
    "from sklearn.metrics import mean_absolute_error\n",
    "from sklearn.metrics import mean_squared_error"
   ]
  },
  {
   "cell_type": "raw",
   "id": "1249484f",
   "metadata": {},
   "source": []
  },
  {
   "cell_type": "code",
   "execution_count": 3,
   "id": "9847cf4d",
   "metadata": {},
   "outputs": [
    {
     "data": {
      "text/html": [
       "<div>\n",
       "<style scoped>\n",
       "    .dataframe tbody tr th:only-of-type {\n",
       "        vertical-align: middle;\n",
       "    }\n",
       "\n",
       "    .dataframe tbody tr th {\n",
       "        vertical-align: top;\n",
       "    }\n",
       "\n",
       "    .dataframe thead th {\n",
       "        text-align: right;\n",
       "    }\n",
       "</style>\n",
       "<table border=\"1\" class=\"dataframe\">\n",
       "  <thead>\n",
       "    <tr style=\"text-align: right;\">\n",
       "      <th></th>\n",
       "      <th>Unnamed: 0</th>\n",
       "      <th>Manufacturer</th>\n",
       "      <th>Model</th>\n",
       "      <th>Type</th>\n",
       "      <th>Min.Price</th>\n",
       "      <th>Price</th>\n",
       "      <th>Max.Price</th>\n",
       "      <th>MPG.city</th>\n",
       "      <th>MPG.highway</th>\n",
       "      <th>AirBags</th>\n",
       "      <th>...</th>\n",
       "      <th>Passengers</th>\n",
       "      <th>Length</th>\n",
       "      <th>Wheelbase</th>\n",
       "      <th>Width</th>\n",
       "      <th>Turn.circle</th>\n",
       "      <th>Rear.seat.room</th>\n",
       "      <th>Luggage.room</th>\n",
       "      <th>Weight</th>\n",
       "      <th>Origin</th>\n",
       "      <th>Make</th>\n",
       "    </tr>\n",
       "  </thead>\n",
       "  <tbody>\n",
       "    <tr>\n",
       "      <th>0</th>\n",
       "      <td>1</td>\n",
       "      <td>Acura</td>\n",
       "      <td>Integra</td>\n",
       "      <td>Small</td>\n",
       "      <td>12.9</td>\n",
       "      <td>15.9</td>\n",
       "      <td>18.8</td>\n",
       "      <td>25</td>\n",
       "      <td>31</td>\n",
       "      <td>None</td>\n",
       "      <td>...</td>\n",
       "      <td>5</td>\n",
       "      <td>177</td>\n",
       "      <td>102</td>\n",
       "      <td>68</td>\n",
       "      <td>37</td>\n",
       "      <td>26.5</td>\n",
       "      <td>11.0</td>\n",
       "      <td>2705</td>\n",
       "      <td>non-USA</td>\n",
       "      <td>Acura Integra</td>\n",
       "    </tr>\n",
       "    <tr>\n",
       "      <th>1</th>\n",
       "      <td>2</td>\n",
       "      <td>Acura</td>\n",
       "      <td>Legend</td>\n",
       "      <td>Midsize</td>\n",
       "      <td>29.2</td>\n",
       "      <td>33.9</td>\n",
       "      <td>38.7</td>\n",
       "      <td>18</td>\n",
       "      <td>25</td>\n",
       "      <td>Driver &amp; Passenger</td>\n",
       "      <td>...</td>\n",
       "      <td>5</td>\n",
       "      <td>195</td>\n",
       "      <td>115</td>\n",
       "      <td>71</td>\n",
       "      <td>38</td>\n",
       "      <td>30.0</td>\n",
       "      <td>15.0</td>\n",
       "      <td>3560</td>\n",
       "      <td>non-USA</td>\n",
       "      <td>Acura Legend</td>\n",
       "    </tr>\n",
       "    <tr>\n",
       "      <th>2</th>\n",
       "      <td>3</td>\n",
       "      <td>Audi</td>\n",
       "      <td>90</td>\n",
       "      <td>Compact</td>\n",
       "      <td>25.9</td>\n",
       "      <td>29.1</td>\n",
       "      <td>32.3</td>\n",
       "      <td>20</td>\n",
       "      <td>26</td>\n",
       "      <td>Driver only</td>\n",
       "      <td>...</td>\n",
       "      <td>5</td>\n",
       "      <td>180</td>\n",
       "      <td>102</td>\n",
       "      <td>67</td>\n",
       "      <td>37</td>\n",
       "      <td>28.0</td>\n",
       "      <td>14.0</td>\n",
       "      <td>3375</td>\n",
       "      <td>non-USA</td>\n",
       "      <td>Audi 90</td>\n",
       "    </tr>\n",
       "    <tr>\n",
       "      <th>3</th>\n",
       "      <td>4</td>\n",
       "      <td>Audi</td>\n",
       "      <td>100</td>\n",
       "      <td>Midsize</td>\n",
       "      <td>30.8</td>\n",
       "      <td>37.7</td>\n",
       "      <td>44.6</td>\n",
       "      <td>19</td>\n",
       "      <td>26</td>\n",
       "      <td>Driver &amp; Passenger</td>\n",
       "      <td>...</td>\n",
       "      <td>6</td>\n",
       "      <td>193</td>\n",
       "      <td>106</td>\n",
       "      <td>70</td>\n",
       "      <td>37</td>\n",
       "      <td>31.0</td>\n",
       "      <td>17.0</td>\n",
       "      <td>3405</td>\n",
       "      <td>non-USA</td>\n",
       "      <td>Audi 100</td>\n",
       "    </tr>\n",
       "    <tr>\n",
       "      <th>4</th>\n",
       "      <td>5</td>\n",
       "      <td>BMW</td>\n",
       "      <td>535i</td>\n",
       "      <td>Midsize</td>\n",
       "      <td>23.7</td>\n",
       "      <td>30.0</td>\n",
       "      <td>36.2</td>\n",
       "      <td>22</td>\n",
       "      <td>30</td>\n",
       "      <td>Driver only</td>\n",
       "      <td>...</td>\n",
       "      <td>4</td>\n",
       "      <td>186</td>\n",
       "      <td>109</td>\n",
       "      <td>69</td>\n",
       "      <td>39</td>\n",
       "      <td>27.0</td>\n",
       "      <td>13.0</td>\n",
       "      <td>3640</td>\n",
       "      <td>non-USA</td>\n",
       "      <td>BMW 535i</td>\n",
       "    </tr>\n",
       "  </tbody>\n",
       "</table>\n",
       "<p>5 rows × 28 columns</p>\n",
       "</div>"
      ],
      "text/plain": [
       "   Unnamed: 0 Manufacturer    Model     Type  Min.Price  Price  Max.Price  \\\n",
       "0           1        Acura  Integra    Small       12.9   15.9       18.8   \n",
       "1           2        Acura   Legend  Midsize       29.2   33.9       38.7   \n",
       "2           3         Audi       90  Compact       25.9   29.1       32.3   \n",
       "3           4         Audi      100  Midsize       30.8   37.7       44.6   \n",
       "4           5          BMW     535i  Midsize       23.7   30.0       36.2   \n",
       "\n",
       "   MPG.city  MPG.highway             AirBags  ... Passengers Length  \\\n",
       "0        25           31                None  ...          5    177   \n",
       "1        18           25  Driver & Passenger  ...          5    195   \n",
       "2        20           26         Driver only  ...          5    180   \n",
       "3        19           26  Driver & Passenger  ...          6    193   \n",
       "4        22           30         Driver only  ...          4    186   \n",
       "\n",
       "   Wheelbase  Width  Turn.circle  Rear.seat.room Luggage.room  Weight  \\\n",
       "0        102     68           37            26.5         11.0    2705   \n",
       "1        115     71           38            30.0         15.0    3560   \n",
       "2        102     67           37            28.0         14.0    3375   \n",
       "3        106     70           37            31.0         17.0    3405   \n",
       "4        109     69           39            27.0         13.0    3640   \n",
       "\n",
       "    Origin           Make  \n",
       "0  non-USA  Acura Integra  \n",
       "1  non-USA   Acura Legend  \n",
       "2  non-USA        Audi 90  \n",
       "3  non-USA       Audi 100  \n",
       "4  non-USA       BMW 535i  \n",
       "\n",
       "[5 rows x 28 columns]"
      ]
     },
     "execution_count": 3,
     "metadata": {},
     "output_type": "execute_result"
    }
   ],
   "source": [
    "df = pd.read_csv('car_sales.csv')\n",
    "df.head()"
   ]
  },
  {
   "cell_type": "code",
   "execution_count": 59,
   "id": "ba86dda3",
   "metadata": {},
   "outputs": [],
   "source": [
    "df1= df.drop('Unnamed: 0', axis=1).copy()"
   ]
  },
  {
   "cell_type": "code",
   "execution_count": 61,
   "id": "8225bcc0",
   "metadata": {},
   "outputs": [
    {
     "name": "stdout",
     "output_type": "stream",
     "text": [
      "<class 'pandas.core.frame.DataFrame'>\n",
      "RangeIndex: 93 entries, 0 to 92\n",
      "Data columns (total 27 columns):\n",
      " #   Column              Non-Null Count  Dtype  \n",
      "---  ------              --------------  -----  \n",
      " 0   Manufacturer        93 non-null     object \n",
      " 1   Model               93 non-null     object \n",
      " 2   Type                93 non-null     object \n",
      " 3   Min.Price           93 non-null     float64\n",
      " 4   Price               93 non-null     float64\n",
      " 5   Max.Price           93 non-null     float64\n",
      " 6   MPG.city            93 non-null     int64  \n",
      " 7   MPG.highway         93 non-null     int64  \n",
      " 8   AirBags             93 non-null     object \n",
      " 9   DriveTrain          93 non-null     object \n",
      " 10  Cylinders           93 non-null     object \n",
      " 11  EngineSize          93 non-null     float64\n",
      " 12  Horsepower          93 non-null     int64  \n",
      " 13  RPM                 93 non-null     int64  \n",
      " 14  Rev.per.mile        93 non-null     int64  \n",
      " 15  Man.trans.avail     93 non-null     object \n",
      " 16  Fuel.tank.capacity  93 non-null     float64\n",
      " 17  Passengers          93 non-null     int64  \n",
      " 18  Length              93 non-null     int64  \n",
      " 19  Wheelbase           93 non-null     int64  \n",
      " 20  Width               93 non-null     int64  \n",
      " 21  Turn.circle         93 non-null     int64  \n",
      " 22  Rear.seat.room      93 non-null     float64\n",
      " 23  Luggage.room        93 non-null     float64\n",
      " 24  Weight              93 non-null     int64  \n",
      " 25  Origin              93 non-null     object \n",
      " 26  Make                93 non-null     object \n",
      "dtypes: float64(7), int64(11), object(9)\n",
      "memory usage: 19.7+ KB\n"
     ]
    }
   ],
   "source": [
    "df1.info()"
   ]
  },
  {
   "cell_type": "code",
   "execution_count": 62,
   "id": "58625f61",
   "metadata": {},
   "outputs": [
    {
     "data": {
      "text/plain": [
       "<AxesSubplot:>"
      ]
     },
     "execution_count": 62,
     "metadata": {},
     "output_type": "execute_result"
    },
    {
     "data": {
      "image/png": "[encoded data removed]",
      "text/plain": [
       "<Figure size 1200x1000 with 2 Axes>"
      ]
     },
     "metadata": {},
     "output_type": "display_data"
    }
   ],
   "source": [
    "plt.figure(figsize=(12,10))\n",
    "sns.heatmap(df1.corr(), annot=True)"
   ]
  },
  {
   "cell_type": "code",
   "execution_count": 66,
   "id": "d74b18b0",
   "metadata": {},
   "outputs": [
    {
     "data": {
      "text/html": [
       "<div>\n",
       "<style scoped>\n",
       "    .dataframe tbody tr th:only-of-type {\n",
       "        vertical-align: middle;\n",
       "    }\n",
       "\n",
       "    .dataframe tbody tr th {\n",
       "        vertical-align: top;\n",
       "    }\n",
       "\n",
       "    .dataframe thead th {\n",
       "        text-align: right;\n",
       "    }\n",
       "</style>\n",
       "<table border=\"1\" class=\"dataframe\">\n",
       "  <thead>\n",
       "    <tr style=\"text-align: right;\">\n",
       "      <th></th>\n",
       "      <th>VIF_Value</th>\n",
       "    </tr>\n",
       "  </thead>\n",
       "  <tbody>\n",
       "    <tr>\n",
       "      <th>Weight</th>\n",
       "      <td>23.358572</td>\n",
       "    </tr>\n",
       "    <tr>\n",
       "      <th>MPG.city</th>\n",
       "      <td>18.400758</td>\n",
       "    </tr>\n",
       "    <tr>\n",
       "      <th>MPG.highway</th>\n",
       "      <td>16.681172</td>\n",
       "    </tr>\n",
       "    <tr>\n",
       "      <th>Horsepower</th>\n",
       "      <td>15.605095</td>\n",
       "    </tr>\n",
       "    <tr>\n",
       "      <th>EngineSize</th>\n",
       "      <td>12.262341</td>\n",
       "    </tr>\n",
       "    <tr>\n",
       "      <th>Min.Price</th>\n",
       "      <td>10.361185</td>\n",
       "    </tr>\n",
       "    <tr>\n",
       "      <th>Width</th>\n",
       "      <td>9.688537</td>\n",
       "    </tr>\n",
       "    <tr>\n",
       "      <th>Wheelbase</th>\n",
       "      <td>9.525758</td>\n",
       "    </tr>\n",
       "    <tr>\n",
       "      <th>Max.Price</th>\n",
       "      <td>7.072992</td>\n",
       "    </tr>\n",
       "    <tr>\n",
       "      <th>Fuel.tank.capacity</th>\n",
       "      <td>6.748811</td>\n",
       "    </tr>\n",
       "    <tr>\n",
       "      <th>Length</th>\n",
       "      <td>6.019804</td>\n",
       "    </tr>\n",
       "    <tr>\n",
       "      <th>RPM</th>\n",
       "      <td>5.059184</td>\n",
       "    </tr>\n",
       "    <tr>\n",
       "      <th>Passengers</th>\n",
       "      <td>4.640686</td>\n",
       "    </tr>\n",
       "    <tr>\n",
       "      <th>Rev.per.mile</th>\n",
       "      <td>4.290535</td>\n",
       "    </tr>\n",
       "    <tr>\n",
       "      <th>Turn.circle</th>\n",
       "      <td>3.715988</td>\n",
       "    </tr>\n",
       "    <tr>\n",
       "      <th>Rear.seat.room</th>\n",
       "      <td>2.819007</td>\n",
       "    </tr>\n",
       "    <tr>\n",
       "      <th>Luggage.room</th>\n",
       "      <td>2.756157</td>\n",
       "    </tr>\n",
       "    <tr>\n",
       "      <th>const</th>\n",
       "      <td>1.000000</td>\n",
       "    </tr>\n",
       "  </tbody>\n",
       "</table>\n",
       "</div>"
      ],
      "text/plain": [
       "                    VIF_Value\n",
       "Weight              23.358572\n",
       "MPG.city            18.400758\n",
       "MPG.highway         16.681172\n",
       "Horsepower          15.605095\n",
       "EngineSize          12.262341\n",
       "Min.Price           10.361185\n",
       "Width                9.688537\n",
       "Wheelbase            9.525758\n",
       "Max.Price            7.072992\n",
       "Fuel.tank.capacity   6.748811\n",
       "Length               6.019804\n",
       "RPM                  5.059184\n",
       "Passengers           4.640686\n",
       "Rev.per.mile         4.290535\n",
       "Turn.circle          3.715988\n",
       "Rear.seat.room       2.819007\n",
       "Luggage.room         2.756157\n",
       "const                1.000000"
      ]
     },
     "execution_count": 66,
     "metadata": {},
     "output_type": "execute_result"
    }
   ],
   "source": [
    "vif_values = [VIF(Xc.values, i) for i in range(Xc.shape[1])]\n",
    "pd.DataFrame(vif_values, columns=['VIF_Value'], index=Xc.columns).sort_values('VIF_Value', ascending=False)"
   ]
  },
  {
   "cell_type": "code",
   "execution_count": 67,
   "id": "024c795a",
   "metadata": {},
   "outputs": [
    {
     "data": {
      "text/html": [
       "<div>\n",
       "<style scoped>\n",
       "    .dataframe tbody tr th:only-of-type {\n",
       "        vertical-align: middle;\n",
       "    }\n",
       "\n",
       "    .dataframe tbody tr th {\n",
       "        vertical-align: top;\n",
       "    }\n",
       "\n",
       "    .dataframe thead th {\n",
       "        text-align: right;\n",
       "    }\n",
       "</style>\n",
       "<table border=\"1\" class=\"dataframe\">\n",
       "  <thead>\n",
       "    <tr style=\"text-align: right;\">\n",
       "      <th></th>\n",
       "      <th>VIF_Value</th>\n",
       "    </tr>\n",
       "  </thead>\n",
       "  <tbody>\n",
       "    <tr>\n",
       "      <th>MPG.city</th>\n",
       "      <td>18.129759</td>\n",
       "    </tr>\n",
       "    <tr>\n",
       "      <th>MPG.highway</th>\n",
       "      <td>15.434685</td>\n",
       "    </tr>\n",
       "    <tr>\n",
       "      <th>Horsepower</th>\n",
       "      <td>12.651439</td>\n",
       "    </tr>\n",
       "    <tr>\n",
       "      <th>EngineSize</th>\n",
       "      <td>12.125426</td>\n",
       "    </tr>\n",
       "    <tr>\n",
       "      <th>Min.Price</th>\n",
       "      <td>10.361048</td>\n",
       "    </tr>\n",
       "    <tr>\n",
       "      <th>Width</th>\n",
       "      <td>9.664425</td>\n",
       "    </tr>\n",
       "    <tr>\n",
       "      <th>Wheelbase</th>\n",
       "      <td>7.276970</td>\n",
       "    </tr>\n",
       "    <tr>\n",
       "      <th>Max.Price</th>\n",
       "      <td>7.070068</td>\n",
       "    </tr>\n",
       "    <tr>\n",
       "      <th>Fuel.tank.capacity</th>\n",
       "      <td>6.048306</td>\n",
       "    </tr>\n",
       "    <tr>\n",
       "      <th>Length</th>\n",
       "      <td>5.781014</td>\n",
       "    </tr>\n",
       "    <tr>\n",
       "      <th>RPM</th>\n",
       "      <td>4.644522</td>\n",
       "    </tr>\n",
       "    <tr>\n",
       "      <th>Passengers</th>\n",
       "      <td>4.337743</td>\n",
       "    </tr>\n",
       "    <tr>\n",
       "      <th>Rev.per.mile</th>\n",
       "      <td>4.262671</td>\n",
       "    </tr>\n",
       "    <tr>\n",
       "      <th>Turn.circle</th>\n",
       "      <td>3.708081</td>\n",
       "    </tr>\n",
       "    <tr>\n",
       "      <th>Luggage.room</th>\n",
       "      <td>2.747907</td>\n",
       "    </tr>\n",
       "    <tr>\n",
       "      <th>Rear.seat.room</th>\n",
       "      <td>2.744829</td>\n",
       "    </tr>\n",
       "    <tr>\n",
       "      <th>const</th>\n",
       "      <td>1.000000</td>\n",
       "    </tr>\n",
       "  </tbody>\n",
       "</table>\n",
       "</div>"
      ],
      "text/plain": [
       "                    VIF_Value\n",
       "MPG.city            18.129759\n",
       "MPG.highway         15.434685\n",
       "Horsepower          12.651439\n",
       "EngineSize          12.125426\n",
       "Min.Price           10.361048\n",
       "Width                9.664425\n",
       "Wheelbase            7.276970\n",
       "Max.Price            7.070068\n",
       "Fuel.tank.capacity   6.048306\n",
       "Length               5.781014\n",
       "RPM                  4.644522\n",
       "Passengers           4.337743\n",
       "Rev.per.mile         4.262671\n",
       "Turn.circle          3.708081\n",
       "Luggage.room         2.747907\n",
       "Rear.seat.room       2.744829\n",
       "const                1.000000"
      ]
     },
     "execution_count": 67,
     "metadata": {},
     "output_type": "execute_result"
    }
   ],
   "source": [
    "Xc = Xc.drop('Weight', axis=1)\n",
    "vif_values = [VIF(Xc.values, i) for i in range(Xc.shape[1])]\n",
    "pd.DataFrame(vif_values, columns=['VIF_Value'], index=Xc.columns).sort_values('VIF_Value', ascending=False)"
   ]
  },
  {
   "cell_type": "code",
   "execution_count": 68,
   "id": "ea3e1ebf",
   "metadata": {},
   "outputs": [
    {
     "data": {
      "text/html": [
       "<div>\n",
       "<style scoped>\n",
       "    .dataframe tbody tr th:only-of-type {\n",
       "        vertical-align: middle;\n",
       "    }\n",
       "\n",
       "    .dataframe tbody tr th {\n",
       "        vertical-align: top;\n",
       "    }\n",
       "\n",
       "    .dataframe thead th {\n",
       "        text-align: right;\n",
       "    }\n",
       "</style>\n",
       "<table border=\"1\" class=\"dataframe\">\n",
       "  <thead>\n",
       "    <tr style=\"text-align: right;\">\n",
       "      <th></th>\n",
       "      <th>VIF_Value</th>\n",
       "    </tr>\n",
       "  </thead>\n",
       "  <tbody>\n",
       "    <tr>\n",
       "      <th>Horsepower</th>\n",
       "      <td>12.602392</td>\n",
       "    </tr>\n",
       "    <tr>\n",
       "      <th>EngineSize</th>\n",
       "      <td>11.854798</td>\n",
       "    </tr>\n",
       "    <tr>\n",
       "      <th>Min.Price</th>\n",
       "      <td>10.361009</td>\n",
       "    </tr>\n",
       "    <tr>\n",
       "      <th>Width</th>\n",
       "      <td>9.610434</td>\n",
       "    </tr>\n",
       "    <tr>\n",
       "      <th>Wheelbase</th>\n",
       "      <td>7.275496</td>\n",
       "    </tr>\n",
       "    <tr>\n",
       "      <th>Max.Price</th>\n",
       "      <td>7.068306</td>\n",
       "    </tr>\n",
       "    <tr>\n",
       "      <th>Fuel.tank.capacity</th>\n",
       "      <td>5.917167</td>\n",
       "    </tr>\n",
       "    <tr>\n",
       "      <th>Length</th>\n",
       "      <td>5.223063</td>\n",
       "    </tr>\n",
       "    <tr>\n",
       "      <th>RPM</th>\n",
       "      <td>4.605336</td>\n",
       "    </tr>\n",
       "    <tr>\n",
       "      <th>Passengers</th>\n",
       "      <td>4.205327</td>\n",
       "    </tr>\n",
       "    <tr>\n",
       "      <th>MPG.highway</th>\n",
       "      <td>4.060698</td>\n",
       "    </tr>\n",
       "    <tr>\n",
       "      <th>Rev.per.mile</th>\n",
       "      <td>3.898850</td>\n",
       "    </tr>\n",
       "    <tr>\n",
       "      <th>Turn.circle</th>\n",
       "      <td>3.705552</td>\n",
       "    </tr>\n",
       "    <tr>\n",
       "      <th>Rear.seat.room</th>\n",
       "      <td>2.716387</td>\n",
       "    </tr>\n",
       "    <tr>\n",
       "      <th>Luggage.room</th>\n",
       "      <td>2.611379</td>\n",
       "    </tr>\n",
       "    <tr>\n",
       "      <th>const</th>\n",
       "      <td>1.000000</td>\n",
       "    </tr>\n",
       "  </tbody>\n",
       "</table>\n",
       "</div>"
      ],
      "text/plain": [
       "                    VIF_Value\n",
       "Horsepower          12.602392\n",
       "EngineSize          11.854798\n",
       "Min.Price           10.361009\n",
       "Width                9.610434\n",
       "Wheelbase            7.275496\n",
       "Max.Price            7.068306\n",
       "Fuel.tank.capacity   5.917167\n",
       "Length               5.223063\n",
       "RPM                  4.605336\n",
       "Passengers           4.205327\n",
       "MPG.highway          4.060698\n",
       "Rev.per.mile         3.898850\n",
       "Turn.circle          3.705552\n",
       "Rear.seat.room       2.716387\n",
       "Luggage.room         2.611379\n",
       "const                1.000000"
      ]
     },
     "execution_count": 68,
     "metadata": {},
     "output_type": "execute_result"
    }
   ],
   "source": [
    "Xc = Xc.drop('MPG.city', axis=1)\n",
    "vif_values = [VIF(Xc.values, i) for i in range(Xc.shape[1])]\n",
    "pd.DataFrame(vif_values, columns=['VIF_Value'], index=Xc.columns).sort_values('VIF_Value', ascending=False)"
   ]
  },
  {
   "cell_type": "code",
   "execution_count": 69,
   "id": "fb1e72bf",
   "metadata": {},
   "outputs": [
    {
     "data": {
      "text/html": [
       "<div>\n",
       "<style scoped>\n",
       "    .dataframe tbody tr th:only-of-type {\n",
       "        vertical-align: middle;\n",
       "    }\n",
       "\n",
       "    .dataframe tbody tr th {\n",
       "        vertical-align: top;\n",
       "    }\n",
       "\n",
       "    .dataframe thead th {\n",
       "        text-align: right;\n",
       "    }\n",
       "</style>\n",
       "<table border=\"1\" class=\"dataframe\">\n",
       "  <thead>\n",
       "    <tr style=\"text-align: right;\">\n",
       "      <th></th>\n",
       "      <th>VIF_Value</th>\n",
       "    </tr>\n",
       "  </thead>\n",
       "  <tbody>\n",
       "    <tr>\n",
       "      <th>Min.Price</th>\n",
       "      <td>10.143237</td>\n",
       "    </tr>\n",
       "    <tr>\n",
       "      <th>EngineSize</th>\n",
       "      <td>8.612973</td>\n",
       "    </tr>\n",
       "    <tr>\n",
       "      <th>Width</th>\n",
       "      <td>8.589845</td>\n",
       "    </tr>\n",
       "    <tr>\n",
       "      <th>Wheelbase</th>\n",
       "      <td>7.199862</td>\n",
       "    </tr>\n",
       "    <tr>\n",
       "      <th>Max.Price</th>\n",
       "      <td>6.838111</td>\n",
       "    </tr>\n",
       "    <tr>\n",
       "      <th>Fuel.tank.capacity</th>\n",
       "      <td>5.732429</td>\n",
       "    </tr>\n",
       "    <tr>\n",
       "      <th>Length</th>\n",
       "      <td>5.121721</td>\n",
       "    </tr>\n",
       "    <tr>\n",
       "      <th>Rev.per.mile</th>\n",
       "      <td>3.879263</td>\n",
       "    </tr>\n",
       "    <tr>\n",
       "      <th>MPG.highway</th>\n",
       "      <td>3.825766</td>\n",
       "    </tr>\n",
       "    <tr>\n",
       "      <th>Passengers</th>\n",
       "      <td>3.718060</td>\n",
       "    </tr>\n",
       "    <tr>\n",
       "      <th>Turn.circle</th>\n",
       "      <td>3.620942</td>\n",
       "    </tr>\n",
       "    <tr>\n",
       "      <th>Rear.seat.room</th>\n",
       "      <td>2.716007</td>\n",
       "    </tr>\n",
       "    <tr>\n",
       "      <th>Luggage.room</th>\n",
       "      <td>2.602225</td>\n",
       "    </tr>\n",
       "    <tr>\n",
       "      <th>RPM</th>\n",
       "      <td>2.213321</td>\n",
       "    </tr>\n",
       "    <tr>\n",
       "      <th>const</th>\n",
       "      <td>1.000000</td>\n",
       "    </tr>\n",
       "  </tbody>\n",
       "</table>\n",
       "</div>"
      ],
      "text/plain": [
       "                    VIF_Value\n",
       "Min.Price           10.143237\n",
       "EngineSize           8.612973\n",
       "Width                8.589845\n",
       "Wheelbase            7.199862\n",
       "Max.Price            6.838111\n",
       "Fuel.tank.capacity   5.732429\n",
       "Length               5.121721\n",
       "Rev.per.mile         3.879263\n",
       "MPG.highway          3.825766\n",
       "Passengers           3.718060\n",
       "Turn.circle          3.620942\n",
       "Rear.seat.room       2.716007\n",
       "Luggage.room         2.602225\n",
       "RPM                  2.213321\n",
       "const                1.000000"
      ]
     },
     "execution_count": 69,
     "metadata": {},
     "output_type": "execute_result"
    }
   ],
   "source": [
    "Xc = Xc.drop('Horsepower', axis=1)\n",
    "vif_values = [VIF(Xc.values, i) for i in range(Xc.shape[1])]\n",
    "pd.DataFrame(vif_values, columns=['VIF_Value'], index=Xc.columns).sort_values('VIF_Value', ascending=False)"
   ]
  },
  {
   "cell_type": "code",
   "execution_count": 70,
   "id": "5e730ee4",
   "metadata": {},
   "outputs": [
    {
     "data": {
      "text/html": [
       "<div>\n",
       "<style scoped>\n",
       "    .dataframe tbody tr th:only-of-type {\n",
       "        vertical-align: middle;\n",
       "    }\n",
       "\n",
       "    .dataframe tbody tr th {\n",
       "        vertical-align: top;\n",
       "    }\n",
       "\n",
       "    .dataframe thead th {\n",
       "        text-align: right;\n",
       "    }\n",
       "</style>\n",
       "<table border=\"1\" class=\"dataframe\">\n",
       "  <thead>\n",
       "    <tr style=\"text-align: right;\">\n",
       "      <th></th>\n",
       "      <th>VIF_Value</th>\n",
       "    </tr>\n",
       "  </thead>\n",
       "  <tbody>\n",
       "    <tr>\n",
       "      <th>Width</th>\n",
       "      <td>8.498348</td>\n",
       "    </tr>\n",
       "    <tr>\n",
       "      <th>EngineSize</th>\n",
       "      <td>7.797946</td>\n",
       "    </tr>\n",
       "    <tr>\n",
       "      <th>Wheelbase</th>\n",
       "      <td>7.199860</td>\n",
       "    </tr>\n",
       "    <tr>\n",
       "      <th>Fuel.tank.capacity</th>\n",
       "      <td>5.722292</td>\n",
       "    </tr>\n",
       "    <tr>\n",
       "      <th>Length</th>\n",
       "      <td>4.863670</td>\n",
       "    </tr>\n",
       "    <tr>\n",
       "      <th>Rev.per.mile</th>\n",
       "      <td>3.859530</td>\n",
       "    </tr>\n",
       "    <tr>\n",
       "      <th>Turn.circle</th>\n",
       "      <td>3.576108</td>\n",
       "    </tr>\n",
       "    <tr>\n",
       "      <th>MPG.highway</th>\n",
       "      <td>3.490913</td>\n",
       "    </tr>\n",
       "    <tr>\n",
       "      <th>Passengers</th>\n",
       "      <td>3.242832</td>\n",
       "    </tr>\n",
       "    <tr>\n",
       "      <th>Luggage.room</th>\n",
       "      <td>2.602177</td>\n",
       "    </tr>\n",
       "    <tr>\n",
       "      <th>Max.Price</th>\n",
       "      <td>2.523319</td>\n",
       "    </tr>\n",
       "    <tr>\n",
       "      <th>Rear.seat.room</th>\n",
       "      <td>2.393542</td>\n",
       "    </tr>\n",
       "    <tr>\n",
       "      <th>RPM</th>\n",
       "      <td>2.168943</td>\n",
       "    </tr>\n",
       "    <tr>\n",
       "      <th>const</th>\n",
       "      <td>1.000000</td>\n",
       "    </tr>\n",
       "  </tbody>\n",
       "</table>\n",
       "</div>"
      ],
      "text/plain": [
       "                    VIF_Value\n",
       "Width                8.498348\n",
       "EngineSize           7.797946\n",
       "Wheelbase            7.199860\n",
       "Fuel.tank.capacity   5.722292\n",
       "Length               4.863670\n",
       "Rev.per.mile         3.859530\n",
       "Turn.circle          3.576108\n",
       "MPG.highway          3.490913\n",
       "Passengers           3.242832\n",
       "Luggage.room         2.602177\n",
       "Max.Price            2.523319\n",
       "Rear.seat.room       2.393542\n",
       "RPM                  2.168943\n",
       "const                1.000000"
      ]
     },
     "execution_count": 70,
     "metadata": {},
     "output_type": "execute_result"
    }
   ],
   "source": [
    "Xc = Xc.drop('Min.Price', axis=1)\n",
    "vif_values = [VIF(Xc.values, i) for i in range(Xc.shape[1])]\n",
    "pd.DataFrame(vif_values, columns=['VIF_Value'], index=Xc.columns).sort_values('VIF_Value', ascending=False)"
   ]
  },
  {
   "cell_type": "code",
   "execution_count": 71,
   "id": "1b0598c9",
   "metadata": {},
   "outputs": [
    {
     "data": {
      "text/html": [
       "<div>\n",
       "<style scoped>\n",
       "    .dataframe tbody tr th:only-of-type {\n",
       "        vertical-align: middle;\n",
       "    }\n",
       "\n",
       "    .dataframe tbody tr th {\n",
       "        vertical-align: top;\n",
       "    }\n",
       "\n",
       "    .dataframe thead th {\n",
       "        text-align: right;\n",
       "    }\n",
       "</style>\n",
       "<table border=\"1\" class=\"dataframe\">\n",
       "  <thead>\n",
       "    <tr style=\"text-align: right;\">\n",
       "      <th></th>\n",
       "      <th>VIF_Value</th>\n",
       "    </tr>\n",
       "  </thead>\n",
       "  <tbody>\n",
       "    <tr>\n",
       "      <th>EngineSize</th>\n",
       "      <td>7.082684</td>\n",
       "    </tr>\n",
       "    <tr>\n",
       "      <th>Wheelbase</th>\n",
       "      <td>6.858643</td>\n",
       "    </tr>\n",
       "    <tr>\n",
       "      <th>Fuel.tank.capacity</th>\n",
       "      <td>4.903054</td>\n",
       "    </tr>\n",
       "    <tr>\n",
       "      <th>Length</th>\n",
       "      <td>4.608377</td>\n",
       "    </tr>\n",
       "    <tr>\n",
       "      <th>Rev.per.mile</th>\n",
       "      <td>3.769923</td>\n",
       "    </tr>\n",
       "    <tr>\n",
       "      <th>MPG.highway</th>\n",
       "      <td>3.468370</td>\n",
       "    </tr>\n",
       "    <tr>\n",
       "      <th>Turn.circle</th>\n",
       "      <td>3.378389</td>\n",
       "    </tr>\n",
       "    <tr>\n",
       "      <th>Passengers</th>\n",
       "      <td>3.242421</td>\n",
       "    </tr>\n",
       "    <tr>\n",
       "      <th>Luggage.room</th>\n",
       "      <td>2.602095</td>\n",
       "    </tr>\n",
       "    <tr>\n",
       "      <th>Max.Price</th>\n",
       "      <td>2.381392</td>\n",
       "    </tr>\n",
       "    <tr>\n",
       "      <th>Rear.seat.room</th>\n",
       "      <td>2.248117</td>\n",
       "    </tr>\n",
       "    <tr>\n",
       "      <th>RPM</th>\n",
       "      <td>2.159145</td>\n",
       "    </tr>\n",
       "    <tr>\n",
       "      <th>const</th>\n",
       "      <td>1.000000</td>\n",
       "    </tr>\n",
       "  </tbody>\n",
       "</table>\n",
       "</div>"
      ],
      "text/plain": [
       "                    VIF_Value\n",
       "EngineSize           7.082684\n",
       "Wheelbase            6.858643\n",
       "Fuel.tank.capacity   4.903054\n",
       "Length               4.608377\n",
       "Rev.per.mile         3.769923\n",
       "MPG.highway          3.468370\n",
       "Turn.circle          3.378389\n",
       "Passengers           3.242421\n",
       "Luggage.room         2.602095\n",
       "Max.Price            2.381392\n",
       "Rear.seat.room       2.248117\n",
       "RPM                  2.159145\n",
       "const                1.000000"
      ]
     },
     "execution_count": 71,
     "metadata": {},
     "output_type": "execute_result"
    }
   ],
   "source": [
    "Xc = Xc.drop('Width', axis=1)\n",
    "vif_values = [VIF(Xc.values, i) for i in range(Xc.shape[1])]\n",
    "pd.DataFrame(vif_values, columns=['VIF_Value'], index=Xc.columns).sort_values('VIF_Value', ascending=False)"
   ]
  },
  {
   "cell_type": "code",
   "execution_count": 72,
   "id": "eb96ac0b",
   "metadata": {},
   "outputs": [
    {
     "data": {
      "text/html": [
       "<div>\n",
       "<style scoped>\n",
       "    .dataframe tbody tr th:only-of-type {\n",
       "        vertical-align: middle;\n",
       "    }\n",
       "\n",
       "    .dataframe tbody tr th {\n",
       "        vertical-align: top;\n",
       "    }\n",
       "\n",
       "    .dataframe thead th {\n",
       "        text-align: right;\n",
       "    }\n",
       "</style>\n",
       "<table border=\"1\" class=\"dataframe\">\n",
       "  <thead>\n",
       "    <tr style=\"text-align: right;\">\n",
       "      <th></th>\n",
       "      <th>VIF_Value</th>\n",
       "    </tr>\n",
       "  </thead>\n",
       "  <tbody>\n",
       "    <tr>\n",
       "      <th>Wheelbase</th>\n",
       "      <td>6.850592</td>\n",
       "    </tr>\n",
       "    <tr>\n",
       "      <th>Length</th>\n",
       "      <td>4.393169</td>\n",
       "    </tr>\n",
       "    <tr>\n",
       "      <th>Fuel.tank.capacity</th>\n",
       "      <td>4.380963</td>\n",
       "    </tr>\n",
       "    <tr>\n",
       "      <th>MPG.highway</th>\n",
       "      <td>3.419689</td>\n",
       "    </tr>\n",
       "    <tr>\n",
       "      <th>Turn.circle</th>\n",
       "      <td>3.250888</td>\n",
       "    </tr>\n",
       "    <tr>\n",
       "      <th>Passengers</th>\n",
       "      <td>3.179222</td>\n",
       "    </tr>\n",
       "    <tr>\n",
       "      <th>Rev.per.mile</th>\n",
       "      <td>2.864339</td>\n",
       "    </tr>\n",
       "    <tr>\n",
       "      <th>Luggage.room</th>\n",
       "      <td>2.597868</td>\n",
       "    </tr>\n",
       "    <tr>\n",
       "      <th>Rear.seat.room</th>\n",
       "      <td>2.226523</td>\n",
       "    </tr>\n",
       "    <tr>\n",
       "      <th>Max.Price</th>\n",
       "      <td>2.143320</td>\n",
       "    </tr>\n",
       "    <tr>\n",
       "      <th>RPM</th>\n",
       "      <td>1.817812</td>\n",
       "    </tr>\n",
       "    <tr>\n",
       "      <th>const</th>\n",
       "      <td>1.000000</td>\n",
       "    </tr>\n",
       "  </tbody>\n",
       "</table>\n",
       "</div>"
      ],
      "text/plain": [
       "                    VIF_Value\n",
       "Wheelbase            6.850592\n",
       "Length               4.393169\n",
       "Fuel.tank.capacity   4.380963\n",
       "MPG.highway          3.419689\n",
       "Turn.circle          3.250888\n",
       "Passengers           3.179222\n",
       "Rev.per.mile         2.864339\n",
       "Luggage.room         2.597868\n",
       "Rear.seat.room       2.226523\n",
       "Max.Price            2.143320\n",
       "RPM                  1.817812\n",
       "const                1.000000"
      ]
     },
     "execution_count": 72,
     "metadata": {},
     "output_type": "execute_result"
    }
   ],
   "source": [
    "Xc = Xc.drop('EngineSize', axis=1)\n",
    "vif_values = [VIF(Xc.values, i) for i in range(Xc.shape[1])]\n",
    "pd.DataFrame(vif_values, columns=['VIF_Value'], index=Xc.columns).sort_values('VIF_Value', ascending=False)"
   ]
  },
  {
   "cell_type": "code",
   "execution_count": 73,
   "id": "56224f62",
   "metadata": {},
   "outputs": [
    {
     "data": {
      "text/html": [
       "<div>\n",
       "<style scoped>\n",
       "    .dataframe tbody tr th:only-of-type {\n",
       "        vertical-align: middle;\n",
       "    }\n",
       "\n",
       "    .dataframe tbody tr th {\n",
       "        vertical-align: top;\n",
       "    }\n",
       "\n",
       "    .dataframe thead th {\n",
       "        text-align: right;\n",
       "    }\n",
       "</style>\n",
       "<table border=\"1\" class=\"dataframe\">\n",
       "  <thead>\n",
       "    <tr style=\"text-align: right;\">\n",
       "      <th></th>\n",
       "      <th>VIF_Value</th>\n",
       "    </tr>\n",
       "  </thead>\n",
       "  <tbody>\n",
       "    <tr>\n",
       "      <th>Fuel.tank.capacity</th>\n",
       "      <td>4.146908</td>\n",
       "    </tr>\n",
       "    <tr>\n",
       "      <th>Length</th>\n",
       "      <td>3.674673</td>\n",
       "    </tr>\n",
       "    <tr>\n",
       "      <th>MPG.highway</th>\n",
       "      <td>3.369088</td>\n",
       "    </tr>\n",
       "    <tr>\n",
       "      <th>Turn.circle</th>\n",
       "      <td>3.171205</td>\n",
       "    </tr>\n",
       "    <tr>\n",
       "      <th>Rev.per.mile</th>\n",
       "      <td>2.852136</td>\n",
       "    </tr>\n",
       "    <tr>\n",
       "      <th>Luggage.room</th>\n",
       "      <td>2.592880</td>\n",
       "    </tr>\n",
       "    <tr>\n",
       "      <th>Passengers</th>\n",
       "      <td>2.312604</td>\n",
       "    </tr>\n",
       "    <tr>\n",
       "      <th>Rear.seat.room</th>\n",
       "      <td>2.192536</td>\n",
       "    </tr>\n",
       "    <tr>\n",
       "      <th>Max.Price</th>\n",
       "      <td>1.958159</td>\n",
       "    </tr>\n",
       "    <tr>\n",
       "      <th>RPM</th>\n",
       "      <td>1.815999</td>\n",
       "    </tr>\n",
       "    <tr>\n",
       "      <th>const</th>\n",
       "      <td>1.000000</td>\n",
       "    </tr>\n",
       "  </tbody>\n",
       "</table>\n",
       "</div>"
      ],
      "text/plain": [
       "                    VIF_Value\n",
       "Fuel.tank.capacity   4.146908\n",
       "Length               3.674673\n",
       "MPG.highway          3.369088\n",
       "Turn.circle          3.171205\n",
       "Rev.per.mile         2.852136\n",
       "Luggage.room         2.592880\n",
       "Passengers           2.312604\n",
       "Rear.seat.room       2.192536\n",
       "Max.Price            1.958159\n",
       "RPM                  1.815999\n",
       "const                1.000000"
      ]
     },
     "execution_count": 73,
     "metadata": {},
     "output_type": "execute_result"
    }
   ],
   "source": [
    "Xc = Xc.drop('Wheelbase', axis=1)\n",
    "vif_values = [VIF(Xc.values, i) for i in range(Xc.shape[1])]\n",
    "pd.DataFrame(vif_values, columns=['VIF_Value'], index=Xc.columns).sort_values('VIF_Value', ascending=False)"
   ]
  },
  {
   "cell_type": "code",
   "execution_count": 74,
   "id": "e080491f",
   "metadata": {},
   "outputs": [
    {
     "data": {
      "text/plain": [
       "Index(['const', 'Max.Price', 'MPG.highway', 'RPM', 'Rev.per.mile',\n",
       "       'Fuel.tank.capacity', 'Passengers', 'Length', 'Turn.circle',\n",
       "       'Rear.seat.room', 'Luggage.room'],\n",
       "      dtype='object')"
      ]
     },
     "execution_count": 74,
     "metadata": {},
     "output_type": "execute_result"
    }
   ],
   "source": [
    "Xc.columns"
   ]
  },
  {
   "cell_type": "code",
   "execution_count": 75,
   "id": "2f2c9857",
   "metadata": {},
   "outputs": [
    {
     "data": {
      "text/html": [
       "<table class=\"simpletable\">\n",
       "<caption>OLS Regression Results</caption>\n",
       "<tr>\n",
       "  <th>Dep. Variable:</th>          <td>Price</td>      <th>  R-squared:         </th> <td>   0.978</td>\n",
       "</tr>\n",
       "<tr>\n",
       "  <th>Model:</th>                   <td>OLS</td>       <th>  Adj. R-squared:    </th> <td>   0.975</td>\n",
       "</tr>\n",
       "<tr>\n",
       "  <th>Method:</th>             <td>Least Squares</td>  <th>  F-statistic:       </th> <td>   358.6</td>\n",
       "</tr>\n",
       "<tr>\n",
       "  <th>Date:</th>             <td>Mon, 17 Apr 2023</td> <th>  Prob (F-statistic):</th> <td>2.89e-63</td>\n",
       "</tr>\n",
       "<tr>\n",
       "  <th>Time:</th>                 <td>10:21:29</td>     <th>  Log-Likelihood:    </th> <td> -165.65</td>\n",
       "</tr>\n",
       "<tr>\n",
       "  <th>No. Observations:</th>      <td>    93</td>      <th>  AIC:               </th> <td>   353.3</td>\n",
       "</tr>\n",
       "<tr>\n",
       "  <th>Df Residuals:</th>          <td>    82</td>      <th>  BIC:               </th> <td>   381.2</td>\n",
       "</tr>\n",
       "<tr>\n",
       "  <th>Df Model:</th>              <td>    10</td>      <th>                     </th>     <td> </td>   \n",
       "</tr>\n",
       "<tr>\n",
       "  <th>Covariance Type:</th>      <td>nonrobust</td>    <th>                     </th>     <td> </td>   \n",
       "</tr>\n",
       "</table>\n",
       "<table class=\"simpletable\">\n",
       "<tr>\n",
       "           <td></td>             <th>coef</th>     <th>std err</th>      <th>t</th>      <th>P>|t|</th>  <th>[0.025</th>    <th>0.975]</th>  \n",
       "</tr>\n",
       "<tr>\n",
       "  <th>const</th>              <td>   19.5097</td> <td>    0.159</td> <td>  122.983</td> <td> 0.000</td> <td>   19.194</td> <td>   19.825</td>\n",
       "</tr>\n",
       "<tr>\n",
       "  <th>Max.Price</th>          <td>    8.5619</td> <td>    0.222</td> <td>   38.569</td> <td> 0.000</td> <td>    8.120</td> <td>    9.003</td>\n",
       "</tr>\n",
       "<tr>\n",
       "  <th>MPG.highway</th>        <td>   -0.7266</td> <td>    0.291</td> <td>   -2.495</td> <td> 0.015</td> <td>   -1.306</td> <td>   -0.147</td>\n",
       "</tr>\n",
       "<tr>\n",
       "  <th>RPM</th>                <td>    0.0581</td> <td>    0.214</td> <td>    0.272</td> <td> 0.786</td> <td>   -0.367</td> <td>    0.483</td>\n",
       "</tr>\n",
       "<tr>\n",
       "  <th>Rev.per.mile</th>       <td>   -0.1564</td> <td>    0.268</td> <td>   -0.584</td> <td> 0.561</td> <td>   -0.689</td> <td>    0.377</td>\n",
       "</tr>\n",
       "<tr>\n",
       "  <th>Fuel.tank.capacity</th> <td>    0.0148</td> <td>    0.323</td> <td>    0.046</td> <td> 0.964</td> <td>   -0.628</td> <td>    0.657</td>\n",
       "</tr>\n",
       "<tr>\n",
       "  <th>Passengers</th>         <td>   -1.0972</td> <td>    0.241</td> <td>   -4.548</td> <td> 0.000</td> <td>   -1.577</td> <td>   -0.617</td>\n",
       "</tr>\n",
       "<tr>\n",
       "  <th>Length</th>             <td>    0.7766</td> <td>    0.304</td> <td>    2.554</td> <td> 0.013</td> <td>    0.172</td> <td>    1.382</td>\n",
       "</tr>\n",
       "<tr>\n",
       "  <th>Turn.circle</th>        <td>   -0.2138</td> <td>    0.282</td> <td>   -0.757</td> <td> 0.451</td> <td>   -0.776</td> <td>    0.348</td>\n",
       "</tr>\n",
       "<tr>\n",
       "  <th>Rear.seat.room</th>     <td>    0.8890</td> <td>    0.235</td> <td>    3.784</td> <td> 0.000</td> <td>    0.422</td> <td>    1.356</td>\n",
       "</tr>\n",
       "<tr>\n",
       "  <th>Luggage.room</th>       <td>   -0.0186</td> <td>    0.255</td> <td>   -0.073</td> <td> 0.942</td> <td>   -0.527</td> <td>    0.490</td>\n",
       "</tr>\n",
       "</table>\n",
       "<table class=\"simpletable\">\n",
       "<tr>\n",
       "  <th>Omnibus:</th>       <td> 1.227</td> <th>  Durbin-Watson:     </th> <td>   1.635</td>\n",
       "</tr>\n",
       "<tr>\n",
       "  <th>Prob(Omnibus):</th> <td> 0.542</td> <th>  Jarque-Bera (JB):  </th> <td>   0.936</td>\n",
       "</tr>\n",
       "<tr>\n",
       "  <th>Skew:</th>          <td> 0.244</td> <th>  Prob(JB):          </th> <td>   0.626</td>\n",
       "</tr>\n",
       "<tr>\n",
       "  <th>Kurtosis:</th>      <td> 3.052</td> <th>  Cond. No.          </th> <td>    5.88</td>\n",
       "</tr>\n",
       "</table><br/><br/>Notes:<br/>[1] Standard Errors assume that the covariance matrix of the errors is correctly specified."
      ],
      "text/plain": [
       "<class 'statsmodels.iolib.summary.Summary'>\n",
       "\"\"\"\n",
       "                            OLS Regression Results                            \n",
       "==============================================================================\n",
       "Dep. Variable:                  Price   R-squared:                       0.978\n",
       "Model:                            OLS   Adj. R-squared:                  0.975\n",
       "Method:                 Least Squares   F-statistic:                     358.6\n",
       "Date:                Mon, 17 Apr 2023   Prob (F-statistic):           2.89e-63\n",
       "Time:                        10:21:29   Log-Likelihood:                -165.65\n",
       "No. Observations:                  93   AIC:                             353.3\n",
       "Df Residuals:                      82   BIC:                             381.2\n",
       "Df Model:                          10                                         \n",
       "Covariance Type:            nonrobust                                         \n",
       "======================================================================================\n",
       "                         coef    std err          t      P>|t|      [0.025      0.975]\n",
       "--------------------------------------------------------------------------------------\n",
       "const                 19.5097      0.159    122.983      0.000      19.194      19.825\n",
       "Max.Price              8.5619      0.222     38.569      0.000       8.120       9.003\n",
       "MPG.highway           -0.7266      0.291     -2.495      0.015      -1.306      -0.147\n",
       "RPM                    0.0581      0.214      0.272      0.786      -0.367       0.483\n",
       "Rev.per.mile          -0.1564      0.268     -0.584      0.561      -0.689       0.377\n",
       "Fuel.tank.capacity     0.0148      0.323      0.046      0.964      -0.628       0.657\n",
       "Passengers            -1.0972      0.241     -4.548      0.000      -1.577      -0.617\n",
       "Length                 0.7766      0.304      2.554      0.013       0.172       1.382\n",
       "Turn.circle           -0.2138      0.282     -0.757      0.451      -0.776       0.348\n",
       "Rear.seat.room         0.8890      0.235      3.784      0.000       0.422       1.356\n",
       "Luggage.room          -0.0186      0.255     -0.073      0.942      -0.527       0.490\n",
       "==============================================================================\n",
       "Omnibus:                        1.227   Durbin-Watson:                   1.635\n",
       "Prob(Omnibus):                  0.542   Jarque-Bera (JB):                0.936\n",
       "Skew:                           0.244   Prob(JB):                        0.626\n",
       "Kurtosis:                       3.052   Cond. No.                         5.88\n",
       "==============================================================================\n",
       "\n",
       "Notes:\n",
       "[1] Standard Errors assume that the covariance matrix of the errors is correctly specified.\n",
       "\"\"\""
      ]
     },
     "execution_count": 75,
     "metadata": {},
     "output_type": "execute_result"
    }
   ],
   "source": [
    "new_model = sm.OLS(y, Xc).fit()\n",
    "new_model.summary()"
   ]
  },
  {
   "cell_type": "code",
   "execution_count": 84,
   "id": "fbbea167",
   "metadata": {},
   "outputs": [
    {
     "data": {
      "text/plain": [
       "<AxesSubplot:>"
      ]
     },
     "execution_count": 84,
     "metadata": {},
     "output_type": "execute_result"
    },
    {
     "data": {
      "image/png": "[encoded data removed]",
      "text/plain": [
       "<Figure size 640x480 with 1 Axes>"
      ]
     },
     "metadata": {},
     "output_type": "display_data"
    }
   ],
   "source": [
    "sns.scatterplot(new_model.fittedvalues, new_model.resid)"
   ]
  },
  {
   "cell_type": "code",
   "execution_count": 86,
   "id": "5bb8668c",
   "metadata": {},
   "outputs": [
    {
     "data": {
      "text/plain": [
       "count   93.000000\n",
       "mean    19.509677\n",
       "std      9.659430\n",
       "min      7.400000\n",
       "25%     12.200000\n",
       "50%     17.700000\n",
       "75%     23.300000\n",
       "max     61.900000\n",
       "Name: Price, dtype: float64"
      ]
     },
     "execution_count": 86,
     "metadata": {},
     "output_type": "execute_result"
    }
   ],
   "source": [
    "y.describe()"
   ]
  },
  {
   "cell_type": "code",
   "execution_count": 87,
   "id": "055c4a05",
   "metadata": {},
   "outputs": [],
   "source": [
    "y_log = np.log(y) "
   ]
  },
  {
   "cell_type": "code",
   "execution_count": 88,
   "id": "c22ec584",
   "metadata": {},
   "outputs": [
    {
     "data": {
      "text/html": [
       "<table class=\"simpletable\">\n",
       "<caption>OLS Regression Results</caption>\n",
       "<tr>\n",
       "  <th>Dep. Variable:</th>          <td>Price</td>      <th>  R-squared:         </th> <td>   0.942</td>\n",
       "</tr>\n",
       "<tr>\n",
       "  <th>Model:</th>                   <td>OLS</td>       <th>  Adj. R-squared:    </th> <td>   0.935</td>\n",
       "</tr>\n",
       "<tr>\n",
       "  <th>Method:</th>             <td>Least Squares</td>  <th>  F-statistic:       </th> <td>   132.4</td>\n",
       "</tr>\n",
       "<tr>\n",
       "  <th>Date:</th>             <td>Mon, 17 Apr 2023</td> <th>  Prob (F-statistic):</th> <td>2.96e-46</td>\n",
       "</tr>\n",
       "<tr>\n",
       "  <th>Time:</th>                 <td>10:25:05</td>     <th>  Log-Likelihood:    </th> <td>  73.979</td>\n",
       "</tr>\n",
       "<tr>\n",
       "  <th>No. Observations:</th>      <td>    93</td>      <th>  AIC:               </th> <td>  -126.0</td>\n",
       "</tr>\n",
       "<tr>\n",
       "  <th>Df Residuals:</th>          <td>    82</td>      <th>  BIC:               </th> <td>  -98.10</td>\n",
       "</tr>\n",
       "<tr>\n",
       "  <th>Df Model:</th>              <td>    10</td>      <th>                     </th>     <td> </td>   \n",
       "</tr>\n",
       "<tr>\n",
       "  <th>Covariance Type:</th>      <td>nonrobust</td>    <th>                     </th>     <td> </td>   \n",
       "</tr>\n",
       "</table>\n",
       "<table class=\"simpletable\">\n",
       "<tr>\n",
       "           <td></td>             <th>coef</th>     <th>std err</th>      <th>t</th>      <th>P>|t|</th>  <th>[0.025</th>    <th>0.975]</th>  \n",
       "</tr>\n",
       "<tr>\n",
       "  <th>const</th>              <td>    2.8655</td> <td>    0.012</td> <td>  237.578</td> <td> 0.000</td> <td>    2.841</td> <td>    2.889</td>\n",
       "</tr>\n",
       "<tr>\n",
       "  <th>Max.Price</th>          <td>    0.3103</td> <td>    0.017</td> <td>   18.386</td> <td> 0.000</td> <td>    0.277</td> <td>    0.344</td>\n",
       "</tr>\n",
       "<tr>\n",
       "  <th>MPG.highway</th>        <td>   -0.0628</td> <td>    0.022</td> <td>   -2.835</td> <td> 0.006</td> <td>   -0.107</td> <td>   -0.019</td>\n",
       "</tr>\n",
       "<tr>\n",
       "  <th>RPM</th>                <td>    0.0258</td> <td>    0.016</td> <td>    1.586</td> <td> 0.117</td> <td>   -0.007</td> <td>    0.058</td>\n",
       "</tr>\n",
       "<tr>\n",
       "  <th>Rev.per.mile</th>       <td>   -0.0168</td> <td>    0.020</td> <td>   -0.825</td> <td> 0.412</td> <td>   -0.057</td> <td>    0.024</td>\n",
       "</tr>\n",
       "<tr>\n",
       "  <th>Fuel.tank.capacity</th> <td>    0.0477</td> <td>    0.025</td> <td>    1.943</td> <td> 0.055</td> <td>   -0.001</td> <td>    0.097</td>\n",
       "</tr>\n",
       "<tr>\n",
       "  <th>Passengers</th>         <td>   -0.0567</td> <td>    0.018</td> <td>   -3.094</td> <td> 0.003</td> <td>   -0.093</td> <td>   -0.020</td>\n",
       "</tr>\n",
       "<tr>\n",
       "  <th>Length</th>             <td>    0.0653</td> <td>    0.023</td> <td>    2.825</td> <td> 0.006</td> <td>    0.019</td> <td>    0.111</td>\n",
       "</tr>\n",
       "<tr>\n",
       "  <th>Turn.circle</th>        <td>    0.0266</td> <td>    0.021</td> <td>    1.239</td> <td> 0.219</td> <td>   -0.016</td> <td>    0.069</td>\n",
       "</tr>\n",
       "<tr>\n",
       "  <th>Rear.seat.room</th>     <td>    0.0328</td> <td>    0.018</td> <td>    1.836</td> <td> 0.070</td> <td>   -0.003</td> <td>    0.068</td>\n",
       "</tr>\n",
       "<tr>\n",
       "  <th>Luggage.room</th>       <td>   -0.0054</td> <td>    0.019</td> <td>   -0.279</td> <td> 0.781</td> <td>   -0.044</td> <td>    0.033</td>\n",
       "</tr>\n",
       "</table>\n",
       "<table class=\"simpletable\">\n",
       "<tr>\n",
       "  <th>Omnibus:</th>       <td>14.353</td> <th>  Durbin-Watson:     </th> <td>   1.798</td>\n",
       "</tr>\n",
       "<tr>\n",
       "  <th>Prob(Omnibus):</th> <td> 0.001</td> <th>  Jarque-Bera (JB):  </th> <td>  39.392</td>\n",
       "</tr>\n",
       "<tr>\n",
       "  <th>Skew:</th>          <td>-0.377</td> <th>  Prob(JB):          </th> <td>2.79e-09</td>\n",
       "</tr>\n",
       "<tr>\n",
       "  <th>Kurtosis:</th>      <td> 6.098</td> <th>  Cond. No.          </th> <td>    5.88</td>\n",
       "</tr>\n",
       "</table><br/><br/>Notes:<br/>[1] Standard Errors assume that the covariance matrix of the errors is correctly specified."
      ],
      "text/plain": [
       "<class 'statsmodels.iolib.summary.Summary'>\n",
       "\"\"\"\n",
       "                            OLS Regression Results                            \n",
       "==============================================================================\n",
       "Dep. Variable:                  Price   R-squared:                       0.942\n",
       "Model:                            OLS   Adj. R-squared:                  0.935\n",
       "Method:                 Least Squares   F-statistic:                     132.4\n",
       "Date:                Mon, 17 Apr 2023   Prob (F-statistic):           2.96e-46\n",
       "Time:                        10:25:05   Log-Likelihood:                 73.979\n",
       "No. Observations:                  93   AIC:                            -126.0\n",
       "Df Residuals:                      82   BIC:                            -98.10\n",
       "Df Model:                          10                                         \n",
       "Covariance Type:            nonrobust                                         \n",
       "======================================================================================\n",
       "                         coef    std err          t      P>|t|      [0.025      0.975]\n",
       "--------------------------------------------------------------------------------------\n",
       "const                  2.8655      0.012    237.578      0.000       2.841       2.889\n",
       "Max.Price              0.3103      0.017     18.386      0.000       0.277       0.344\n",
       "MPG.highway           -0.0628      0.022     -2.835      0.006      -0.107      -0.019\n",
       "RPM                    0.0258      0.016      1.586      0.117      -0.007       0.058\n",
       "Rev.per.mile          -0.0168      0.020     -0.825      0.412      -0.057       0.024\n",
       "Fuel.tank.capacity     0.0477      0.025      1.943      0.055      -0.001       0.097\n",
       "Passengers            -0.0567      0.018     -3.094      0.003      -0.093      -0.020\n",
       "Length                 0.0653      0.023      2.825      0.006       0.019       0.111\n",
       "Turn.circle            0.0266      0.021      1.239      0.219      -0.016       0.069\n",
       "Rear.seat.room         0.0328      0.018      1.836      0.070      -0.003       0.068\n",
       "Luggage.room          -0.0054      0.019     -0.279      0.781      -0.044       0.033\n",
       "==============================================================================\n",
       "Omnibus:                       14.353   Durbin-Watson:                   1.798\n",
       "Prob(Omnibus):                  0.001   Jarque-Bera (JB):               39.392\n",
       "Skew:                          -0.377   Prob(JB):                     2.79e-09\n",
       "Kurtosis:                       6.098   Cond. No.                         5.88\n",
       "==============================================================================\n",
       "\n",
       "Notes:\n",
       "[1] Standard Errors assume that the covariance matrix of the errors is correctly specified.\n",
       "\"\"\""
      ]
     },
     "execution_count": 88,
     "metadata": {},
     "output_type": "execute_result"
    }
   ],
   "source": [
    "log_model = sm.OLS(y_log, Xc).fit()\n",
    "log_model.summary()"
   ]
  },
  {
   "cell_type": "code",
   "execution_count": 89,
   "id": "1903382b",
   "metadata": {},
   "outputs": [
    {
     "data": {
      "text/plain": [
       "<AxesSubplot:>"
      ]
     },
     "execution_count": 89,
     "metadata": {},
     "output_type": "execute_result"
    },
    {
     "data": {
      "image/png": "[encoded data removed]",
      "text/plain": [
       "<Figure size 640x480 with 1 Axes>"
      ]
     },
     "metadata": {},
     "output_type": "display_data"
    }
   ],
   "source": [
    "sns.scatterplot(log_model.fittedvalues, log_model.resid)"
   ]
  },
  {
   "cell_type": "code",
   "execution_count": 91,
   "id": "05697ed5",
   "metadata": {},
   "outputs": [],
   "source": [
    "# Since value of Durbin Watson test is 1.7, hence no autocorr.\n",
    "import scipy"
   ]
  },
  {
   "cell_type": "code",
   "execution_count": 96,
   "id": "55e963af",
   "metadata": {},
   "outputs": [
    {
     "data": {
      "text/plain": [
       "(8.354380807795149, 3.292870388501815e-09)"
      ]
     },
     "execution_count": 96,
     "metadata": {},
     "output_type": "execute_result"
    }
   ],
   "source": [
    "from statsmodels.stats.api import het_breuschpagan\n",
    "het_breuschpagan(log_model.resid, Xc)[2:]"
   ]
  },
  {
   "cell_type": "code",
   "execution_count": 97,
   "id": "cea19beb",
   "metadata": {},
   "outputs": [],
   "source": [
    "# Thre resid are hetroscedacsticity"
   ]
  },
  {
   "cell_type": "code",
   "execution_count": 98,
   "id": "9aecd08e",
   "metadata": {},
   "outputs": [
    {
     "data": {
      "text/plain": [
       "<AxesSubplot:ylabel='Density'>"
      ]
     },
     "execution_count": 98,
     "metadata": {},
     "output_type": "execute_result"
    },
    {
     "data": {
      "image/png": "[encoded data removed]",
      "text/plain": [
       "<Figure size 640x480 with 1 Axes>"
      ]
     },
     "metadata": {},
     "output_type": "display_data"
    }
   ],
   "source": [
    "sns.distplot(log_model.resid, kde=True)"
   ]
  },
  {
   "cell_type": "code",
   "execution_count": 99,
   "id": "060cd0c4",
   "metadata": {},
   "outputs": [
    {
     "data": {
      "text/plain": [
       "2.7934229845623644e-09"
      ]
     },
     "execution_count": 99,
     "metadata": {},
     "output_type": "execute_result"
    }
   ],
   "source": [
    "from statsmodels.stats.api import jarque_bera\n",
    "# H0: Data is normal\n",
    "test_stat, p_value, res_skew, res_kurt = jarque_bera(log_model.resid)\n",
    "p_value\n",
    "# Since p_value is low , hence reject H0 i.e. residuals are not normal."
   ]
  },
  {
   "cell_type": "code",
   "execution_count": 102,
   "id": "374f58ef",
   "metadata": {},
   "outputs": [
    {
     "data": {
      "text/html": [
       "<div>\n",
       "<style scoped>\n",
       "    .dataframe tbody tr th:only-of-type {\n",
       "        vertical-align: middle;\n",
       "    }\n",
       "\n",
       "    .dataframe tbody tr th {\n",
       "        vertical-align: top;\n",
       "    }\n",
       "\n",
       "    .dataframe thead th {\n",
       "        text-align: right;\n",
       "    }\n",
       "</style>\n",
       "<table border=\"1\" class=\"dataframe\">\n",
       "  <thead>\n",
       "    <tr style=\"text-align: right;\">\n",
       "      <th></th>\n",
       "      <th>Max.Price</th>\n",
       "      <th>MPG.highway</th>\n",
       "      <th>RPM</th>\n",
       "      <th>Rev.per.mile</th>\n",
       "      <th>Fuel.tank.capacity</th>\n",
       "      <th>Passengers</th>\n",
       "      <th>Length</th>\n",
       "      <th>Turn.circle</th>\n",
       "      <th>Rear.seat.room</th>\n",
       "      <th>Luggage.room</th>\n",
       "    </tr>\n",
       "  </thead>\n",
       "  <tbody>\n",
       "    <tr>\n",
       "      <th>0</th>\n",
       "      <td>-0.282465</td>\n",
       "      <td>0.360925</td>\n",
       "      <td>1.717489</td>\n",
       "      <td>1.129530</td>\n",
       "      <td>-1.062184</td>\n",
       "      <td>-0.083243</td>\n",
       "      <td>-0.427186</td>\n",
       "      <td>-0.610436</td>\n",
       "      <td>-0.452197</td>\n",
       "      <td>-1.033015</td>\n",
       "    </tr>\n",
       "    <tr>\n",
       "      <th>1</th>\n",
       "      <td>1.531409</td>\n",
       "      <td>-0.770514</td>\n",
       "      <td>0.369586</td>\n",
       "      <td>0.005661</td>\n",
       "      <td>0.409445</td>\n",
       "      <td>-0.083243</td>\n",
       "      <td>0.812171</td>\n",
       "      <td>-0.298510</td>\n",
       "      <td>0.738090</td>\n",
       "      <td>0.396643</td>\n",
       "    </tr>\n",
       "    <tr>\n",
       "      <th>2</th>\n",
       "      <td>0.948052</td>\n",
       "      <td>-0.581941</td>\n",
       "      <td>0.369586</td>\n",
       "      <td>-0.105713</td>\n",
       "      <td>0.072197</td>\n",
       "      <td>-0.083243</td>\n",
       "      <td>-0.220626</td>\n",
       "      <td>-0.610436</td>\n",
       "      <td>0.057926</td>\n",
       "      <td>0.039228</td>\n",
       "    </tr>\n",
       "    <tr>\n",
       "      <th>3</th>\n",
       "      <td>2.069191</td>\n",
       "      <td>-0.581941</td>\n",
       "      <td>0.369586</td>\n",
       "      <td>0.410659</td>\n",
       "      <td>1.359872</td>\n",
       "      <td>0.884457</td>\n",
       "      <td>0.674465</td>\n",
       "      <td>-0.610436</td>\n",
       "      <td>1.078172</td>\n",
       "      <td>1.111472</td>\n",
       "    </tr>\n",
       "    <tr>\n",
       "      <th>4</th>\n",
       "      <td>1.303535</td>\n",
       "      <td>0.172352</td>\n",
       "      <td>0.706562</td>\n",
       "      <td>0.430909</td>\n",
       "      <td>1.359872</td>\n",
       "      <td>-1.050944</td>\n",
       "      <td>0.192493</td>\n",
       "      <td>0.013416</td>\n",
       "      <td>-0.282156</td>\n",
       "      <td>-0.318186</td>\n",
       "    </tr>\n",
       "  </tbody>\n",
       "</table>\n",
       "</div>"
      ],
      "text/plain": [
       "   Max.Price  MPG.highway      RPM  Rev.per.mile  Fuel.tank.capacity  \\\n",
       "0  -0.282465     0.360925 1.717489      1.129530           -1.062184   \n",
       "1   1.531409    -0.770514 0.369586      0.005661            0.409445   \n",
       "2   0.948052    -0.581941 0.369586     -0.105713            0.072197   \n",
       "3   2.069191    -0.581941 0.369586      0.410659            1.359872   \n",
       "4   1.303535     0.172352 0.706562      0.430909            1.359872   \n",
       "\n",
       "   Passengers    Length  Turn.circle  Rear.seat.room  Luggage.room  \n",
       "0   -0.083243 -0.427186    -0.610436       -0.452197     -1.033015  \n",
       "1   -0.083243  0.812171    -0.298510        0.738090      0.396643  \n",
       "2   -0.083243 -0.220626    -0.610436        0.057926      0.039228  \n",
       "3    0.884457  0.674465    -0.610436        1.078172      1.111472  \n",
       "4   -1.050944  0.192493     0.013416       -0.282156     -0.318186  "
      ]
     },
     "execution_count": 102,
     "metadata": {},
     "output_type": "execute_result"
    }
   ],
   "source": [
    "X = Xc.drop('const', axis=1)\n",
    "X.head()"
   ]
  },
  {
   "cell_type": "code",
   "execution_count": 103,
   "id": "2cff6c71",
   "metadata": {},
   "outputs": [],
   "source": [
    "X_train, X_test, y_train, y_test = train_test_split(X, y, random_state=1)\n"
   ]
  },
  {
   "cell_type": "code",
   "execution_count": 104,
   "id": "32ec3bd7",
   "metadata": {},
   "outputs": [],
   "source": [
    "from sklearn.linear_model import LinearRegression"
   ]
  },
  {
   "cell_type": "code",
   "execution_count": 105,
   "id": "4f6f57f7",
   "metadata": {},
   "outputs": [
    {
     "data": {
      "text/plain": [
       "1.7463159881622135"
      ]
     },
     "execution_count": 105,
     "metadata": {},
     "output_type": "execute_result"
    }
   ],
   "source": [
    "lr = LinearRegression()\n",
    "lr.fit(X_train, y_train)\n",
    "mean_squared_error(y_test, lr.predict(X_test))**0.5"
   ]
  },
  {
   "cell_type": "markdown",
   "id": "548c3971",
   "metadata": {},
   "source": [
    "# Feature selection"
   ]
  },
  {
   "cell_type": "code",
   "execution_count": 106,
   "id": "2bb7512b",
   "metadata": {},
   "outputs": [],
   "source": [
    "from mlxtend.feature_selection import SequentialFeatureSelector as sfs"
   ]
  },
  {
   "cell_type": "code",
   "execution_count": 110,
   "id": "19140a0a",
   "metadata": {},
   "outputs": [
    {
     "data": {
      "text/plain": [
       "['Max.Price', 'Passengers', 'Length']"
      ]
     },
     "execution_count": 110,
     "metadata": {},
     "output_type": "execute_result"
    }
   ],
   "source": [
    "lr_sfs = sfs(estimator=lr, k_features='best', forward=True)\n",
    "sfs_fwd = lr_sfs.fit(X_train, y_train)\n",
    "fwd_features = list(sfs_fwd.k_feature_names_)\n",
    "fwd_features"
   ]
  },
  {
   "cell_type": "code",
   "execution_count": 111,
   "id": "da2efe01",
   "metadata": {},
   "outputs": [
    {
     "data": {
      "text/plain": [
       "['Max.Price', 'Passengers', 'Length']"
      ]
     },
     "execution_count": 111,
     "metadata": {},
     "output_type": "execute_result"
    }
   ],
   "source": [
    "lr_sfs = sfs(estimator=lr, k_features='best', forward=False)\n",
    "sfs_bwd = lr_sfs.fit(X_train, y_train)\n",
    "bwd_features = list(sfs_bwd.k_feature_names_)\n",
    "bwd_features"
   ]
  },
  {
   "cell_type": "code",
   "execution_count": 113,
   "id": "0d3c344a",
   "metadata": {},
   "outputs": [
    {
     "data": {
      "text/plain": [
       "2.0189391978026943"
      ]
     },
     "execution_count": 113,
     "metadata": {},
     "output_type": "execute_result"
    }
   ],
   "source": [
    "lr = LinearRegression()\n",
    "lr.fit(X_train[fwd_features], y_train)\n",
    "mean_squared_error(y_test, lr.predict(X_test[fwd_features]))**0.5"
   ]
  },
  {
   "cell_type": "code",
   "execution_count": 114,
   "id": "29e6c980",
   "metadata": {},
   "outputs": [],
   "source": [
    "from sklearn.feature_selection import RFE"
   ]
  },
  {
   "cell_type": "code",
   "execution_count": 115,
   "id": "684463f3",
   "metadata": {},
   "outputs": [
    {
     "data": {
      "text/plain": [
       "array([1, 1, 5, 4, 2, 1, 1, 3, 1, 6])"
      ]
     },
     "execution_count": 115,
     "metadata": {},
     "output_type": "execute_result"
    }
   ],
   "source": [
    "lr = LinearRegression()\n",
    "lr.fit(X_train, y_train)\n",
    "lr_rfe = RFE(estimator=lr, n_features_to_select=5)\n",
    "rfe_model = lr_rfe.fit(X_train, y_train)\n",
    "rfe_model.ranking_"
   ]
  },
  {
   "cell_type": "code",
   "execution_count": 116,
   "id": "f612c64f",
   "metadata": {},
   "outputs": [
    {
     "data": {
      "text/plain": [
       "['Max.Price', 'MPG.highway', 'Passengers', 'Length', 'Rear.seat.room']"
      ]
     },
     "execution_count": 116,
     "metadata": {},
     "output_type": "execute_result"
    }
   ],
   "source": [
    "rfe_rank = pd.DataFrame()\n",
    "rfe_rank['rank'] = rfe_model.ranking_\n",
    "rfe_rank['features'] = X_train.columns\n",
    "rfe_list = list(rfe_rank[rfe_rank['rank']==1]['features'])\n",
    "rfe_list"
   ]
  },
  {
   "cell_type": "code",
   "execution_count": 117,
   "id": "77786798",
   "metadata": {},
   "outputs": [
    {
     "data": {
      "text/plain": [
       "1.6725095870869457"
      ]
     },
     "execution_count": 117,
     "metadata": {},
     "output_type": "execute_result"
    }
   ],
   "source": [
    "lr.fit(X_train[rfe_list], y_train)\n",
    "mean_squared_error(y_test, lr.predict(X_test[rfe_list]))**0.5"
   ]
  },
  {
   "cell_type": "markdown",
   "id": "d4c862df",
   "metadata": {},
   "source": [
    "# Regularization"
   ]
  },
  {
   "cell_type": "code",
   "execution_count": 118,
   "id": "ab423673",
   "metadata": {},
   "outputs": [],
   "source": [
    "from sklearn.linear_model import Lasso, Ridge, ElasticNet"
   ]
  },
  {
   "cell_type": "code",
   "execution_count": 121,
   "id": "c3ce8ae7",
   "metadata": {},
   "outputs": [
    {
     "name": "stdout",
     "output_type": "stream",
     "text": [
      "Train R2 2.113798214556774\n",
      "Test R2 1.8964787866818877\n"
     ]
    }
   ],
   "source": [
    "ridge_model = Ridge(alpha=15)\n",
    "ridge_model.fit(X_train, y_train)\n",
    "\n",
    "y_pred_train = ridge_model.predict(X_train)\n",
    "y_pred_test = ridge_model.predict(X_test)\n",
    "\n",
    "train_rmse = mean_squared_error(y_train, y_pred_train)**0.5\n",
    "test_rmse = mean_squared_error(y_test, y_pred_test)**0.5\n",
    "\n",
    "print('Train R2', train_rmse)\n",
    "print('Test R2', test_rmse)"
   ]
  },
  {
   "cell_type": "code",
   "execution_count": 122,
   "id": "f8263e75",
   "metadata": {},
   "outputs": [
    {
     "name": "stdout",
     "output_type": "stream",
     "text": [
      "Train R2 2.404809668429077\n",
      "Test R2 2.018717880528523\n"
     ]
    }
   ],
   "source": [
    "ridge_model = Ridge(alpha=20)\n",
    "ridge_model.fit(X_train, y_train)\n",
    "\n",
    "y_pred_train = ridge_model.predict(X_train)\n",
    "y_pred_test = ridge_model.predict(X_test)\n",
    "\n",
    "train_rmse = mean_squared_error(y_train, y_pred_train)**0.5\n",
    "test_rmse = mean_squared_error(y_test, y_pred_test)**0.5\n",
    "\n",
    "print('Train R2', train_rmse)\n",
    "print('Test R2', test_rmse)"
   ]
  },
  {
   "cell_type": "code",
   "execution_count": 124,
   "id": "cbe1d858",
   "metadata": {},
   "outputs": [
    {
     "name": "stdout",
     "output_type": "stream",
     "text": [
      "Train R2 1.9243034982116034\n",
      "Test R2 2.070726480250555\n"
     ]
    }
   ],
   "source": [
    "lasso_model = Lasso(alpha=1)\n",
    "lasso_model.fit(X_train, y_train)\n",
    "y_pred_train = lasso_model.predict(X_train)\n",
    "y_pred_test = lasso_model.predict(X_test)\n",
    "train_rmse = mean_squared_error(y_train, y_pred_train)**0.5\n",
    "test_rmse = mean_squared_error(y_test, y_pred_test)**0.5\n",
    "\n",
    "print('Train R2', train_rmse)\n",
    "print('Test R2', test_rmse)"
   ]
  },
  {
   "cell_type": "code",
   "execution_count": 125,
   "id": "fd7afb55",
   "metadata": {},
   "outputs": [
    {
     "name": "stdout",
     "output_type": "stream",
     "text": [
      "Train R2 12.351246599816513\n",
      "Test R2 9.10904634484442\n"
     ]
    }
   ],
   "source": [
    "en_model = ElasticNet(alpha=1, l1_ratio=0.5)\n",
    "en_model.fit(X_train, y_train)\n",
    "\n",
    "\n",
    "y_pred_train = en_model.predict(X_train)\n",
    "y_pred_test = en_model.predict(X_test)\n",
    "\n",
    "train_rmse = mean_squared_error(y_train, y_pred_train)\n",
    "test_rmse = mean_squared_error(y_test, y_pred_test)\n",
    "\n",
    "print('Train R2', train_rmse)\n",
    "print('Test R2', test_rmse)"
   ]
  },
  {
   "cell_type": "code",
   "execution_count": 127,
   "id": "829c5cc1",
   "metadata": {},
   "outputs": [],
   "source": [
    "from sklearn.model_selection import GridSearchCV"
   ]
  },
  {
   "cell_type": "code",
   "execution_count": 128,
   "id": "4531709b",
   "metadata": {},
   "outputs": [
    {
     "data": {
      "text/plain": [
       "{'alpha': 1}"
      ]
     },
     "execution_count": 128,
     "metadata": {},
     "output_type": "execute_result"
    }
   ],
   "source": [
    "param = {'alpha':[0.0,0.1,1,10]}\n",
    "\n",
    "model = Ridge()\n",
    "\n",
    "grid_cv = GridSearchCV(estimator=model, param_grid=param, cv=5, scoring='r2')\n",
    "\n",
    "grid_cv.fit(X_train, y_train)\n",
    "grid_cv.best_params_"
   ]
  },
  {
   "cell_type": "code",
   "execution_count": null,
   "id": "ea1bc6db",
   "metadata": {},
   "outputs": [],
   "source": []
  }
 ],
 "metadata": {
  "kernelspec": {
   "display_name": "Python 3 (ipykernel)",
   "language": "python",
   "name": "python3"
  },
  "language_info": {
   "codemirror_mode": {
    "name": "ipython",
    "version": 3
   },
   "file_extension": ".py",
   "mimetype": "text/x-python",
   "name": "python",
   "nbconvert_exporter": "python",
   "pygments_lexer": "ipython3",
   "version": "3.9.13"
  }
 },
 "nbformat": 4,
 "nbformat_minor": 5
}
