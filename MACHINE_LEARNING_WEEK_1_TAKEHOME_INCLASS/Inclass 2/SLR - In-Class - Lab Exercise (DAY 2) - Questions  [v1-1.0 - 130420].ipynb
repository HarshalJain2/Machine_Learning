{
 "cells": [
  {
   "cell_type": "markdown",
   "metadata": {
    "id": "5TJ-fTi9G5Xw"
   },
   "source": [
    "<table align=\"center\" width=100%>\n",
    "    <tr>\n",
    "        <td width=\"20%\">\n",
    "            <img src=\"in_class.png\">\n",
    "        </td>\n",
    "        <td>\n",
    "            <div align=\"center\">\n",
    "                <font color=\"#21618C\" size=8px>\n",
    "                    <b> Inclass - Lab <br>(Day 2)\n",
    "                    </b>\n",
    "                </font>\n",
    "            </div>\n",
    "        </td>\n",
    "         <td width=\"25%\">\n",
    "            <img src=\"GL-2.png\">\n",
    "        </td>\n",
    "    </tr>\n",
    "</table>"
   ]
  },
  {
   "cell_type": "markdown",
   "metadata": {
    "id": "R4InwCYOG5X6"
   },
   "source": [
    "### About the data set (White wine data)\n",
    "\n",
    "The dataset contains information about several health and economic factors that contribute to average life expectancy for different countries. <br> Attribute information: \n",
    "\n",
    "**Fixed_Acidity:** The ph value for titrable acid content (0-7)\n",
    "\n",
    "**Volatile_Acidity:** Measure of acidity due to bacteria\n",
    "\n",
    "**Citric_Acid:** Amount of citric acid present in wine\n",
    "\n",
    "**Residual_Sugar:** Amount of grape sugar in gms/litre\n",
    "\n",
    "**Chlorides:** Amount of chlorides present in wine\n",
    "\n",
    "**Free_Sulfur-dioxide:** Amount of SO2 that is not bound to other molecules\n",
    "\n",
    "**Total_Sulfur-dioxide:** Portion of SO2 that is free in the wine plus the portion that is bound to other chemicals in the wine\n",
    "\n",
    "**Density:** Density of wine (gms/cm<sup>3</sup>)\n",
    "\n",
    "**pH:** The pH value of wine (0-14)\n",
    "\n",
    "**Sulphates:** Amount of salts of sulphuric acid \n",
    "\n",
    "**Alcohol:** Alcohol content in percentage\n",
    "\n",
    "**Quality:** Wine quality "
   ]
  },
  {
   "cell_type": "markdown",
   "metadata": {
    "id": "G6-w4x7oG5X8"
   },
   "source": [
    "## Table of Content\n",
    "\n",
    "1. **[Feature Transformation](#trans)**\n",
    "2. **[Feature Selection](#sel)**\n",
    "3. **[Model Validation](#cv)**"
   ]
  },
  {
   "cell_type": "markdown",
   "metadata": {
    "id": "EK_qJPFXG5X-"
   },
   "source": [
    "**Import the required libraries**"
   ]
  },
  {
   "cell_type": "code",
   "execution_count": 28,
   "metadata": {
    "id": "xfniGc2ZG5X_"
   },
   "outputs": [],
   "source": [
    "import numpy as np \n",
    "import pandas as pd\n",
    "import seaborn as sns \n",
    "import matplotlib.pyplot as plt\n",
    "import statsmodels.api as sm\n",
    "import scipy.stats as stats\n",
    "from statsmodels.stats.outliers_influence import variance_inflation_factor as VIF\n",
    "import pandas as pd \n",
    "import numpy as np\n",
    "import matplotlib.pyplot as plt\n",
    "import seaborn as sns\n",
    "\n",
    "from warnings import filterwarnings\n",
    "filterwarnings('ignore')\n",
    "\n",
    "#pd.options.display.max_columns = None\n",
    "#pd.options.display.max_rows = None\n",
    " \n",
    "# to display the float values upto 6 decimal places     \n",
    "pd.options.display.float_format = '{:.6f}'.format\n",
    "\n",
    "# import train-test split \n",
    "from sklearn.model_selection import train_test_split\n",
    "\n",
    "# import various functions from statsmodel to perform linear regression\n",
    "# import statsmodels\n",
    "import statsmodels.api as sm\n",
    "import statsmodels.stats.api as sms\n",
    "from statsmodels.graphics.gofplots import qqplot\n",
    "from statsmodels.stats.outliers_influence import variance_inflation_factor\n",
    "\n",
    "# import various functions from scipy\n",
    "from scipy import stats\n",
    "\n",
    "# import 'metrics' from sklearn is used for evaluating the model performance\n",
    "from sklearn.metrics import mean_squared_error\n",
    "\n",
    "# import StandardScaler for scaling the data\n",
    "from sklearn.preprocessing import StandardScaler\n",
    "# functions for forward selection\n",
    "from mlxtend.feature_selection import SequentialFeatureSelector as sfs\n",
    "from sklearn.feature_selection import RFE\n",
    "\n",
    "# functions for linear regression\n",
    "from sklearn.linear_model import LinearRegression\n",
    "\n",
    "# functions for  cross validation\n",
    "from sklearn.model_selection import LeaveOneOut\n",
    "from sklearn.model_selection import cross_val_score\n",
    "from sklearn.model_selection import KFold\n",
    "#from sklearn import preprocessing"
   ]
  },
  {
   "cell_type": "markdown",
   "metadata": {
    "id": "SIHbFx4LG5YC"
   },
   "source": [
    "#### Load the first dataset and check the first two observations"
   ]
  },
  {
   "cell_type": "code",
   "execution_count": 2,
   "metadata": {
    "id": "W9XuA9pOG5YE"
   },
   "outputs": [
    {
     "data": {
      "text/html": [
       "<div>\n",
       "<style scoped>\n",
       "    .dataframe tbody tr th:only-of-type {\n",
       "        vertical-align: middle;\n",
       "    }\n",
       "\n",
       "    .dataframe tbody tr th {\n",
       "        vertical-align: top;\n",
       "    }\n",
       "\n",
       "    .dataframe thead th {\n",
       "        text-align: right;\n",
       "    }\n",
       "</style>\n",
       "<table border=\"1\" class=\"dataframe\">\n",
       "  <thead>\n",
       "    <tr style=\"text-align: right;\">\n",
       "      <th></th>\n",
       "      <th>fixed acidity</th>\n",
       "      <th>volatile acidity</th>\n",
       "      <th>citric acid</th>\n",
       "      <th>residual sugar</th>\n",
       "      <th>chlorides</th>\n",
       "      <th>free sulfur dioxide</th>\n",
       "      <th>total sulfur dioxide</th>\n",
       "      <th>density</th>\n",
       "      <th>pH</th>\n",
       "      <th>sulphates</th>\n",
       "      <th>alcohol</th>\n",
       "      <th>quality</th>\n",
       "    </tr>\n",
       "  </thead>\n",
       "  <tbody>\n",
       "    <tr>\n",
       "      <th>0</th>\n",
       "      <td>7.000000</td>\n",
       "      <td>0.270000</td>\n",
       "      <td>0.360000</td>\n",
       "      <td>20.700000</td>\n",
       "      <td>0.045000</td>\n",
       "      <td>45.000000</td>\n",
       "      <td>170.000000</td>\n",
       "      <td>1.001000</td>\n",
       "      <td>3.000000</td>\n",
       "      <td>0.450000</td>\n",
       "      <td>8.800000</td>\n",
       "      <td>6</td>\n",
       "    </tr>\n",
       "    <tr>\n",
       "      <th>1</th>\n",
       "      <td>6.300000</td>\n",
       "      <td>0.300000</td>\n",
       "      <td>0.340000</td>\n",
       "      <td>1.600000</td>\n",
       "      <td>0.049000</td>\n",
       "      <td>14.000000</td>\n",
       "      <td>132.000000</td>\n",
       "      <td>0.994000</td>\n",
       "      <td>3.300000</td>\n",
       "      <td>0.490000</td>\n",
       "      <td>9.500000</td>\n",
       "      <td>6</td>\n",
       "    </tr>\n",
       "    <tr>\n",
       "      <th>2</th>\n",
       "      <td>8.100000</td>\n",
       "      <td>0.280000</td>\n",
       "      <td>0.400000</td>\n",
       "      <td>6.900000</td>\n",
       "      <td>0.050000</td>\n",
       "      <td>30.000000</td>\n",
       "      <td>97.000000</td>\n",
       "      <td>0.995100</td>\n",
       "      <td>3.260000</td>\n",
       "      <td>0.440000</td>\n",
       "      <td>10.100000</td>\n",
       "      <td>6</td>\n",
       "    </tr>\n",
       "    <tr>\n",
       "      <th>3</th>\n",
       "      <td>7.200000</td>\n",
       "      <td>0.230000</td>\n",
       "      <td>0.320000</td>\n",
       "      <td>8.500000</td>\n",
       "      <td>0.058000</td>\n",
       "      <td>47.000000</td>\n",
       "      <td>186.000000</td>\n",
       "      <td>0.995600</td>\n",
       "      <td>3.190000</td>\n",
       "      <td>0.400000</td>\n",
       "      <td>9.900000</td>\n",
       "      <td>6</td>\n",
       "    </tr>\n",
       "    <tr>\n",
       "      <th>4</th>\n",
       "      <td>7.200000</td>\n",
       "      <td>0.230000</td>\n",
       "      <td>0.320000</td>\n",
       "      <td>8.500000</td>\n",
       "      <td>0.058000</td>\n",
       "      <td>47.000000</td>\n",
       "      <td>186.000000</td>\n",
       "      <td>0.995600</td>\n",
       "      <td>3.190000</td>\n",
       "      <td>0.400000</td>\n",
       "      <td>9.900000</td>\n",
       "      <td>6</td>\n",
       "    </tr>\n",
       "  </tbody>\n",
       "</table>\n",
       "</div>"
      ],
      "text/plain": [
       "   fixed acidity  volatile acidity  citric acid  residual sugar  chlorides  \\\n",
       "0       7.000000          0.270000     0.360000       20.700000   0.045000   \n",
       "1       6.300000          0.300000     0.340000        1.600000   0.049000   \n",
       "2       8.100000          0.280000     0.400000        6.900000   0.050000   \n",
       "3       7.200000          0.230000     0.320000        8.500000   0.058000   \n",
       "4       7.200000          0.230000     0.320000        8.500000   0.058000   \n",
       "\n",
       "   free sulfur dioxide  total sulfur dioxide  density       pH  sulphates  \\\n",
       "0            45.000000            170.000000 1.001000 3.000000   0.450000   \n",
       "1            14.000000            132.000000 0.994000 3.300000   0.490000   \n",
       "2            30.000000             97.000000 0.995100 3.260000   0.440000   \n",
       "3            47.000000            186.000000 0.995600 3.190000   0.400000   \n",
       "4            47.000000            186.000000 0.995600 3.190000   0.400000   \n",
       "\n",
       "    alcohol  quality  \n",
       "0  8.800000        6  \n",
       "1  9.500000        6  \n",
       "2 10.100000        6  \n",
       "3  9.900000        6  \n",
       "4  9.900000        6  "
      ]
     },
     "execution_count": 2,
     "metadata": {},
     "output_type": "execute_result"
    }
   ],
   "source": [
    "df1=pd.read_csv('winequality-white.csv',delimiter=';')\n",
    "df1.head()"
   ]
  },
  {
   "cell_type": "code",
   "execution_count": 3,
   "metadata": {
    "id": "a63hWzkjG5YG"
   },
   "outputs": [
    {
     "name": "stdout",
     "output_type": "stream",
     "text": [
      "<class 'pandas.core.frame.DataFrame'>\n",
      "RangeIndex: 4898 entries, 0 to 4897\n",
      "Data columns (total 12 columns):\n",
      " #   Column                Non-Null Count  Dtype  \n",
      "---  ------                --------------  -----  \n",
      " 0   fixed acidity         4898 non-null   float64\n",
      " 1   volatile acidity      4898 non-null   float64\n",
      " 2   citric acid           4898 non-null   float64\n",
      " 3   residual sugar        4898 non-null   float64\n",
      " 4   chlorides             4898 non-null   float64\n",
      " 5   free sulfur dioxide   4898 non-null   float64\n",
      " 6   total sulfur dioxide  4898 non-null   float64\n",
      " 7   density               4898 non-null   float64\n",
      " 8   pH                    4898 non-null   float64\n",
      " 9   sulphates             4898 non-null   float64\n",
      " 10  alcohol               4898 non-null   float64\n",
      " 11  quality               4898 non-null   int64  \n",
      "dtypes: float64(11), int64(1)\n",
      "memory usage: 459.3 KB\n"
     ]
    }
   ],
   "source": [
    "df1.info()"
   ]
  },
  {
   "cell_type": "markdown",
   "metadata": {
    "id": "cmsC-PCOG5YH"
   },
   "source": [
    "### Let's begin with some hands-on practice exercises"
   ]
  },
  {
   "cell_type": "markdown",
   "metadata": {
    "id": "ZSydDQLNG5YJ"
   },
   "source": [
    "<a id=\"trans\"> </a>\n",
    "## 1. Feature Transformation"
   ]
  },
  {
   "cell_type": "markdown",
   "metadata": {
    "id": "yKRGE-QJG5YK"
   },
   "source": [
    "## We shall use the wine quality dataset"
   ]
  },
  {
   "cell_type": "markdown",
   "metadata": {
    "collapsed": true,
    "id": "fawakPU5G5YL"
   },
   "source": [
    "<table align=\"left\">\n",
    "    <tr>\n",
    "        <td width=\"6%\">\n",
    "            <img src=\"question_icon.png\">\n",
    "        </td>\n",
    "        <td>\n",
    "            <div align=\"left\", style=\"font-size:120%\">\n",
    "                <font color=\"#21618C\">\n",
    "                    <b>1. Does the variable 'volatile acidity' need transformation ?</b>\n",
    "                </font>\n",
    "            </div>\n",
    "        </td>\n",
    "    </tr>\n",
    "</table>"
   ]
  },
  {
   "cell_type": "code",
   "execution_count": 4,
   "metadata": {
    "id": "o_ZKexVhG5YM"
   },
   "outputs": [
    {
     "data": {
      "image/png": "[encoded data removed]",
      "text/plain": [
       "<Figure size 640x480 with 1 Axes>"
      ]
     },
     "metadata": {},
     "output_type": "display_data"
    }
   ],
   "source": [
    "plt.hist(df1['volatile acidity'])\n",
    "#plt.title('Distribution of volatile acidity', fontsize = 15)\n",
    "#plt.xlabel('Volatile Acidity', fontsize = 15)\n",
    "#plt.ylabel('Frequency', fontsize = 15)\n",
    "plt.show()\n"
   ]
  },
  {
   "cell_type": "code",
   "execution_count": 5,
   "metadata": {},
   "outputs": [
    {
     "data": {
      "image/png": "[encoded data removed]",
      "text/plain": [
       "<Figure size 640x480 with 1 Axes>"
      ]
     },
     "metadata": {},
     "output_type": "display_data"
    }
   ],
   "source": [
    "df1['volatile acidity'] = np.log(df1['volatile acidity'])\n",
    "plt.hist(df1['volatile acidity'])\n",
    "#plt.title('Distribution of volatile acidity', fontsize = 15)\n",
    "#plt.xlabel('Volatile Acidity', fontsize = 15)\n",
    "#plt.ylabel('Frequency', fontsize = 15)\n",
    "plt.show()"
   ]
  },
  {
   "cell_type": "markdown",
   "metadata": {
    "collapsed": true,
    "id": "Pf72mESDG5YN"
   },
   "source": [
    "<table align=\"left\">\n",
    "    <tr>\n",
    "        <td width=\"6%\">\n",
    "            <img src=\"question_icon.png\">\n",
    "        </td>\n",
    "        <td>\n",
    "            <div align=\"left\", style=\"font-size:120%\">\n",
    "                <font color=\"#21618C\">\n",
    "                    <b>2. How can we reduce skewness of variable 'Residual_Sugar'?</b>\n",
    "                </font>\n",
    "            </div>\n",
    "        </td>\n",
    "    </tr>\n",
    "</table>"
   ]
  },
  {
   "cell_type": "code",
   "execution_count": 6,
   "metadata": {
    "id": "wQ3qYUEcG5YP"
   },
   "outputs": [
    {
     "data": {
      "image/png": "[encoded data removed]",
      "text/plain": [
       "<Figure size 640x480 with 1 Axes>"
      ]
     },
     "metadata": {},
     "output_type": "display_data"
    }
   ],
   "source": [
    "# type your code here\n",
    "plt.hist(df1['residual sugar'])\n",
    "plt.title('Distribution of Residual sugar', fontsize = 15)\n",
    "plt.xlabel('Residual sugar', fontsize = 15)\n",
    "plt.ylabel('Frequency', fontsize = 15)\n",
    "# display the plot\n",
    "plt.show()"
   ]
  },
  {
   "cell_type": "code",
   "execution_count": 7,
   "metadata": {},
   "outputs": [
    {
     "data": {
      "image/png": "[encoded data removed]",
      "text/plain": [
       "<Figure size 640x480 with 1 Axes>"
      ]
     },
     "metadata": {},
     "output_type": "display_data"
    }
   ],
   "source": [
    "# applying box-cox transformation using boxcox()\n",
    "# RS_lambda captures the optimal lamba value for box cox transformation\n",
    "df1['residual sugar'], RS_lambda = stats.boxcox(df1['residual sugar'])\n",
    "plt.hist(df1['residual sugar'])\n",
    "plt.title('Distribution of Residual sugar', fontsize = 15)\n",
    "plt.xlabel('Residual sugar', fontsize = 15)\n",
    "plt.ylabel('Frequency', fontsize = 15)\n",
    "# display the plot\n",
    "plt.show()"
   ]
  },
  {
   "cell_type": "markdown",
   "metadata": {
    "collapsed": true,
    "id": "v6ZKz-nxG5YP"
   },
   "source": [
    "<table align=\"left\">\n",
    "    <tr>\n",
    "        <td width=\"6%\">\n",
    "            <img src=\"question_icon.png\">\n",
    "        </td>\n",
    "        <td>\n",
    "            <div align=\"left\", style=\"font-size:120%\">\n",
    "                <font color=\"#21618C\">\n",
    "                    <b>3. Are there features in the dataset that add little to no information ?</b>\n",
    "                </font>\n",
    "            </div>\n",
    "        </td>\n",
    "    </tr>\n",
    "</table>"
   ]
  },
  {
   "cell_type": "code",
   "execution_count": 8,
   "metadata": {
    "id": "RzxSBLWcG5YQ"
   },
   "outputs": [
    {
     "data": {
      "text/plain": [
       "fixed acidity             0.712114\n",
       "volatile acidity          0.114351\n",
       "citric acid               0.014646\n",
       "residual sugar            1.217180\n",
       "chlorides                 0.000477\n",
       "free sulfur dioxide     289.242720\n",
       "total sulfur dioxide   1806.085491\n",
       "density                   0.000009\n",
       "pH                        0.022801\n",
       "sulphates                 0.013025\n",
       "alcohol                   1.514427\n",
       "quality                   0.784356\n",
       "dtype: float64"
      ]
     },
     "execution_count": 8,
     "metadata": {},
     "output_type": "execute_result"
    }
   ],
   "source": [
    "# type your code here\n",
    "# var(): calculates variance for all attributes in dataframe\n",
    "df1.var()"
   ]
  },
  {
   "cell_type": "markdown",
   "metadata": {
    "collapsed": true,
    "id": "Vlj9_FQLG5YR"
   },
   "source": [
    "<table align=\"left\">\n",
    "    <tr>\n",
    "        <td width=\"6%\">\n",
    "            <img src=\"question_icon.png\">\n",
    "        </td>\n",
    "        <td>\n",
    "            <div align=\"left\", style=\"font-size:120%\">\n",
    "                <font color=\"#21618C\">\n",
    "                    <b>4. Which transformation method is best suited to treat the skewness in variable 'alcohol'?</b>\n",
    "                </font>\n",
    "            </div>\n",
    "        </td>\n",
    "    </tr>\n",
    "</table>"
   ]
  },
  {
   "cell_type": "code",
   "execution_count": 9,
   "metadata": {
    "id": "tFB62ykUG5YS"
   },
   "outputs": [
    {
     "data": {
      "image/png": "[encoded data removed]",
      "text/plain": [
       "<Figure size 640x480 with 1 Axes>"
      ]
     },
     "metadata": {},
     "output_type": "display_data"
    }
   ],
   "source": [
    "# type your code here\n",
    "# plot the histogram of variable alcohol\n",
    "df1.alcohol.hist()\n",
    "plt.title('Distribution of Alcohol content', fontsize = 15)\n",
    "plt.xlabel('Alcohol content', fontsize = 15)\n",
    "plt.ylabel('Frequency', fontsize = 15)\n",
    "plt.show()\n"
   ]
  },
  {
   "cell_type": "code",
   "execution_count": 10,
   "metadata": {},
   "outputs": [
    {
     "data": {
      "image/png": "[encoded data removed]",
      "text/plain": [
       "<Figure size 640x480 with 1 Axes>"
      ]
     },
     "metadata": {},
     "output_type": "display_data"
    }
   ],
   "source": [
    "# applying log transformation\n",
    "new_alcohol = np.log(df1.alcohol)\n",
    "new_alcohol.hist()\n",
    "plt.title('Distribution of Alcohol content', fontsize = 15)\n",
    "plt.xlabel('Alcohol content', fontsize = 15)\n",
    "plt.ylabel('Frequency', fontsize = 15)\n",
    "plt.show()"
   ]
  },
  {
   "cell_type": "code",
   "execution_count": 11,
   "metadata": {},
   "outputs": [
    {
     "data": {
      "image/png": "[encoded data removed]",
      "text/plain": [
       "<Figure size 640x480 with 1 Axes>"
      ]
     },
     "metadata": {},
     "output_type": "display_data"
    }
   ],
   "source": [
    "# applying reciprocal transformation\n",
    "df1.alcohol = np.reciprocal(df1.alcohol)\n",
    "df1.alcohol.hist()\n",
    "plt.title('Distribution of Alcohol content', fontsize = 15)\n",
    "plt.xlabel('Alcohol content', fontsize = 15)\n",
    "plt.ylabel('Frequency', fontsize = 15)\n",
    "plt.show()"
   ]
  },
  {
   "cell_type": "markdown",
   "metadata": {
    "collapsed": true,
    "id": "nJAg3qZYG5YS"
   },
   "source": [
    "<table align=\"left\">\n",
    "    <tr>\n",
    "        <td width=\"6%\">\n",
    "            <img src=\"question_icon.png\">\n",
    "        </td>\n",
    "        <td>\n",
    "            <div align=\"left\", style=\"font-size:120%\">\n",
    "                <font color=\"#21618C\">\n",
    "                    <b>5. Does scaling the feature 'pH' lead to better prediction when considering a full model ?</b>\n",
    "                </font>\n",
    "            </div>\n",
    "        </td>\n",
    "    </tr>\n",
    "</table>"
   ]
  },
  {
   "cell_type": "code",
   "execution_count": 12,
   "metadata": {},
   "outputs": [
    {
     "name": "stdout",
     "output_type": "stream",
     "text": [
      "                            OLS Regression Results                            \n",
      "==============================================================================\n",
      "Dep. Variable:                quality   R-squared:                       0.274\n",
      "Model:                            OLS   Adj. R-squared:                  0.272\n",
      "Method:                 Least Squares   F-statistic:                     167.5\n",
      "Date:                Tue, 18 Apr 2023   Prob (F-statistic):               0.00\n",
      "Time:                        18:44:50   Log-Likelihood:                -5571.0\n",
      "No. Observations:                4898   AIC:                         1.117e+04\n",
      "Df Residuals:                    4886   BIC:                         1.124e+04\n",
      "Df Model:                          11                                         \n",
      "Covariance Type:            nonrobust                                         \n",
      "========================================================================================\n",
      "                           coef    std err          t      P>|t|      [0.025      0.975]\n",
      "----------------------------------------------------------------------------------------\n",
      "const                   88.3648     11.691      7.559      0.000      65.446     111.284\n",
      "fixed acidity            0.0008      0.018      0.044      0.965      -0.034       0.036\n",
      "volatile acidity        -0.5794      0.034    -17.018      0.000      -0.646      -0.513\n",
      "citric acid              0.1043      0.096      1.088      0.277      -0.084       0.292\n",
      "residual sugar           0.2586      0.022     11.953      0.000       0.216       0.301\n",
      "chlorides               -0.8767      0.543     -1.614      0.107      -1.941       0.188\n",
      "free sulfur dioxide      0.0041      0.001      4.864      0.000       0.002       0.006\n",
      "total sulfur dioxide    -0.0007      0.000     -1.846      0.065      -0.001    4.33e-05\n",
      "density                -82.9880     12.175     -6.816      0.000    -106.857     -59.119\n",
      "pH                       0.3680      0.092      3.978      0.000       0.187       0.549\n",
      "sulphates                0.5366      0.099      5.415      0.000       0.342       0.731\n",
      "alcohol                -27.9187      2.171    -12.859      0.000     -32.175     -23.662\n",
      "==============================================================================\n",
      "Omnibus:                      124.508   Durbin-Watson:                   1.626\n",
      "Prob(Omnibus):                  0.000   Jarque-Bera (JB):              274.883\n",
      "Skew:                           0.107   Prob(JB):                     2.04e-60\n",
      "Kurtosis:                       4.141   Cond. No.                     2.35e+05\n",
      "==============================================================================\n",
      "\n",
      "Notes:\n",
      "[1] Standard Errors assume that the covariance matrix of the errors is correctly specified.\n",
      "[2] The condition number is large, 2.35e+05. This might indicate that there are\n",
      "strong multicollinearity or other numerical problems.\n"
     ]
    }
   ],
   "source": [
    "X=df1.iloc[:,:11]\n",
    "X=sm.add_constant(X)\n",
    "\n",
    "y = df1['quality']\n",
    "\n",
    "MLR_model=sm.OLS(y,X).fit() \n",
    "print(MLR_model.summary())"
   ]
  },
  {
   "cell_type": "code",
   "execution_count": 13,
   "metadata": {
    "id": "-yYojd_EG5YT"
   },
   "outputs": [
    {
     "name": "stdout",
     "output_type": "stream",
     "text": [
      "                            OLS Regression Results                            \n",
      "==============================================================================\n",
      "Dep. Variable:                quality   R-squared:                       0.274\n",
      "Model:                            OLS   Adj. R-squared:                  0.272\n",
      "Method:                 Least Squares   F-statistic:                     167.5\n",
      "Date:                Tue, 18 Apr 2023   Prob (F-statistic):               0.00\n",
      "Time:                        18:44:50   Log-Likelihood:                -5571.0\n",
      "No. Observations:                4898   AIC:                         1.117e+04\n",
      "Df Residuals:                    4886   BIC:                         1.124e+04\n",
      "Df Model:                          11                                         \n",
      "Covariance Type:            nonrobust                                         \n",
      "========================================================================================\n",
      "                           coef    std err          t      P>|t|      [0.025      0.975]\n",
      "----------------------------------------------------------------------------------------\n",
      "const                   89.5381     11.819      7.576      0.000      66.367     112.709\n",
      "fixed acidity            0.0008      0.018      0.044      0.965      -0.034       0.036\n",
      "volatile acidity        -0.5794      0.034    -17.018      0.000      -0.646      -0.513\n",
      "citric acid              0.1043      0.096      1.088      0.277      -0.084       0.292\n",
      "residual sugar           0.2586      0.022     11.953      0.000       0.216       0.301\n",
      "chlorides               -0.8767      0.543     -1.614      0.107      -1.941       0.188\n",
      "free sulfur dioxide      0.0041      0.001      4.864      0.000       0.002       0.006\n",
      "total sulfur dioxide    -0.0007      0.000     -1.846      0.065      -0.001    4.33e-05\n",
      "density                -82.9880     12.175     -6.816      0.000    -106.857     -59.119\n",
      "pH                       0.0556      0.014      3.978      0.000       0.028       0.083\n",
      "sulphates                0.5366      0.099      5.415      0.000       0.342       0.731\n",
      "alcohol                -27.9187      2.171    -12.859      0.000     -32.175     -23.662\n",
      "==============================================================================\n",
      "Omnibus:                      124.508   Durbin-Watson:                   1.626\n",
      "Prob(Omnibus):                  0.000   Jarque-Bera (JB):              274.883\n",
      "Skew:                           0.107   Prob(JB):                     2.04e-60\n",
      "Kurtosis:                       4.141   Cond. No.                     2.36e+05\n",
      "==============================================================================\n",
      "\n",
      "Notes:\n",
      "[1] Standard Errors assume that the covariance matrix of the errors is correctly specified.\n",
      "[2] The condition number is large, 2.36e+05. This might indicate that there are\n",
      "strong multicollinearity or other numerical problems.\n"
     ]
    }
   ],
   "source": [
    "#create the Scaler object \n",
    "scaler=StandardScaler()\n",
    "df1.pH=scaler.fit_transform(pd.DataFrame(df1.pH))\n",
    "\n",
    "# select all features of the data for full model \n",
    "X=df1.iloc[:,:11]\n",
    "X=sm.add_constant(X)\n",
    "\n",
    "y = df1['quality']\n",
    "\n",
    "MLR_model=sm.OLS(y,X).fit() \n",
    "print(MLR_model.summary())"
   ]
  },
  {
   "cell_type": "markdown",
   "metadata": {
    "collapsed": true,
    "id": "_-0ywIdMG5YT"
   },
   "source": [
    "<table align=\"left\">\n",
    "    <tr>\n",
    "        <td width=\"6%\">\n",
    "            <img src=\"question_icon.png\">\n",
    "        </td>\n",
    "        <td>\n",
    "            <div align=\"left\", style=\"font-size:120%\">\n",
    "                <font color=\"#21618C\">\n",
    "                    <b>6. What could be done to resolve the issue of multicollinearity if present?</b>\n",
    "                </font>\n",
    "            </div>\n",
    "        </td>\n",
    "    </tr>\n",
    "</table>"
   ]
  },
  {
   "cell_type": "code",
   "execution_count": 37,
   "metadata": {},
   "outputs": [
    {
     "name": "stdout",
     "output_type": "stream",
     "text": [
      "                 feature            VIF\n",
      "0                  const 1196359.362118\n",
      "1          fixed acidity       1.959374\n",
      "2       volatile acidity       1.165228\n",
      "3            citric acid       1.196190\n",
      "4         residual sugar       4.879700\n",
      "5              chlorides       1.207945\n",
      "6    free sulfur dioxide       1.764577\n",
      "7   total sulfur dioxide       2.238206\n",
      "8                density      11.357213\n",
      "9                     pH       1.672799\n",
      "10             sulphates       1.097858\n",
      "11               alcohol       4.804308\n"
     ]
    }
   ],
   "source": [
    "df_numeric=df1.select_dtypes(include=[np.number])\n",
    "df_numeric=df_numeric.drop('quality',axis=1)\n",
    "df_numeric=sm.add_constant(df_numeric)\n",
    "vif['feature']=df_numeric.columns\n",
    "vif['VIF']=[VIF(df_numeric.values,i)for i in range(df_numeric.shape[1])]\n",
    "print(vif)"
   ]
  },
  {
   "cell_type": "code",
   "execution_count": 31,
   "metadata": {
    "id": "XzAVTt8DG5YU"
   },
   "outputs": [
    {
     "name": "stdout",
     "output_type": "stream",
     "text": [
      "                Features            VIF\n",
      "0                  const 1196359.362118\n",
      "1          fixed acidity       1.959374\n",
      "2       volatile acidity       1.165228\n",
      "3            citric acid       1.196190\n",
      "4         residual sugar       4.879700\n",
      "5              chlorides       1.207945\n",
      "6    free sulfur dioxide       1.764577\n",
      "7   total sulfur dioxide       2.238206\n",
      "8                density      11.357213\n",
      "9                     pH       1.672799\n",
      "10             sulphates       1.097858\n",
      "11               alcohol       4.804308\n"
     ]
    }
   ],
   "source": [
    "# type your code here\n",
    "# create an empty dataframe to store the VIF for each variable\n",
    "vif = pd.DataFrame()\n",
    "\n",
    "df_numeric = df1.select_dtypes(include=[np.number])\n",
    "df_numeric = df_numeric.drop(\"quality\", axis = 1)\n",
    "\n",
    "df_numeric = sm.add_constant(df_numeric)\n",
    "vif[\"Features\"] = df_numeric.columns\n",
    "vif[\"VIF\"] = [VIF(df_numeric.values, i) for i in range(df_numeric.shape[1])]\n",
    "\n",
    "print(vif)\n"
   ]
  },
  {
   "cell_type": "markdown",
   "metadata": {
    "collapsed": true,
    "id": "ZgRVylFZG5YV"
   },
   "source": [
    "<table align=\"left\">\n",
    "    <tr>\n",
    "        <td width=\"6%\">\n",
    "            <img src=\"question_icon.png\">\n",
    "        </td>\n",
    "        <td>\n",
    "            <div align=\"left\", style=\"font-size:120%\">\n",
    "                <font color=\"#21618C\">\n",
    "                    <b>7.  Fit a full model. Is the assumption for normality of residuals violated ?</b>\n",
    "                </font>\n",
    "            </div>\n",
    "        </td>\n",
    "    </tr>\n",
    "</table>"
   ]
  },
  {
   "cell_type": "code",
   "execution_count": 15,
   "metadata": {
    "id": "d8Ats26ZG5YV"
   },
   "outputs": [
    {
     "name": "stdout",
     "output_type": "stream",
     "text": [
      "                            OLS Regression Results                            \n",
      "==============================================================================\n",
      "Dep. Variable:                quality   R-squared:                       0.249\n",
      "Model:                            OLS   Adj. R-squared:                  0.248\n",
      "Method:                 Least Squares   F-statistic:                     162.2\n",
      "Date:                Tue, 18 Apr 2023   Prob (F-statistic):          3.45e-295\n",
      "Time:                        18:44:51   Log-Likelihood:                -5652.5\n",
      "No. Observations:                4898   AIC:                         1.133e+04\n",
      "Df Residuals:                    4887   BIC:                         1.140e+04\n",
      "Df Model:                          10                                         \n",
      "Covariance Type:            nonrobust                                         \n",
      "========================================================================================\n",
      "                           coef    std err          t      P>|t|      [0.025      0.975]\n",
      "----------------------------------------------------------------------------------------\n",
      "const                  212.4592      7.067     30.066      0.000     198.606     226.313\n",
      "fixed acidity            0.0998      0.016      6.098      0.000       0.068       0.132\n",
      "volatile acidity        -0.5346      0.034    -15.526      0.000      -0.602      -0.467\n",
      "citric acid              0.2121      0.097      2.184      0.029       0.022       0.403\n",
      "residual sugar           0.4215      0.018     23.637      0.000       0.387       0.456\n",
      "chlorides               -1.8038      0.547     -3.296      0.001      -2.877      -0.731\n",
      "free sulfur dioxide      0.0037      0.001      4.356      0.000       0.002       0.005\n",
      "total sulfur dioxide    -0.0012      0.000     -2.999      0.003      -0.002      -0.000\n",
      "density               -210.2763      7.206    -29.179      0.000    -224.404    -196.149\n",
      "pH                       0.1270      0.013      9.748      0.000       0.101       0.153\n",
      "sulphates                0.7495      0.099      7.545      0.000       0.555       0.944\n",
      "==============================================================================\n",
      "Omnibus:                      541.712   Durbin-Watson:                   1.633\n",
      "Prob(Omnibus):                  0.000   Jarque-Bera (JB):             2952.193\n",
      "Skew:                           0.388   Prob(JB):                         0.00\n",
      "Kurtosis:                       6.723   Cond. No.                     1.38e+05\n",
      "==============================================================================\n",
      "\n",
      "Notes:\n",
      "[1] Standard Errors assume that the covariance matrix of the errors is correctly specified.\n",
      "[2] The condition number is large, 1.38e+05. This might indicate that there are\n",
      "strong multicollinearity or other numerical problems.\n"
     ]
    }
   ],
   "source": [
    "# type your code here\n",
    "X = df1.iloc[:,:10]\n",
    "\n",
    "X = sm.add_constant(X)\n",
    "y = df1['quality']\n",
    "MLR_model = sm.OLS(y,X).fit()\n",
    "residuals = MLR_model.resid\n",
    "print(MLR_model.summary())"
   ]
  },
  {
   "cell_type": "code",
   "execution_count": 16,
   "metadata": {},
   "outputs": [
    {
     "data": {
      "image/png": "[encoded data removed]",
      "text/plain": [
       "<Figure size 640x480 with 1 Axes>"
      ]
     },
     "metadata": {},
     "output_type": "display_data"
    }
   ],
   "source": [
    "from statsmodels.graphics.gofplots import qqplot\n",
    "qqplot(MLR_model.resid, line = 'r')\n",
    "plt.title('Q-Q Plot', fontsize = 15)\n",
    "plt.xlabel('Theoretical Quantiles', fontsize = 15)\n",
    "plt.ylabel('Sample Quantiles', fontsize = 15)\n",
    "plt.show()"
   ]
  },
  {
   "cell_type": "markdown",
   "metadata": {
    "collapsed": true,
    "id": "6bQ3X0kKG5YW"
   },
   "source": [
    "<table align=\"left\">\n",
    "    <tr>\n",
    "        <td width=\"6%\">\n",
    "            <img src=\"question_icon.png\">\n",
    "        </td>\n",
    "        <td>\n",
    "            <div align=\"left\", style=\"font-size:120%\">\n",
    "                <font color=\"#21618C\">\n",
    "                    <b>8. Does the transformation of variable 'citric acid' affect the performance of prediction model?</b>\n",
    "                </font>\n",
    "            </div>\n",
    "        </td>\n",
    "    </tr>\n",
    "</table>"
   ]
  },
  {
   "cell_type": "code",
   "execution_count": 17,
   "metadata": {},
   "outputs": [
    {
     "data": {
      "text/plain": [
       "<AxesSubplot:>"
      ]
     },
     "execution_count": 17,
     "metadata": {},
     "output_type": "execute_result"
    },
    {
     "data": {
      "image/png": "[encoded data removed]",
      "text/plain": [
       "<Figure size 640x480 with 1 Axes>"
      ]
     },
     "metadata": {},
     "output_type": "display_data"
    }
   ],
   "source": [
    "df1['citric acid'].hist()"
   ]
  },
  {
   "cell_type": "code",
   "execution_count": 18,
   "metadata": {
    "id": "xH3PlYbtG5YW"
   },
   "outputs": [
    {
     "data": {
      "image/png": "[encoded data removed]",
      "text/plain": [
       "<Figure size 640x480 with 1 Axes>"
      ]
     },
     "metadata": {},
     "output_type": "display_data"
    }
   ],
   "source": [
    "# type your code here\n",
    "df1['citric acid'].hist()\n",
    "plt.title('Distribution of citric acid', fontsize = 15)\n",
    "plt.xlabel('citric acid', fontsize = 15)\n",
    "plt.ylabel('Frequency', fontsize = 15)\n",
    "plt.show()"
   ]
  },
  {
   "cell_type": "code",
   "execution_count": 19,
   "metadata": {
    "scrolled": false
   },
   "outputs": [
    {
     "name": "stdout",
     "output_type": "stream",
     "text": [
      "                            OLS Regression Results                            \n",
      "==============================================================================\n",
      "Dep. Variable:                quality   R-squared:                       0.250\n",
      "Model:                            OLS   Adj. R-squared:                  0.249\n",
      "Method:                 Least Squares   F-statistic:                     163.3\n",
      "Date:                Tue, 18 Apr 2023   Prob (F-statistic):          7.23e-297\n",
      "Time:                        18:44:51   Log-Likelihood:                -5648.6\n",
      "No. Observations:                4898   AIC:                         1.132e+04\n",
      "Df Residuals:                    4887   BIC:                         1.139e+04\n",
      "Df Model:                          10                                         \n",
      "Covariance Type:            nonrobust                                         \n",
      "========================================================================================\n",
      "                           coef    std err          t      P>|t|      [0.025      0.975]\n",
      "----------------------------------------------------------------------------------------\n",
      "const                  211.3771      7.067     29.909      0.000     197.522     225.232\n",
      "fixed acidity            0.0932      0.016      5.658      0.000       0.061       0.125\n",
      "volatile acidity        -0.5198      0.035    -14.938      0.000      -0.588      -0.452\n",
      "citric acid              0.3929      0.111      3.543      0.000       0.176       0.610\n",
      "residual sugar           0.4189      0.018     23.487      0.000       0.384       0.454\n",
      "chlorides               -1.8705      0.547     -3.421      0.001      -2.942      -0.799\n",
      "free sulfur dioxide      0.0037      0.001      4.360      0.000       0.002       0.005\n",
      "total sulfur dioxide    -0.0012      0.000     -3.122      0.002      -0.002      -0.000\n",
      "density               -209.2561      7.206    -29.037      0.000    -223.384    -195.128\n",
      "pH                       0.1276      0.013      9.804      0.000       0.102       0.153\n",
      "sulphates                0.7387      0.099      7.438      0.000       0.544       0.933\n",
      "==============================================================================\n",
      "Omnibus:                      531.779   Durbin-Watson:                   1.631\n",
      "Prob(Omnibus):                  0.000   Jarque-Bera (JB):             2838.905\n",
      "Skew:                           0.384   Prob(JB):                         0.00\n",
      "Kurtosis:                       6.650   Cond. No.                     1.38e+05\n",
      "==============================================================================\n",
      "\n",
      "Notes:\n",
      "[1] Standard Errors assume that the covariance matrix of the errors is correctly specified.\n",
      "[2] The condition number is large, 1.38e+05. This might indicate that there are\n",
      "strong multicollinearity or other numerical problems.\n",
      "                            OLS Regression Results                            \n",
      "==============================================================================\n",
      "Dep. Variable:                quality   R-squared:                       0.250\n",
      "Model:                            OLS   Adj. R-squared:                  0.249\n",
      "Method:                 Least Squares   F-statistic:                     163.3\n",
      "Date:                Tue, 18 Apr 2023   Prob (F-statistic):          7.23e-297\n",
      "Time:                        18:44:51   Log-Likelihood:                -5648.6\n",
      "No. Observations:                4898   AIC:                         1.132e+04\n",
      "Df Residuals:                    4887   BIC:                         1.139e+04\n",
      "Df Model:                          10                                         \n",
      "Covariance Type:            nonrobust                                         \n",
      "========================================================================================\n",
      "                           coef    std err          t      P>|t|      [0.025      0.975]\n",
      "----------------------------------------------------------------------------------------\n",
      "const                  211.3771      7.067     29.909      0.000     197.522     225.232\n",
      "fixed acidity            0.0932      0.016      5.658      0.000       0.061       0.125\n",
      "volatile acidity        -0.5198      0.035    -14.938      0.000      -0.588      -0.452\n",
      "citric acid              0.3929      0.111      3.543      0.000       0.176       0.610\n",
      "residual sugar           0.4189      0.018     23.487      0.000       0.384       0.454\n",
      "chlorides               -1.8705      0.547     -3.421      0.001      -2.942      -0.799\n",
      "free sulfur dioxide      0.0037      0.001      4.360      0.000       0.002       0.005\n",
      "total sulfur dioxide    -0.0012      0.000     -3.122      0.002      -0.002      -0.000\n",
      "density               -209.2561      7.206    -29.037      0.000    -223.384    -195.128\n",
      "pH                       0.1276      0.013      9.804      0.000       0.102       0.153\n",
      "sulphates                0.7387      0.099      7.438      0.000       0.544       0.933\n",
      "==============================================================================\n",
      "Omnibus:                      531.779   Durbin-Watson:                   1.631\n",
      "Prob(Omnibus):                  0.000   Jarque-Bera (JB):             2838.905\n",
      "Skew:                           0.384   Prob(JB):                         0.00\n",
      "Kurtosis:                       6.650   Cond. No.                     1.38e+05\n",
      "==============================================================================\n",
      "\n",
      "Notes:\n",
      "[1] Standard Errors assume that the covariance matrix of the errors is correctly specified.\n",
      "[2] The condition number is large, 1.38e+05. This might indicate that there are\n",
      "strong multicollinearity or other numerical problems.\n"
     ]
    }
   ],
   "source": [
    "\n",
    "# perform square root transformation\n",
    "\n",
    "df1['citric acid'] = np.sqrt(df1['citric acid'])\n",
    "\n",
    "X = df1.iloc[:,:10]\n",
    "X = sm.add_constant(X)\n",
    "y = df1['quality']\n",
    "MLR_model = sm.OLS(y,X).fit()\n",
    "print(MLR_model.summary())\n",
    "\n",
    "X = df1.iloc[:,:10]\n",
    "\n",
    "X = sm.add_constant(X)\n",
    "\n",
    "y = df1['quality']\n",
    "\n",
    "MLR_model = sm.OLS(y,X).fit()\n",
    "\n",
    "print(MLR_model.summary())"
   ]
  },
  {
   "cell_type": "markdown",
   "metadata": {
    "collapsed": true,
    "id": "A9z2c5VdG5YX"
   },
   "source": [
    "<table align=\"left\">\n",
    "    <tr>\n",
    "        <td width=\"6%\">\n",
    "            <img src=\"question_icon.png\">\n",
    "        </td>\n",
    "        <td>\n",
    "            <div align=\"left\", style=\"font-size:120%\">\n",
    "                <font color=\"#21618C\">\n",
    "                    <b>9. Fit a full model. Check whether variable has linear relationship with the wine quality<br></b>\n",
    "                </font>\n",
    "            </div>\n",
    "        </td>\n",
    "    </tr>\n",
    "</table>"
   ]
  },
  {
   "cell_type": "code",
   "execution_count": 46,
   "metadata": {
    "id": "JGDUdfkEG5YX"
   },
   "outputs": [],
   "source": [
    "# type your code here\n",
    "# residuals=MLR_model.resid\n",
    "# for varible, subplot in zip(X.columns,[1,2]):\n",
    "#     z=sns.scatterplot(X=X[varible],y=residuals, ax=subplot)\n",
    "#     z.set_ylable('residuals',fontsize=10)\n",
    "# plt.tight_layout()\n",
    "\n",
    "# #display the plot\n",
    "\n",
    "# plt.show()    "
   ]
  },
  {
   "cell_type": "markdown",
   "metadata": {
    "id": "8xZ9nHIqG5YX"
   },
   "source": [
    "<a id=\"sel\"> </a>\n",
    "## 2. Feature Selection"
   ]
  },
  {
   "cell_type": "markdown",
   "metadata": {
    "collapsed": true,
    "id": "6TuE-NbrG5YY"
   },
   "source": [
    "<table align=\"left\">\n",
    "    <tr>\n",
    "        <td width=\"6%\">\n",
    "            <img src=\"question_icon.png\">\n",
    "        </td>\n",
    "        <td>\n",
    "            <div align=\"left\", style=\"font-size:120%\">\n",
    "                <font color=\"#21618C\">\n",
    "                    <b>10. Find the top five significant variables from the dataset using forward selection technique. Also display the R-squared score for the model built using these five variables.</b>\n",
    "                </font>\n",
    "            </div>\n",
    "        </td>\n",
    "    </tr>\n",
    "</table>"
   ]
  },
  {
   "cell_type": "code",
   "execution_count": 48,
   "metadata": {
    "id": "Pm8uVQSdG5YY"
   },
   "outputs": [
    {
     "name": "stdout",
     "output_type": "stream",
     "text": [
      "Features selected ['fixed acidity', 'volatile acidity', 'residual sugar', 'sulphates', 'alcohol']\n",
      "0.25925031726784187\n"
     ]
    }
   ],
   "source": [
    "X=df1.drop('quality',axis=1)\n",
    "y=df1['quality']\n",
    "X_train,X_test,y_train,y_test=train_test_split(X,y,test_size=0.2,random_state=10)\n",
    "linreg=LinearRegression()\n",
    "linreg_forward=sfs(estimator=linreg,k_features=5,forward=True,scoring='r2')\n",
    "sfs_forward=linreg_forward.fit(X_train,y_train)\n",
    "sfs_forward_best=list(sfs_forward.k_feature_names_)\n",
    "print('Features selected',sfs_forward_best)\n",
    "print(sfs_forward.k_score_)"
   ]
  },
  {
   "cell_type": "code",
   "execution_count": 22,
   "metadata": {},
   "outputs": [],
   "source": [
    "X=df1.drop('quality',axis=1)\n",
    "y=df1['quality']\n",
    "X_train,X_test,y_train,y_test=train_test_split(X,y,test_size=0.2,random_state=10)\n",
    "lr=LinearRegression()"
   ]
  },
  {
   "cell_type": "markdown",
   "metadata": {
    "collapsed": true,
    "id": "QTZCxjLuG5YY"
   },
   "source": [
    "<table align=\"left\">\n",
    "    <tr>\n",
    "        <td width=\"6%\">\n",
    "            <img src=\"question_icon.png\">\n",
    "        </td>\n",
    "        <td>\n",
    "            <div align=\"left\", style=\"font-size:120%\">\n",
    "                <font color=\"#21618C\">\n",
    "                        <b>11. Find the top five significant variables from the dataset using backward elimination technique. Also display the R-squared score for the model built using these five variables.<br><br> Compare the R-squared value obtained from question 10 with the value obtained using backward elimination.</b>\n",
    "                </font>\n",
    "            </div>\n",
    "        </td>\n",
    "    </tr>\n",
    "</table>"
   ]
  },
  {
   "cell_type": "code",
   "execution_count": 45,
   "metadata": {
    "id": "rBGaJgp3G5YZ"
   },
   "outputs": [
    {
     "name": "stdout",
     "output_type": "stream",
     "text": [
      "['volatile acidity', 'residual sugar', 'density', 'sulphates', 'alcohol']\n",
      "0.25960140807926463\n"
     ]
    }
   ],
   "source": [
    "# type your code here\n",
    "lr=LinearRegression()\n",
    "lr_sfs= sfs(estimator=lr,k_features=5, forward=False)\n",
    "sfs_backward=lr_sfs.fit(X_train,y_train)\n",
    "backword_features=list(sfs_backward.k_feature_names_)\n",
    "print(backword_features)\n",
    "print(sfs_backward.k_score_)"
   ]
  },
  {
   "cell_type": "markdown",
   "metadata": {
    "collapsed": true,
    "id": "SUhbUBIMG5YZ"
   },
   "source": [
    "<table align=\"left\">\n",
    "    <tr>\n",
    "        <td width=\"6%\">\n",
    "            <img src=\"question_icon.png\">\n",
    "        </td>\n",
    "        <td>\n",
    "            <div align=\"left\", style=\"font-size:120%\">\n",
    "                <font color=\"#21618C\">\n",
    "                    <b>12. Find the best set of significant variables from the dataset using forward selection technique such that the selected set should have 2 to 6 features. Also display the R-squared score for the model built using the selected variables</b>\n",
    "                </font>\n",
    "            </div>\n",
    "        </td>\n",
    "    </tr>\n",
    "</table>"
   ]
  },
  {
   "cell_type": "code",
   "execution_count": 24,
   "metadata": {
    "id": "NHNPyfNzG5Ya"
   },
   "outputs": [
    {
     "name": "stdout",
     "output_type": "stream",
     "text": [
      "['fixed acidity', 'volatile acidity', 'residual sugar', 'density', 'sulphates', 'alcohol']\n",
      "0.26131803984442586\n"
     ]
    }
   ],
   "source": [
    "lr=LinearRegression()\n",
    "lr_sfs= sfs(estimator=lr,k_features=(2,6), forward=True)\n",
    "sfs_forward=lr_sfs.fit(X_train,y_train)\n",
    "backword_features=list(sfs_forward.k_feature_names_)\n",
    "print(backword_features)\n",
    "print(sfs_forward.k_score_)"
   ]
  },
  {
   "cell_type": "markdown",
   "metadata": {
    "collapsed": true,
    "id": "hsjB9yMUG5Ya"
   },
   "source": [
    "<table align=\"left\">\n",
    "    <tr>\n",
    "        <td width=\"6%\">\n",
    "            <img src=\"question_icon.png\">\n",
    "        </td>\n",
    "        <td>\n",
    "            <div align=\"left\", style=\"font-size:120%\">\n",
    "                <font color=\"#21618C\">\n",
    "                    <b>13. Find the best set of significant variables from the dataset using forward selection technique. Also display the R-squared score for the model built using the selected variables.</b>\n",
    "                </font>\n",
    "            </div>\n",
    "        </td>\n",
    "    </tr>\n",
    "</table>"
   ]
  },
  {
   "cell_type": "code",
   "execution_count": 42,
   "metadata": {
    "id": "G2TgcS-vG5Yb"
   },
   "outputs": [
    {
     "name": "stdout",
     "output_type": "stream",
     "text": [
      "['fixed acidity', 'volatile acidity', 'residual sugar', 'density', 'sulphates', 'alcohol']\n"
     ]
    }
   ],
   "source": [
    "lr=LinearRegression()\n",
    "lr_sfs= sfs(estimator=lr,k_features='best', forward=True)\n",
    "sfs_forward_best=lr_sfs.fit(X_train,y_train)\n",
    "forward_features_best=list(sfs_forward.k_feature_names_)\n",
    "print(forward_features_best)"
   ]
  },
  {
   "cell_type": "markdown",
   "metadata": {
    "collapsed": true,
    "id": "p_xr8G8sG5Yb"
   },
   "source": [
    "<table align=\"left\">\n",
    "    <tr>\n",
    "        <td width=\"6%\">\n",
    "            <img src=\"question_icon.png\">\n",
    "        </td>\n",
    "        <td>\n",
    "            <div align=\"left\", style=\"font-size:120%\">\n",
    "                <font color=\"#21618C\">\n",
    "                    <b>14. Find the best set of significant variables from the dataset using backward elimination technique. Also display the R-squared score for the model built using the selected variables. <br><br>Compare the R-squared value obtained from question 13 with the value obtained using backward elimination.</b>\n",
    "                </font>\n",
    "            </div>\n",
    "        </td>\n",
    "    </tr>\n",
    "</table>"
   ]
  },
  {
   "cell_type": "code",
   "execution_count": 43,
   "metadata": {
    "id": "8q0k5bVeG5Yb"
   },
   "outputs": [
    {
     "name": "stdout",
     "output_type": "stream",
     "text": [
      "['volatile acidity', 'residual sugar', 'density', 'sulphates', 'alcohol']\n",
      "0.26292539544329346\n"
     ]
    }
   ],
   "source": [
    "lr=LinearRegression()\n",
    "lr_sfs= sfs(estimator=lr,k_features='best', forward=False)\n",
    "sfs_backward_best=lr_sfs.fit(X_train,y_train)\n",
    "backword_features_best=list(sfs_backward.k_feature_names_)\n",
    "print(backword_features_best)\n",
    "print(sfs_backward_best.k_score_)"
   ]
  },
  {
   "cell_type": "markdown",
   "metadata": {
    "collapsed": true,
    "id": "aKJMr0tNG5Yc"
   },
   "source": [
    "<table align=\"left\">\n",
    "    <tr>\n",
    "        <td width=\"6%\">\n",
    "            <img src=\"question_icon.png\">\n",
    "        </td>\n",
    "        <td>\n",
    "            <div align=\"left\", style=\"font-size:120%\">\n",
    "                <font color=\"#21618C\">\n",
    "                    <b>15. Find the best set of significant variables from the dataset among all the possible subsets of the variables. Build a linear regression model using the best subset and find the R-Squared value for that model.</b>\n",
    "                </font>\n",
    "            </div>\n",
    "        </td>\n",
    "    </tr>\n",
    "</table>"
   ]
  },
  {
   "cell_type": "code",
   "execution_count": null,
   "metadata": {
    "id": "I8nHYetFG5Yc"
   },
   "outputs": [],
   "source": [
    "rfe_model=RFE(estimator=lr,n_features_to_select=5)\n",
    "rfe_model=rfe_model.fit(X_train,y_train)\n",
    "feat_index=pd.Series(data=rfe_model.ranking_,index=X_train.columns)\n",
    "signi_feat_rfe=feat_index[feat_index==1].index\n",
    "print(signi_feat_rfe)"
   ]
  },
  {
   "cell_type": "code",
   "execution_count": null,
   "metadata": {},
   "outputs": [],
   "source": [
    "new_X_train=X_train[signi_feat_rfe]\n",
    "lr=LinearRegression()\n",
    "lr.fit(new_X_train,y_train)\n",
    "r2_value_rfe=lr.score(new_X_train,y_train)\n",
    "print('r2_value_rfe ',r2_value_rfe)"
   ]
  },
  {
   "cell_type": "markdown",
   "metadata": {
    "collapsed": true,
    "id": "RmKP8LVxG5Yd"
   },
   "source": [
    "<table align=\"left\">\n",
    "    <tr>\n",
    "        <td width=\"6%\">\n",
    "            <img src=\"question_icon.png\">\n",
    "        </td>\n",
    "        <td>\n",
    "            <div align=\"left\", style=\"font-size:120%\">\n",
    "                <font color=\"#21618C\">\n",
    "                    <b>16. Calculate the RMSE for the train set and test set for the model created using the top 5 variables obtained from forward selection in question 10. Check if the model is overfitted on the train set or not. If yes, then why do you think so?</b>\n",
    "                </font>\n",
    "            </div>\n",
    "        </td>\n",
    "    </tr>\n",
    "</table>"
   ]
  },
  {
   "cell_type": "code",
   "execution_count": null,
   "metadata": {
    "id": "qiDTOdczG5Yd"
   },
   "outputs": [],
   "source": [
    "# type your code here\n",
    "sfs_features=sfs_forward.k_feature_names_\n",
    "new_X_train=X_train.loc[:sfs_features]\n",
    "new_X_test=X_test.loc[:sfs_features]\n",
    "lr=LinearRegression()\n",
    "lr.fit(new_X_train,y_train)\n",
    "train_pred=lr.predict(new_X_train)\n",
    "test_pred=lr.predict(new_X_test)\n",
    "mse_train=mean_squared_error(y_train,train_pred)\n",
    "rmse_train=round(np.sqrt(mse_train),4)\n",
    "print('rmse_train',rmse_train)"
   ]
  },
  {
   "cell_type": "markdown",
   "metadata": {
    "id": "ITJY6EFkG5Yd"
   },
   "source": [
    "<a id=\"cv\"> </a>\n",
    "## 3. Model Validation"
   ]
  },
  {
   "cell_type": "markdown",
   "metadata": {
    "collapsed": true,
    "id": "NXculfHtG5Ye"
   },
   "source": [
    "<table align=\"left\">\n",
    "    <tr>\n",
    "        <td width=\"6%\">\n",
    "            <img src=\"question_icon.png\">\n",
    "        </td>\n",
    "        <td>\n",
    "            <div align=\"left\", style=\"font-size:120%\">\n",
    "                <font color=\"#21618C\">\n",
    "                    <b>17. Create a new feature based on the 'pH' which tells whether wine is acidic, basic or neutral. Will this variable significantly contribute to the model?</b>\n",
    "                </font>\n",
    "            </div>\n",
    "        </td>\n",
    "    </tr>\n",
    "</table>"
   ]
  },
  {
   "cell_type": "code",
   "execution_count": null,
   "metadata": {
    "id": "1Jnfb0aXG5Ye"
   },
   "outputs": [],
   "source": [
    "# type your code here\n",
    "ph_verbose=[]\n",
    "\n",
    "# for the pH value equal to 7 append the list ph_verbose with 'Neutral'\n",
    "# for the pH value greater than 7 append the list ph_verbose with 'Basic'\n",
    "# for the pH value less than 7 append the list ph_verbose with 'Acidic'\n",
    "for i in range(0,df1.pH.shape[0]):\n",
    "    if df1.pH.iloc[i] == 7:\n",
    "        ph_verbose.append('Neutral')\n",
    "    elif df1.pH.iloc[i]>7:\n",
    "        ph_verbose.append('Basic')    \n",
    "    elif df1.pH.iloc[i]<7:\n",
    "        ph_verbose.append('Acidic')\n",
    "\n",
    "# create a new feature 'pH_verbose' with elements as 'ph_verbose'       \n",
    "df1[\"pH_verbose\"] = ph_verbose \n",
    "\n",
    "df1[\"pH_verbose\"].value_counts()\n",
    "\n",
    "# drop the variable 'pH_verbose'\n",
    "df1.drop(\"pH_verbose\", axis = 1, inplace = True)"
   ]
  },
  {
   "cell_type": "markdown",
   "metadata": {
    "collapsed": true,
    "id": "RL28Qdl7G5Yf"
   },
   "source": [
    "<table align=\"left\">\n",
    "    <tr>\n",
    "        <td width=\"6%\">\n",
    "            <img src=\"question_icon.png\">\n",
    "        </td>\n",
    "        <td>\n",
    "            <div align=\"left\", style=\"font-size:120%\">\n",
    "                <font color=\"#21618C\">\n",
    "                    <b>18. Fit the a full model. Validate the model using cross validation method</b>\n",
    "                </font>\n",
    "            </div>\n",
    "        </td>\n",
    "    </tr>\n",
    "</table>"
   ]
  },
  {
   "cell_type": "code",
   "execution_count": null,
   "metadata": {
    "id": "kTkL1ClgG5Yf"
   },
   "outputs": [],
   "source": [
    "# type your code here\n",
    "# copying the original dataset\n",
    "df1_copy = df1.copy()\n",
    "X = df1_copy.drop('quality', axis = 1)\n",
    "y = df1_copy['quality']\n",
    "X_train, X_test, y_train, y_test = train_test_split(X, y, test_size = 0.30, random_state = 10)\n",
    "\n",
    "scores = cross_val_score(   estimator = LinearRegression(), \n",
    "                            X = X_train, \n",
    "                            y = y_train, \n",
    "                            cv = 2, \n",
    "                            scoring = 'r2')\n",
    "\n",
    "\n",
    "print('All scores: ', scores)  \n",
    "print(\"\\nMinimum score obtained: \", round(min(scores), 4)) \n",
    "print(\"Maximum score obtained: \", round(max(scores), 4))  \n",
    "print(\"Average score obtained: \", round(np.mean(scores), 4))\n"
   ]
  },
  {
   "cell_type": "markdown",
   "metadata": {
    "collapsed": true,
    "id": "GDuoyBGuG5Yg"
   },
   "source": [
    "<table align=\"left\">\n",
    "    <tr>\n",
    "        <td width=\"6%\">\n",
    "            <img src=\"question_icon.png\">\n",
    "        </td>\n",
    "        <td>\n",
    "            <div align=\"left\", style=\"font-size:120%\">\n",
    "                <font color=\"#21618C\">\n",
    "                    <b>19. Fit the a full model. Validate the model using 5 - fold cross validation</b>\n",
    "                </font>\n",
    "            </div>\n",
    "        </td>\n",
    "    </tr>\n",
    "</table>"
   ]
  },
  {
   "cell_type": "code",
   "execution_count": null,
   "metadata": {
    "id": "f6VwrJH9G5Yg"
   },
   "outputs": [],
   "source": [
    "# type your code here\n",
    "def get_score(model, X_train_k, X_test_k, y_train_k, y_test_k):\n",
    "    model.fit(X_train_k, y_train_k)             # fit the model \n",
    "    return model.score(X_test_k, y_test_k) \n",
    "\n",
    "kf = KFold(n_splits = 5)\n",
    "\n",
    "# create an empty list to store the scores\n",
    "scores = []\n",
    "\n",
    "for train_index, test_index in kf.split(X_train):\n",
    "    X_train_k, X_test_k, y_train_k, y_test_k = X_train.iloc[train_index], X_train.iloc[test_index], \\\n",
    "                                               y_train.iloc[train_index], y_train.iloc[test_index]\n",
    "    # calling the function 'get_scores()' and appending the scores in the list 'scores'\n",
    "    scores.append(get_score(LinearRegression(), X_train_k, X_test_k, y_train_k, y_test_k))\n",
    "    \n",
    "# print all scores \n",
    "print('All scores: ', scores)  \n",
    "print(\"\\nMinimum score obtained: \", round(min(scores), 4)) \n",
    "print(\"Maximum score obtained: \", round(max(scores), 4))  \n",
    "print(\"Average score obtained: \", round(np.mean(scores), 4))"
   ]
  },
  {
   "cell_type": "markdown",
   "metadata": {
    "collapsed": true,
    "id": "w-7-gwsuG5Yg"
   },
   "source": [
    "<table align=\"left\">\n",
    "    <tr>\n",
    "        <td width=\"6%\">\n",
    "            <img src=\"question_icon.png\">\n",
    "        </td>\n",
    "        <td>\n",
    "            <div align=\"left\", style=\"font-size:120%\">\n",
    "                <font color=\"#21618C\">\n",
    "                    <b>20. Fit the a full model. Validate the model using leave one out cross validation</b>\n",
    "                </font>\n",
    "            </div>\n",
    "        </td>\n",
    "    </tr>\n",
    "</table>"
   ]
  },
  {
   "cell_type": "code",
   "execution_count": null,
   "metadata": {
    "id": "9IeXMhbjG5Yh"
   },
   "outputs": [],
   "source": [
    "# type your code here\n",
    "df1_copy = df1.copy()\n",
    "X = df1_copy.drop('quality', axis = 1)\n",
    "y = df1_copy['quality']\n",
    "X_train, X_test, y_train, y_test = train_test_split(X, y, test_size = 0.30, random_state = 10)\n",
    "\n",
    "\n",
    "loocv_rmse = []\n",
    "# instantiate the LOOCV method \n",
    "loocv = LeaveOneOut()\n",
    "\n",
    "# use the for loop to build the regression model for each cross validation \n",
    "for train_index, test_index in loocv.split(X_train):\n",
    "    X_train_l, X_test_l, y_train_l, y_test_l = X_train.iloc[train_index], X_train.iloc[test_index], \\\n",
    "                                               y_train.iloc[train_index], y_train.iloc[test_index]\n",
    "    \n",
    "    linreg = LinearRegression()\n",
    "    \n",
    "    # fit the OLS model on training dataset\n",
    "    linreg.fit(X_train_l, y_train_l)\n",
    "    \n",
    "    # calculate RMSE using test dataset\n",
    "    mse = mean_squared_error(y_test_l, linreg.predict(X_test_l))\n",
    "    rmse = np.sqrt(mse)\n",
    "    loocv_rmse.append(rmse)"
   ]
  },
  {
   "cell_type": "code",
   "execution_count": null,
   "metadata": {},
   "outputs": [],
   "source": []
  },
  {
   "cell_type": "code",
   "execution_count": null,
   "metadata": {},
   "outputs": [],
   "source": []
  },
  {
   "cell_type": "code",
   "execution_count": null,
   "metadata": {},
   "outputs": [],
   "source": []
  }
 ],
 "metadata": {
  "colab": {
   "collapsed_sections": [],
   "name": "SLR - In-Class - Lab Exercise (DAY 2) - Questions  [v1-1.0 - 130420].ipynb",
   "provenance": []
  },
  "kernelspec": {
   "display_name": "Python 3 (ipykernel)",
   "language": "python",
   "name": "python3"
  },
  "language_info": {
   "codemirror_mode": {
    "name": "ipython",
    "version": 3
   },
   "file_extension": ".py",
   "mimetype": "text/x-python",
   "name": "python",
   "nbconvert_exporter": "python",
   "pygments_lexer": "ipython3",
   "version": "3.9.13"
  }
 },
 "nbformat": 4,
 "nbformat_minor": 1
}
