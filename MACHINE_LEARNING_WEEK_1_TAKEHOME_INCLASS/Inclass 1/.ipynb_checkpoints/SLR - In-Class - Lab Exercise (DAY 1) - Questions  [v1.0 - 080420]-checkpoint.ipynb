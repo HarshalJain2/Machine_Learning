{
 "cells": [
  {
   "cell_type": "markdown",
   "metadata": {
    "id": "PpyLLSb2GT79"
   },
   "source": [
    "<table align=\"center\" width=100%>\n",
    "    <tr>\n",
    "        <td width=\"20%\">\n",
    "            <img src=\"in_class.png\">\n",
    "        </td>\n",
    "        <td>\n",
    "            <div align=\"center\">\n",
    "                <font color=\"#21618C\" size=8px>\n",
    "                    <b> Inclass - Lab <br>(Day 1)\n",
    "                    </b>\n",
    "                </font>\n",
    "            </div>\n",
    "        </td>\n",
    "         <td width=\"25%\">\n",
    "            <img src=\"GL-2.png\">\n",
    "        </td>\n",
    "    </tr>\n",
    "</table>"
   ]
  },
  {
   "cell_type": "markdown",
   "metadata": {
    "id": "lMLu9YZPGT8I"
   },
   "source": [
    "### About the data set 1 (Life Expectancy data)\n",
    "\n",
    "The dataset contains information about several health and economic factors that contribute to average life expectancy for different countries. <br> Attribute information: \n",
    "\n",
    "**Country:** Name of the country\n",
    "\n",
    "**Status:** Whether the country is Developed or Developing\n",
    "\n",
    "**Adult_Mortality:** Mortality rate for age group 15-60 out of every 1000 individuals of the population\n",
    "\n",
    "**Infant_Deaths:** Number of infant deaths per 1000 population\n",
    "\n",
    "**Hepatitis:** Hepatitis B (HepB) immunization coverage for 1 year olds (Percentage)\n",
    "\n",
    "**Measles:** Number of reported cases for measles per 1000 from population\n",
    "\n",
    "**BMI:** Average Body Mass Index for entire population\n",
    "\n",
    "**Underfive_Deaths:** Number of deaths under 5 years of age per 1000 population\n",
    "\n",
    "**Polio:** Polio (Pol3) immunization coverage for 1 year olds (Percentage)\n",
    "\n",
    "**Diphtheria:** Diphtheria tetanus toxoid and pertussis (DTP3) immunization coverage for 1 year olds (Percentage)\n",
    "\n",
    "**HIV:** Deaths per 1000 live births due to HIV/AIDS (0-4 years)\n",
    "\n",
    "**GDP:** Gross Domestic Product per capita (in USD)\n",
    "\n",
    "**Population:** Population of the country\n",
    "\n",
    "**Malnourished10_19:** Prevalence of malnutrition among children and adolescents for Age 10 to 19 (Percentage)\n",
    "\n",
    "**Malnourished5_9:** Prevalence of malnutrition among children for Age 5 to 9 (Percentage)\n",
    "\n",
    "**Income_Index:** Human Development Index (HDI) in terms of national income per capita (index ranging from 0 to 1)\n",
    "\n",
    "**Schooling:** Number of years of Schooling\n",
    "\n",
    "**Life_Expectancy:** Life Expectancy in age for the country\n",
    "\n",
    "\n",
    "\n"
   ]
  },
  {
   "cell_type": "markdown",
   "metadata": {
    "id": "3_VvvpB2GT8L"
   },
   "source": [
    "## Table of Content\n",
    "\n",
    "1. **[Bivariate Regression](#Bivariate)**\n",
    "2. **[Multiple Linear Regression (MLR)](#MLR)**\n",
    "3. **[Inferences about slope](#ins)**\n",
    "4. **[Model Evaluation](#ML_eval)**\n",
    "5. **[Assumptions of Linear Regression](#assum)**\n",
    "6. **[Model Performance](#ml_perf)**"
   ]
  },
  {
   "cell_type": "code",
   "execution_count": 19,
   "metadata": {},
   "outputs": [],
   "source": [
    "import numpy as np \n",
    "import pandas as pd\n",
    "import seaborn as sns \n",
    "import matplotlib.pyplot as plt\n",
    "import statsmodels\n",
    "import statsmodels.api as sm"
   ]
  },
  {
   "cell_type": "markdown",
   "metadata": {
    "id": "URgibpgWGT8M"
   },
   "source": [
    "**Import the required libraries**"
   ]
  },
  {
   "cell_type": "code",
   "execution_count": 2,
   "metadata": {
    "id": "xtl3HwF1GT8N"
   },
   "outputs": [],
   "source": [
    "# import numpy as np \n",
    "# import pandas as pd\n",
    "# import seaborn as sns \n",
    "# import matplotlib.pyplot as plt\n",
    "\n",
    "# import scipy.stats as stats\n",
    "# from scipy.stats import shapiro\n",
    "\n",
    "# import statsmodels\n",
    "# import statsmodels.api as sm\n",
    "# import statsmodels.stats.api as sms\n",
    "# import statsmodels.formula.api as smf\n",
    "# from statsmodels.stats.outliers_influence import variance_inflation_factor\n",
    "# from sklearn.model_selection import train_test_split\n",
    "# from sklearn.metrics import mean_absolute_error\n",
    "# from sklearn.metrics import mean_squared_error"
   ]
  },
  {
   "cell_type": "markdown",
   "metadata": {
    "id": "NCMH7Vq7GT8Q"
   },
   "source": [
    "#### Load the first dataset and check the first five observations\n",
    "\n",
    "Load the csv file and set the first column as index"
   ]
  },
  {
   "cell_type": "code",
   "execution_count": 20,
   "metadata": {},
   "outputs": [],
   "source": [
    "import statsmodels\n",
    "import statsmodels.api as sm"
   ]
  },
  {
   "cell_type": "code",
   "execution_count": 21,
   "metadata": {
    "id": "v49wF7S6GT8R"
   },
   "outputs": [],
   "source": [
    "# import 'Pandas' \n",
    "import pandas as pd \n",
    "\n",
    "# import 'Numpy' \n",
    "import numpy as np\n",
    "\n",
    "# import 'matplotlib.pyplot' \n",
    "import matplotlib.pyplot as plt\n",
    "\n",
    "# import 'Seaborn' \n",
    "import seaborn as sns\n",
    "\n",
    "# to suppress warnings \n",
    "from warnings import filterwarnings\n",
    "filterwarnings('ignore')\n",
    "\n",
    "# display all columns of the dataframe\n",
    "pd.options.display.max_columns = None\n",
    "\n",
    "# display all rows of the dataframe\n",
    "pd.options.display.max_rows = None\n",
    " \n",
    "# to suppress the notation 'e'    \n",
    "pd.options.display.float_format = '{:.6f}'.format\n",
    "\n",
    "# import various metrics from 'Scikit-learn' (sklearn)\n",
    "from sklearn.model_selection import train_test_split\n",
    "\n",
    "# 'Statsmodels' is used to build and analyze various statistical models\n",
    "import statsmodels\n",
    "import statsmodels.api as sm\n",
    "import statsmodels.stats.api as sms\n",
    "import statsmodels.formula.api as smf\n",
    "##from statsmodels.tools.eval_measures import rmse\n",
    "##from statsmodels.compat import lzip\n",
    "from statsmodels.stats.outliers_influence import variance_inflation_factor\n",
    "##from statsmodels.stats.diagnostic import linear_rainbow\n",
    "##import statsmodels.tsa.api as smt\n",
    "##from statsmodels.graphics.gofplots import qqplot\n",
    "##from statsmodels.stats.stattools import durbin_watson\n",
    "\n",
    "# 'SciPy' is used to perform scientific computations\n",
    "from scipy import stats\n",
    "from scipy.stats import shapiro\n",
    "\n",
    "\n",
    "# 'metrics' from sklearn is used for evaluating the model performance\n",
    "from sklearn.metrics import mean_absolute_error\n",
    "from sklearn.metrics import mean_squared_error"
   ]
  },
  {
   "cell_type": "code",
   "execution_count": 23,
   "metadata": {},
   "outputs": [
    {
     "data": {
      "text/html": [
       "<div>\n",
       "<style scoped>\n",
       "    .dataframe tbody tr th:only-of-type {\n",
       "        vertical-align: middle;\n",
       "    }\n",
       "\n",
       "    .dataframe tbody tr th {\n",
       "        vertical-align: top;\n",
       "    }\n",
       "\n",
       "    .dataframe thead th {\n",
       "        text-align: right;\n",
       "    }\n",
       "</style>\n",
       "<table border=\"1\" class=\"dataframe\">\n",
       "  <thead>\n",
       "    <tr style=\"text-align: right;\">\n",
       "      <th></th>\n",
       "      <th>Adult_Mortality</th>\n",
       "      <th>Infant_Deaths</th>\n",
       "      <th>Hepatitis</th>\n",
       "      <th>Measles</th>\n",
       "      <th>BMI</th>\n",
       "      <th>Underfive_Deaths</th>\n",
       "      <th>Polio</th>\n",
       "      <th>Diphtheria</th>\n",
       "      <th>HIV</th>\n",
       "      <th>GDP</th>\n",
       "      <th>Population</th>\n",
       "      <th>Malnourished10_19</th>\n",
       "      <th>Malnourished5_9</th>\n",
       "      <th>Income_Index</th>\n",
       "      <th>Schooling</th>\n",
       "      <th>Expected</th>\n",
       "    </tr>\n",
       "    <tr>\n",
       "      <th>Country</th>\n",
       "      <th></th>\n",
       "      <th></th>\n",
       "      <th></th>\n",
       "      <th></th>\n",
       "      <th></th>\n",
       "      <th></th>\n",
       "      <th></th>\n",
       "      <th></th>\n",
       "      <th></th>\n",
       "      <th></th>\n",
       "      <th></th>\n",
       "      <th></th>\n",
       "      <th></th>\n",
       "      <th></th>\n",
       "      <th></th>\n",
       "      <th></th>\n",
       "    </tr>\n",
       "  </thead>\n",
       "  <tbody>\n",
       "    <tr>\n",
       "      <th>Afghanistan</th>\n",
       "      <td>263</td>\n",
       "      <td>62</td>\n",
       "      <td>65</td>\n",
       "      <td>1154</td>\n",
       "      <td>19.100000</td>\n",
       "      <td>83</td>\n",
       "      <td>6</td>\n",
       "      <td>65</td>\n",
       "      <td>0.100000</td>\n",
       "      <td>584.259210</td>\n",
       "      <td>33736494</td>\n",
       "      <td>17.200000</td>\n",
       "      <td>17.300000</td>\n",
       "      <td>0.479000</td>\n",
       "      <td>10.100000</td>\n",
       "      <td>65.000000</td>\n",
       "    </tr>\n",
       "    <tr>\n",
       "      <th>Albania</th>\n",
       "      <td>8</td>\n",
       "      <td>0</td>\n",
       "      <td>98</td>\n",
       "      <td>0</td>\n",
       "      <td>57.200000</td>\n",
       "      <td>1</td>\n",
       "      <td>98</td>\n",
       "      <td>98</td>\n",
       "      <td>0.100000</td>\n",
       "      <td>4575.763787</td>\n",
       "      <td>288914</td>\n",
       "      <td>1.200000</td>\n",
       "      <td>1.300000</td>\n",
       "      <td>0.761000</td>\n",
       "      <td>14.200000</td>\n",
       "      <td>77.500000</td>\n",
       "    </tr>\n",
       "    <tr>\n",
       "      <th>Algeria</th>\n",
       "      <td>19</td>\n",
       "      <td>21</td>\n",
       "      <td>95</td>\n",
       "      <td>63</td>\n",
       "      <td>59.500000</td>\n",
       "      <td>24</td>\n",
       "      <td>95</td>\n",
       "      <td>95</td>\n",
       "      <td>0.100000</td>\n",
       "      <td>4132.762920</td>\n",
       "      <td>39871528</td>\n",
       "      <td>6.000000</td>\n",
       "      <td>5.800000</td>\n",
       "      <td>0.743000</td>\n",
       "      <td>14.400000</td>\n",
       "      <td>75.600000</td>\n",
       "    </tr>\n",
       "    <tr>\n",
       "      <th>Angola</th>\n",
       "      <td>335</td>\n",
       "      <td>66</td>\n",
       "      <td>64</td>\n",
       "      <td>118</td>\n",
       "      <td>23.300000</td>\n",
       "      <td>98</td>\n",
       "      <td>7</td>\n",
       "      <td>64</td>\n",
       "      <td>1.900000</td>\n",
       "      <td>3695.793748</td>\n",
       "      <td>2785935</td>\n",
       "      <td>8.300000</td>\n",
       "      <td>8.200000</td>\n",
       "      <td>0.531000</td>\n",
       "      <td>11.400000</td>\n",
       "      <td>52.400000</td>\n",
       "    </tr>\n",
       "    <tr>\n",
       "      <th>Argentina</th>\n",
       "      <td>116</td>\n",
       "      <td>8</td>\n",
       "      <td>94</td>\n",
       "      <td>0</td>\n",
       "      <td>62.800000</td>\n",
       "      <td>9</td>\n",
       "      <td>93</td>\n",
       "      <td>94</td>\n",
       "      <td>0.100000</td>\n",
       "      <td>13467.123600</td>\n",
       "      <td>43417765</td>\n",
       "      <td>1.000000</td>\n",
       "      <td>0.900000</td>\n",
       "      <td>0.826000</td>\n",
       "      <td>17.300000</td>\n",
       "      <td>76.300000</td>\n",
       "    </tr>\n",
       "  </tbody>\n",
       "</table>\n",
       "</div>"
      ],
      "text/plain": [
       "             Adult_Mortality  Infant_Deaths  Hepatitis   Measles       BMI   \\\n",
       "Country                                                                       \n",
       "Afghanistan              263             62          65      1154 19.100000   \n",
       "Albania                    8              0          98         0 57.200000   \n",
       "Algeria                   19             21          95        63 59.500000   \n",
       "Angola                   335             66          64       118 23.300000   \n",
       "Argentina                116              8          94         0 62.800000   \n",
       "\n",
       "             Underfive_Deaths   Polio  Diphtheria       HIV          GDP  \\\n",
       "Country                                                                    \n",
       "Afghanistan                 83      6           65 0.100000   584.259210   \n",
       "Albania                      1     98           98 0.100000  4575.763787   \n",
       "Algeria                     24     95           95 0.100000  4132.762920   \n",
       "Angola                      98      7           64 1.900000  3695.793748   \n",
       "Argentina                    9     93           94 0.100000 13467.123600   \n",
       "\n",
       "             Population  Malnourished10_19   Malnourished5_9  Income_Index  \\\n",
       "Country                                                                      \n",
       "Afghanistan    33736494           17.200000        17.300000      0.479000   \n",
       "Albania          288914            1.200000         1.300000      0.761000   \n",
       "Algeria        39871528            6.000000         5.800000      0.743000   \n",
       "Angola          2785935            8.300000         8.200000      0.531000   \n",
       "Argentina      43417765            1.000000         0.900000      0.826000   \n",
       "\n",
       "             Schooling  Expected  \n",
       "Country                           \n",
       "Afghanistan  10.100000 65.000000  \n",
       "Albania      14.200000 77.500000  \n",
       "Algeria      14.400000 75.600000  \n",
       "Angola       11.400000 52.400000  \n",
       "Argentina    17.300000 76.300000  "
      ]
     },
     "execution_count": 23,
     "metadata": {},
     "output_type": "execute_result"
    }
   ],
   "source": [
    "df1.iloc[:,1:17].head()"
   ]
  },
  {
   "cell_type": "code",
   "execution_count": 22,
   "metadata": {
    "id": "FpJxUnoNGT8U"
   },
   "outputs": [
    {
     "data": {
      "text/html": [
       "<div>\n",
       "<style scoped>\n",
       "    .dataframe tbody tr th:only-of-type {\n",
       "        vertical-align: middle;\n",
       "    }\n",
       "\n",
       "    .dataframe tbody tr th {\n",
       "        vertical-align: top;\n",
       "    }\n",
       "\n",
       "    .dataframe thead th {\n",
       "        text-align: right;\n",
       "    }\n",
       "</style>\n",
       "<table border=\"1\" class=\"dataframe\">\n",
       "  <thead>\n",
       "    <tr style=\"text-align: right;\">\n",
       "      <th></th>\n",
       "      <th>Status</th>\n",
       "      <th>Adult_Mortality</th>\n",
       "      <th>Infant_Deaths</th>\n",
       "      <th>Hepatitis</th>\n",
       "      <th>Measles</th>\n",
       "      <th>BMI</th>\n",
       "      <th>Underfive_Deaths</th>\n",
       "      <th>Polio</th>\n",
       "      <th>Diphtheria</th>\n",
       "      <th>HIV</th>\n",
       "      <th>GDP</th>\n",
       "      <th>Population</th>\n",
       "      <th>Malnourished10_19</th>\n",
       "      <th>Malnourished5_9</th>\n",
       "      <th>Income_Index</th>\n",
       "      <th>Schooling</th>\n",
       "      <th>Expected</th>\n",
       "    </tr>\n",
       "    <tr>\n",
       "      <th>Country</th>\n",
       "      <th></th>\n",
       "      <th></th>\n",
       "      <th></th>\n",
       "      <th></th>\n",
       "      <th></th>\n",
       "      <th></th>\n",
       "      <th></th>\n",
       "      <th></th>\n",
       "      <th></th>\n",
       "      <th></th>\n",
       "      <th></th>\n",
       "      <th></th>\n",
       "      <th></th>\n",
       "      <th></th>\n",
       "      <th></th>\n",
       "      <th></th>\n",
       "      <th></th>\n",
       "    </tr>\n",
       "  </thead>\n",
       "  <tbody>\n",
       "    <tr>\n",
       "      <th>Afghanistan</th>\n",
       "      <td>Developing</td>\n",
       "      <td>263</td>\n",
       "      <td>62</td>\n",
       "      <td>65</td>\n",
       "      <td>1154</td>\n",
       "      <td>19.100000</td>\n",
       "      <td>83</td>\n",
       "      <td>6</td>\n",
       "      <td>65</td>\n",
       "      <td>0.100000</td>\n",
       "      <td>584.259210</td>\n",
       "      <td>33736494</td>\n",
       "      <td>17.200000</td>\n",
       "      <td>17.300000</td>\n",
       "      <td>0.479000</td>\n",
       "      <td>10.100000</td>\n",
       "      <td>65.000000</td>\n",
       "    </tr>\n",
       "    <tr>\n",
       "      <th>Albania</th>\n",
       "      <td>Developing</td>\n",
       "      <td>8</td>\n",
       "      <td>0</td>\n",
       "      <td>98</td>\n",
       "      <td>0</td>\n",
       "      <td>57.200000</td>\n",
       "      <td>1</td>\n",
       "      <td>98</td>\n",
       "      <td>98</td>\n",
       "      <td>0.100000</td>\n",
       "      <td>4575.763787</td>\n",
       "      <td>288914</td>\n",
       "      <td>1.200000</td>\n",
       "      <td>1.300000</td>\n",
       "      <td>0.761000</td>\n",
       "      <td>14.200000</td>\n",
       "      <td>77.500000</td>\n",
       "    </tr>\n",
       "    <tr>\n",
       "      <th>Algeria</th>\n",
       "      <td>Developing</td>\n",
       "      <td>19</td>\n",
       "      <td>21</td>\n",
       "      <td>95</td>\n",
       "      <td>63</td>\n",
       "      <td>59.500000</td>\n",
       "      <td>24</td>\n",
       "      <td>95</td>\n",
       "      <td>95</td>\n",
       "      <td>0.100000</td>\n",
       "      <td>4132.762920</td>\n",
       "      <td>39871528</td>\n",
       "      <td>6.000000</td>\n",
       "      <td>5.800000</td>\n",
       "      <td>0.743000</td>\n",
       "      <td>14.400000</td>\n",
       "      <td>75.600000</td>\n",
       "    </tr>\n",
       "    <tr>\n",
       "      <th>Angola</th>\n",
       "      <td>Developing</td>\n",
       "      <td>335</td>\n",
       "      <td>66</td>\n",
       "      <td>64</td>\n",
       "      <td>118</td>\n",
       "      <td>23.300000</td>\n",
       "      <td>98</td>\n",
       "      <td>7</td>\n",
       "      <td>64</td>\n",
       "      <td>1.900000</td>\n",
       "      <td>3695.793748</td>\n",
       "      <td>2785935</td>\n",
       "      <td>8.300000</td>\n",
       "      <td>8.200000</td>\n",
       "      <td>0.531000</td>\n",
       "      <td>11.400000</td>\n",
       "      <td>52.400000</td>\n",
       "    </tr>\n",
       "    <tr>\n",
       "      <th>Argentina</th>\n",
       "      <td>Developing</td>\n",
       "      <td>116</td>\n",
       "      <td>8</td>\n",
       "      <td>94</td>\n",
       "      <td>0</td>\n",
       "      <td>62.800000</td>\n",
       "      <td>9</td>\n",
       "      <td>93</td>\n",
       "      <td>94</td>\n",
       "      <td>0.100000</td>\n",
       "      <td>13467.123600</td>\n",
       "      <td>43417765</td>\n",
       "      <td>1.000000</td>\n",
       "      <td>0.900000</td>\n",
       "      <td>0.826000</td>\n",
       "      <td>17.300000</td>\n",
       "      <td>76.300000</td>\n",
       "    </tr>\n",
       "    <tr>\n",
       "      <th>Armenia</th>\n",
       "      <td>Developing</td>\n",
       "      <td>118</td>\n",
       "      <td>1</td>\n",
       "      <td>94</td>\n",
       "      <td>33</td>\n",
       "      <td>54.900000</td>\n",
       "      <td>1</td>\n",
       "      <td>96</td>\n",
       "      <td>94</td>\n",
       "      <td>0.100000</td>\n",
       "      <td>369.654776</td>\n",
       "      <td>291695</td>\n",
       "      <td>2.100000</td>\n",
       "      <td>2.200000</td>\n",
       "      <td>0.741000</td>\n",
       "      <td>12.700000</td>\n",
       "      <td>74.800000</td>\n",
       "    </tr>\n",
       "    <tr>\n",
       "      <th>Australia</th>\n",
       "      <td>Developed</td>\n",
       "      <td>59</td>\n",
       "      <td>1</td>\n",
       "      <td>93</td>\n",
       "      <td>74</td>\n",
       "      <td>66.600000</td>\n",
       "      <td>1</td>\n",
       "      <td>93</td>\n",
       "      <td>93</td>\n",
       "      <td>0.100000</td>\n",
       "      <td>56554.387600</td>\n",
       "      <td>23789338</td>\n",
       "      <td>0.600000</td>\n",
       "      <td>0.600000</td>\n",
       "      <td>0.937000</td>\n",
       "      <td>20.400000</td>\n",
       "      <td>82.800000</td>\n",
       "    </tr>\n",
       "    <tr>\n",
       "      <th>Austria</th>\n",
       "      <td>Developed</td>\n",
       "      <td>65</td>\n",
       "      <td>0</td>\n",
       "      <td>93</td>\n",
       "      <td>309</td>\n",
       "      <td>57.600000</td>\n",
       "      <td>0</td>\n",
       "      <td>93</td>\n",
       "      <td>93</td>\n",
       "      <td>0.100000</td>\n",
       "      <td>43665.947000</td>\n",
       "      <td>8633169</td>\n",
       "      <td>1.900000</td>\n",
       "      <td>2.100000</td>\n",
       "      <td>0.892000</td>\n",
       "      <td>15.900000</td>\n",
       "      <td>81.500000</td>\n",
       "    </tr>\n",
       "    <tr>\n",
       "      <th>Azerbaijan</th>\n",
       "      <td>Developing</td>\n",
       "      <td>118</td>\n",
       "      <td>5</td>\n",
       "      <td>96</td>\n",
       "      <td>0</td>\n",
       "      <td>52.500000</td>\n",
       "      <td>6</td>\n",
       "      <td>98</td>\n",
       "      <td>96</td>\n",
       "      <td>0.100000</td>\n",
       "      <td>55.313820</td>\n",
       "      <td>9649341</td>\n",
       "      <td>2.800000</td>\n",
       "      <td>2.900000</td>\n",
       "      <td>0.758000</td>\n",
       "      <td>12.700000</td>\n",
       "      <td>72.700000</td>\n",
       "    </tr>\n",
       "    <tr>\n",
       "      <th>Bahrain</th>\n",
       "      <td>Developing</td>\n",
       "      <td>69</td>\n",
       "      <td>0</td>\n",
       "      <td>98</td>\n",
       "      <td>0</td>\n",
       "      <td>63.600000</td>\n",
       "      <td>0</td>\n",
       "      <td>98</td>\n",
       "      <td>98</td>\n",
       "      <td>0.100000</td>\n",
       "      <td>22688.878240</td>\n",
       "      <td>1378188</td>\n",
       "      <td>6.200000</td>\n",
       "      <td>6.100000</td>\n",
       "      <td>0.823000</td>\n",
       "      <td>14.500000</td>\n",
       "      <td>76.900000</td>\n",
       "    </tr>\n",
       "  </tbody>\n",
       "</table>\n",
       "</div>"
      ],
      "text/plain": [
       "                 Status  Adult_Mortality  Infant_Deaths  Hepatitis   Measles   \\\n",
       "Country                                                                         \n",
       "Afghanistan  Developing              263             62          65      1154   \n",
       "Albania      Developing                8              0          98         0   \n",
       "Algeria      Developing               19             21          95        63   \n",
       "Angola       Developing              335             66          64       118   \n",
       "Argentina    Developing              116              8          94         0   \n",
       "Armenia      Developing              118              1          94        33   \n",
       "Australia     Developed               59              1          93        74   \n",
       "Austria       Developed               65              0          93       309   \n",
       "Azerbaijan   Developing              118              5          96         0   \n",
       "Bahrain      Developing               69              0          98         0   \n",
       "\n",
       "                 BMI   Underfive_Deaths   Polio  Diphtheria       HIV  \\\n",
       "Country                                                                 \n",
       "Afghanistan 19.100000                 83      6           65 0.100000   \n",
       "Albania     57.200000                  1     98           98 0.100000   \n",
       "Algeria     59.500000                 24     95           95 0.100000   \n",
       "Angola      23.300000                 98      7           64 1.900000   \n",
       "Argentina   62.800000                  9     93           94 0.100000   \n",
       "Armenia     54.900000                  1     96           94 0.100000   \n",
       "Australia   66.600000                  1     93           93 0.100000   \n",
       "Austria     57.600000                  0     93           93 0.100000   \n",
       "Azerbaijan  52.500000                  6     98           96 0.100000   \n",
       "Bahrain     63.600000                  0     98           98 0.100000   \n",
       "\n",
       "                     GDP  Population  Malnourished10_19   Malnourished5_9  \\\n",
       "Country                                                                     \n",
       "Afghanistan   584.259210    33736494           17.200000        17.300000   \n",
       "Albania      4575.763787      288914            1.200000         1.300000   \n",
       "Algeria      4132.762920    39871528            6.000000         5.800000   \n",
       "Angola       3695.793748     2785935            8.300000         8.200000   \n",
       "Argentina   13467.123600    43417765            1.000000         0.900000   \n",
       "Armenia       369.654776      291695            2.100000         2.200000   \n",
       "Australia   56554.387600    23789338            0.600000         0.600000   \n",
       "Austria     43665.947000     8633169            1.900000         2.100000   \n",
       "Azerbaijan     55.313820     9649341            2.800000         2.900000   \n",
       "Bahrain     22688.878240     1378188            6.200000         6.100000   \n",
       "\n",
       "             Income_Index  Schooling  Expected  \n",
       "Country                                         \n",
       "Afghanistan      0.479000  10.100000 65.000000  \n",
       "Albania          0.761000  14.200000 77.500000  \n",
       "Algeria          0.743000  14.400000 75.600000  \n",
       "Angola           0.531000  11.400000 52.400000  \n",
       "Argentina        0.826000  17.300000 76.300000  \n",
       "Armenia          0.741000  12.700000 74.800000  \n",
       "Australia        0.937000  20.400000 82.800000  \n",
       "Austria          0.892000  15.900000 81.500000  \n",
       "Azerbaijan       0.758000  12.700000 72.700000  \n",
       "Bahrain          0.823000  14.500000 76.900000  "
      ]
     },
     "execution_count": 22,
     "metadata": {},
     "output_type": "execute_result"
    }
   ],
   "source": [
    "df1=pd.read_csv('Life_Expectancy.csv', index_col=0)\n",
    "df1.head(10)"
   ]
  },
  {
   "cell_type": "markdown",
   "metadata": {
    "id": "_-PzGAQbGT8W"
   },
   "source": [
    "<a id=\"Bivariate\"> </a>\n",
    "## 1. Bivariate Regression"
   ]
  },
  {
   "cell_type": "markdown",
   "metadata": {
    "id": "MmEYEa-DGT8X"
   },
   "source": [
    "## We shall use the life expectancy dataset"
   ]
  },
  {
   "cell_type": "markdown",
   "metadata": {
    "collapsed": true,
    "id": "SqvgZqnAGT8Y"
   },
   "source": [
    "<table align=\"left\">\n",
    "    <tr>\n",
    "        <td width=\"6%\">\n",
    "            <img src=\"question_icon.png\">\n",
    "        </td>\n",
    "        <td>\n",
    "            <div align=\"left\", style=\"font-size:120%\">\n",
    "                <font color=\"#21618C\">\n",
    "                    <b>1. How do we analyze the impact of adult mortality rate on average life expectancy of a country?</b>\n",
    "                </font>\n",
    "            </div>\n",
    "        </td>\n",
    "    </tr>\n",
    "</table>"
   ]
  },
  {
   "cell_type": "code",
   "execution_count": null,
   "metadata": {},
   "outputs": [],
   "source": [
    "sns.scatterplot(x=df1['Adult_Mortality'],y=df1['Expected'])"
   ]
  },
  {
   "cell_type": "code",
   "execution_count": null,
   "metadata": {
    "id": "3hp6DBLcGT8Z"
   },
   "outputs": [],
   "source": [
    "sns.scatterplot(x=df1['Adult_Mortality'],y=df1.Expected)"
   ]
  },
  {
   "cell_type": "markdown",
   "metadata": {
    "collapsed": true,
    "id": "5Fq3cHG0GT8a"
   },
   "source": [
    "<table align=\"left\">\n",
    "    <tr>\n",
    "        <td width=\"6%\">\n",
    "            <img src=\"question_icon.png\">\n",
    "        </td>\n",
    "        <td>\n",
    "            <div align=\"left\", style=\"font-size:120%\">\n",
    "                <font color=\"#21618C\">\n",
    "                    <b>2. A regression model is built to check the impact of Human Development Index (Income) on the life expectancy of a nation. What is the expected error value?</b>\n",
    "                </font>\n",
    "            </div>\n",
    "        </td>\n",
    "    </tr>\n",
    "</table>"
   ]
  },
  {
   "cell_type": "code",
   "execution_count": null,
   "metadata": {
    "id": "amV7PHtlGT8b"
   },
   "outputs": [],
   "source": [
    "X=df1['Income_Index']\n",
    "X=sm.add_constant(X)   # import statsmodels.api as sm\n",
    "y=df1.Expected\n",
    "SLR_model= sm.OLS(y,X).fit()   # import statsmodels.api as sm\n",
    "residual=SLR_model.resid\n",
    "sum_residual= np.sum(residual)\n",
    "print('sum_residual',sum_residual)\n",
    "expected_value='{:.13f}'.format(np.mean(residual) )\n",
    "print('expected_value',expected_value)\n",
    "\n",
    "\n",
    "\n",
    "# how to find the expected error value , residual error\n",
    "  \n",
    "# 1.  define X, X=sm.add_constant(X) , y then   SLR_model=sm.OLS(y,X).fit     residual=SLR.model.resid     Sum_residual and Expected_value= mean_residual  \n",
    "\n"
   ]
  },
  {
   "cell_type": "code",
   "execution_count": null,
   "metadata": {},
   "outputs": [],
   "source": [
    "# sum of residual regression line is zero. expected residual (means) is zero"
   ]
  },
  {
   "cell_type": "markdown",
   "metadata": {
    "id": "6EdKTMb_GT8c"
   },
   "source": [
    "<a id=\"MLR\"> </a>\n",
    "## 2. Multiple Linear Regression(MLR)"
   ]
  },
  {
   "cell_type": "markdown",
   "metadata": {
    "collapsed": true,
    "id": "Ma9ZHu_FGT8c"
   },
   "source": [
    "<table align=\"left\">\n",
    "    <tr>\n",
    "        <td width=\"6%\">\n",
    "            <img src=\"question_icon.png\">\n",
    "        </td>\n",
    "        <td>\n",
    "            <div align=\"left\", style=\"font-size:120%\">\n",
    "                <font color=\"#21618C\">\n",
    "                    <b>3. Analyze the impact of immunization on life expectancy. </b>\n",
    "                </font>\n",
    "            </div>\n",
    "        </td>\n",
    "    </tr>\n",
    "</table>"
   ]
  },
  {
   "cell_type": "code",
   "execution_count": null,
   "metadata": {
    "id": "WmDtZAm-GT8d"
   },
   "outputs": [],
   "source": [
    "X = df1.iloc[: , [3,7,8]]\n",
    "X = sm.add_constant(X)\n",
    "\n",
    "y = df1['Expected']\n",
    "\n",
    "MLR_model = sm.OLS(y , X).fit()\n",
    "\n",
    "print(MLR_model.summary())"
   ]
  },
  {
   "cell_type": "markdown",
   "metadata": {
    "collapsed": true,
    "id": "AkCEFciPGT8d"
   },
   "source": [
    "<table align=\"left\">\n",
    "    <tr>\n",
    "        <td width=\"6%\">\n",
    "            <img src=\"question_icon.png\">\n",
    "        </td>\n",
    "        <td>\n",
    "            <div align=\"left\", style=\"font-size:120%\">\n",
    "                <font color=\"#21618C\">\n",
    "                    <b>4. If the information that whether the country is a developed or a developing country is included, does it alter the impact of immunzation on life expectancy ?</b>\n",
    "                </font>\n",
    "            </div>\n",
    "        </td>\n",
    "    </tr>\n",
    "</table>"
   ]
  },
  {
   "cell_type": "code",
   "execution_count": 30,
   "metadata": {},
   "outputs": [
    {
     "data": {
      "text/html": [
       "<table class=\"simpletable\">\n",
       "<caption>OLS Regression Results</caption>\n",
       "<tr>\n",
       "  <th>Dep. Variable:</th>        <td>Expected</td>     <th>  R-squared:         </th> <td>   0.321</td>\n",
       "</tr>\n",
       "<tr>\n",
       "  <th>Model:</th>                   <td>OLS</td>       <th>  Adj. R-squared:    </th> <td>   0.298</td>\n",
       "</tr>\n",
       "<tr>\n",
       "  <th>Method:</th>             <td>Least Squares</td>  <th>  F-statistic:       </th> <td>   14.06</td>\n",
       "</tr>\n",
       "<tr>\n",
       "  <th>Date:</th>             <td>Mon, 17 Apr 2023</td> <th>  Prob (F-statistic):</th> <td>2.00e-09</td>\n",
       "</tr>\n",
       "<tr>\n",
       "  <th>Time:</th>                 <td>07:58:13</td>     <th>  Log-Likelihood:    </th> <td> -416.35</td>\n",
       "</tr>\n",
       "<tr>\n",
       "  <th>No. Observations:</th>      <td>   124</td>      <th>  AIC:               </th> <td>   842.7</td>\n",
       "</tr>\n",
       "<tr>\n",
       "  <th>Df Residuals:</th>          <td>   119</td>      <th>  BIC:               </th> <td>   856.8</td>\n",
       "</tr>\n",
       "<tr>\n",
       "  <th>Df Model:</th>              <td>     4</td>      <th>                     </th>     <td> </td>   \n",
       "</tr>\n",
       "<tr>\n",
       "  <th>Covariance Type:</th>      <td>nonrobust</td>    <th>                     </th>     <td> </td>   \n",
       "</tr>\n",
       "</table>\n",
       "<table class=\"simpletable\">\n",
       "<tr>\n",
       "          <td></td>             <th>coef</th>     <th>std err</th>      <th>t</th>      <th>P>|t|</th>  <th>[0.025</th>    <th>0.975]</th>  \n",
       "</tr>\n",
       "<tr>\n",
       "  <th>const</th>             <td>   69.8090</td> <td>    3.771</td> <td>   18.512</td> <td> 0.000</td> <td>   62.342</td> <td>   77.276</td>\n",
       "</tr>\n",
       "<tr>\n",
       "  <th>Hepatitis </th>        <td>   -0.0035</td> <td>    0.063</td> <td>   -0.056</td> <td> 0.955</td> <td>   -0.128</td> <td>    0.121</td>\n",
       "</tr>\n",
       "<tr>\n",
       "  <th>Polio</th>             <td>    0.0771</td> <td>    0.039</td> <td>    1.993</td> <td> 0.049</td> <td>    0.000</td> <td>    0.154</td>\n",
       "</tr>\n",
       "<tr>\n",
       "  <th>Diphtheria </th>       <td>    0.0456</td> <td>    0.076</td> <td>    0.602</td> <td> 0.548</td> <td>   -0.104</td> <td>    0.196</td>\n",
       "</tr>\n",
       "<tr>\n",
       "  <th>status_Developing</th> <td>  -10.6036</td> <td>    1.872</td> <td>   -5.664</td> <td> 0.000</td> <td>  -14.310</td> <td>   -6.897</td>\n",
       "</tr>\n",
       "</table>\n",
       "<table class=\"simpletable\">\n",
       "<tr>\n",
       "  <th>Omnibus:</th>       <td> 2.973</td> <th>  Durbin-Watson:     </th> <td>   1.211</td>\n",
       "</tr>\n",
       "<tr>\n",
       "  <th>Prob(Omnibus):</th> <td> 0.226</td> <th>  Jarque-Bera (JB):  </th> <td>   2.635</td>\n",
       "</tr>\n",
       "<tr>\n",
       "  <th>Skew:</th>          <td>-0.355</td> <th>  Prob(JB):          </th> <td>   0.268</td>\n",
       "</tr>\n",
       "<tr>\n",
       "  <th>Kurtosis:</th>      <td> 3.077</td> <th>  Cond. No.          </th> <td>    946.</td>\n",
       "</tr>\n",
       "</table><br/><br/>Notes:<br/>[1] Standard Errors assume that the covariance matrix of the errors is correctly specified."
      ],
      "text/plain": [
       "<class 'statsmodels.iolib.summary.Summary'>\n",
       "\"\"\"\n",
       "                            OLS Regression Results                            \n",
       "==============================================================================\n",
       "Dep. Variable:               Expected   R-squared:                       0.321\n",
       "Model:                            OLS   Adj. R-squared:                  0.298\n",
       "Method:                 Least Squares   F-statistic:                     14.06\n",
       "Date:                Mon, 17 Apr 2023   Prob (F-statistic):           2.00e-09\n",
       "Time:                        07:58:13   Log-Likelihood:                -416.35\n",
       "No. Observations:                 124   AIC:                             842.7\n",
       "Df Residuals:                     119   BIC:                             856.8\n",
       "Df Model:                           4                                         \n",
       "Covariance Type:            nonrobust                                         \n",
       "=====================================================================================\n",
       "                        coef    std err          t      P>|t|      [0.025      0.975]\n",
       "-------------------------------------------------------------------------------------\n",
       "const                69.8090      3.771     18.512      0.000      62.342      77.276\n",
       "Hepatitis            -0.0035      0.063     -0.056      0.955      -0.128       0.121\n",
       "Polio                 0.0771      0.039      1.993      0.049       0.000       0.154\n",
       "Diphtheria            0.0456      0.076      0.602      0.548      -0.104       0.196\n",
       "status_Developing   -10.6036      1.872     -5.664      0.000     -14.310      -6.897\n",
       "==============================================================================\n",
       "Omnibus:                        2.973   Durbin-Watson:                   1.211\n",
       "Prob(Omnibus):                  0.226   Jarque-Bera (JB):                2.635\n",
       "Skew:                          -0.355   Prob(JB):                        0.268\n",
       "Kurtosis:                       3.077   Cond. No.                         946.\n",
       "==============================================================================\n",
       "\n",
       "Notes:\n",
       "[1] Standard Errors assume that the covariance matrix of the errors is correctly specified.\n",
       "\"\"\""
      ]
     },
     "execution_count": 30,
     "metadata": {},
     "output_type": "execute_result"
    }
   ],
   "source": [
    "X=df1.iloc[:,[3,7,8]]\n",
    "en_st=pd.get_dummies(data=df1['Status'],drop_first=True,prefix='status')\n",
    "X=pd.concat([X,en_st],axis=1)\n",
    "X=sm.add_constant(X)\n",
    "y=df1['Expected']\n",
    "MLR_model=sm.OLS(y,X).fit()\n",
    "MLR_model.summary()"
   ]
  },
  {
   "cell_type": "code",
   "execution_count": null,
   "metadata": {},
   "outputs": [],
   "source": []
  },
  {
   "cell_type": "code",
   "execution_count": null,
   "metadata": {},
   "outputs": [],
   "source": []
  },
  {
   "cell_type": "code",
   "execution_count": null,
   "metadata": {
    "id": "AW9ewHrnGT8e"
   },
   "outputs": [],
   "source": [
    "X = df1.iloc[: , [3,7,8]]\n",
    "X=sm.add_constant(X)\n",
    "encoded_status=pd.get_dummies(data=df1['Status'],drop_first=True,prefix='Status')\n",
    "X=pd.concat([pd.DataFrame(X),encoded_status],axis=1)\n",
    "y=df1['Expected']\n",
    "MLR_newmodel=sm.OLS(y,X).fit()\n",
    "print(MLR_newmodel.summary())"
   ]
  },
  {
   "cell_type": "markdown",
   "metadata": {
    "id": "ixy0KTBKGT8f"
   },
   "source": [
    "<a id=\"ins\"> </a>\n",
    "## 3. Inferences about slope"
   ]
  },
  {
   "cell_type": "code",
   "execution_count": 41,
   "metadata": {},
   "outputs": [
    {
     "data": {
      "text/plain": [
       "Index(['const', 'Adult_Mortality', 'Hepatitis ', ' HIV', 'Population',\n",
       "       'Income_Index'],\n",
       "      dtype='object')"
      ]
     },
     "execution_count": 41,
     "metadata": {},
     "output_type": "execute_result"
    }
   ],
   "source": [
    "X=df1.iloc[:,1:16]\n",
    "encoded_status=pd.get_dummies(data=df1['Status'],drop_first=True,prefix='Status')\n",
    "X=pd.concat([X,encoded_status],axis=1)\n",
    "X=sm.add_constant(X)\n",
    "y=df1['Expected']\n",
    "MLR_model=sm.OLS(y,X).fit()\n",
    "p_values=pd.DataFrame(MLR_model.pvalues,columns=['p_value'])\n",
    "sig_var= p_values[p_values['p_value']<0.05]\n",
    "sig_var.index                                 # p_val and sig_lvl for each column calculate\n",
    "\n",
    "predicted = MLR_model.predict(X)                  # the total variation \n",
    "ssr = np.sum((predicted - y.mean())**2)\n",
    "print(\"SSR:\",ssr)\n",
    "sse = np.sum((y - predicted)**2)\n",
    "print(\"SSE:\",sse)\n",
    "print(\"SST:\",(sse+ssr))\n",
    "\n",
    "print(SLR_model.conf_int())                       # upper limit lower limit\n",
    "\n",
    "MLR_model_full.rsquared ,  MLR_model_full.rsquared_adj     # R2 and adjR2\n",
    "\n",
    "#  no-intecept model                               ---------- means without this line X=sm.add_constant(X)\n",
    "\n",
    "print(MLR_model_full.f_pvalue)                              # significance of the overall model."
   ]
  },
  {
   "cell_type": "markdown",
   "metadata": {
    "collapsed": true,
    "id": "zckUqIHyGT8f"
   },
   "source": [
    "<table align=\"left\">\n",
    "    <tr>\n",
    "        <td width=\"6%\">\n",
    "            <img src=\"question_icon.png\">\n",
    "        </td>\n",
    "        <td>\n",
    "            <div align=\"left\", style=\"font-size:120%\">\n",
    "                <font color=\"#21618C\">\n",
    "                    <b>5. Find the significant variables in the full model when all the variables are considered for prediction of life expectancy.</b>\n",
    "                </font>\n",
    "            </div>\n",
    "        </td>\n",
    "    </tr>\n",
    "</table>"
   ]
  },
  {
   "cell_type": "code",
   "execution_count": 42,
   "metadata": {
    "id": "kfQGvgzkGT8g",
    "scrolled": true
   },
   "outputs": [
    {
     "data": {
      "text/plain": [
       "Index(['const', 'Adult_Mortality', 'Hepatitis ', ' HIV', 'Population',\n",
       "       'Income_Index'],\n",
       "      dtype='object')"
      ]
     },
     "execution_count": 42,
     "metadata": {},
     "output_type": "execute_result"
    }
   ],
   "source": [
    "X=df1.iloc[:,1:16]\n",
    "encoded_status=pd.get_dummies(data=df1['Status'],drop_first=True,prefix='Status')\n",
    "X=pd.concat([X,encoded_status],axis=1)\n",
    "X=sm.add_constant(X)\n",
    "y=df1['Expected']\n",
    "MLR_model=sm.OLS(y,X).fit()\n",
    "MLR_pvalues=pd.DataFrame(MLR_model.pvalues,columns=['P-value'])\n",
    "significant_var=MLR_pvalues[MLR_pvalues['P-value']<0.05]\n",
    "signi_var=significant_var.index\n",
    "signi_var"
   ]
  },
  {
   "cell_type": "code",
   "execution_count": 45,
   "metadata": {},
   "outputs": [
    {
     "data": {
      "text/plain": [
       "Index(['const', 'Adult_Mortality', 'Hepatitis ', ' HIV', 'Population',\n",
       "       'Income_Index'],\n",
       "      dtype='object')"
      ]
     },
     "execution_count": 45,
     "metadata": {},
     "output_type": "execute_result"
    }
   ],
   "source": [
    "X=df1.drop(columns=['Expected', 'Status'],axis=1)\n",
    "en_st=pd.get_dummies(data=df1['Status'],drop_first=True,prefix='Status')\n",
    "X=sm.add_constant(X)\n",
    "X=pd.concat([X,en_st],axis=1)\n",
    "y=df1['Expected']\n",
    "MLR_model=sm.OLS(y,X).fit()\n",
    "MLR_pvalue1=pd.DataFrame(MLR_model.pvalues,columns=['P_values1'])\n",
    "significant_var1=MLR_pvalue1[MLR_pvalue1['P_values1']<0.05]\n",
    "sig_col= significant_var1.index\n",
    "sig_col"
   ]
  },
  {
   "cell_type": "code",
   "execution_count": null,
   "metadata": {},
   "outputs": [],
   "source": [
    "X=df1.iloc[:,1:16]\n",
    "MLR_pvalue"
   ]
  },
  {
   "cell_type": "code",
   "execution_count": null,
   "metadata": {},
   "outputs": [],
   "source": [
    "MLR_pvalues=pd.DataFrame(MLR_model.pvalues,columns=['P-value'])"
   ]
  },
  {
   "cell_type": "code",
   "execution_count": null,
   "metadata": {
    "scrolled": true
   },
   "outputs": [],
   "source": [
    "MLR_model.pvalues"
   ]
  },
  {
   "cell_type": "code",
   "execution_count": null,
   "metadata": {},
   "outputs": [],
   "source": []
  },
  {
   "cell_type": "code",
   "execution_count": null,
   "metadata": {},
   "outputs": [],
   "source": []
  },
  {
   "cell_type": "code",
   "execution_count": null,
   "metadata": {},
   "outputs": [],
   "source": [
    "df1.head(1)"
   ]
  },
  {
   "cell_type": "markdown",
   "metadata": {
    "collapsed": true,
    "id": "9Px9OgnSGT8g"
   },
   "source": [
    "<table align=\"left\">\n",
    "    <tr>\n",
    "        <td width=\"6%\">\n",
    "            <img src=\"question_icon.png\">\n",
    "        </td>\n",
    "        <td>\n",
    "            <div align=\"left\", style=\"font-size:120%\">\n",
    "                <font color=\"#21618C\">\n",
    "                    <b>6. If economic indices are used to predict the life expectancy, calculate the total variation for the observed values of life expectancy.</b>\n",
    "                </font>\n",
    "            </div>\n",
    "        </td>\n",
    "    </tr>\n",
    "</table>"
   ]
  },
  {
   "cell_type": "code",
   "execution_count": null,
   "metadata": {},
   "outputs": [],
   "source": [
    "X = df1.iloc[:,[10,14]]\n",
    "X.head(1)"
   ]
  },
  {
   "cell_type": "code",
   "execution_count": null,
   "metadata": {
    "id": "bkRLRHs9GT8h"
   },
   "outputs": [],
   "source": [
    "# selecting independent variables that represent the economic indices of GDP and HDI(Income)\n",
    "X = df1.iloc[:,[10,14]]\n",
    "X = sm.add_constant(X)\n",
    "\n",
    "y = df1['Expected']\n",
    " \n",
    "MLR_model = sm.OLS(y,X).fit()\n",
    "\n",
    "predicted = MLR_model.predict(X)\n",
    "\n",
    "ssr = np.sum((predicted - y.mean())**2)\n",
    "print(\"SSR:\",ssr)\n",
    "sse = np.sum((y - predicted)**2)\n",
    "print(\"SSE:\",sse)\n",
    "print(\"SST:\",(sse+ssr))\n",
    "\n",
    "stat, p_value = shapiro(MLR_model_full.resid)      # normal distribution\n",
    "print('Test statistic:', stat)\n",
    "print('P-Value:', p_value)"
   ]
  },
  {
   "cell_type": "markdown",
   "metadata": {
    "collapsed": true,
    "id": "OO-K8PrvGT8h"
   },
   "source": [
    "<table align=\"left\">\n",
    "    <tr>\n",
    "        <td width=\"6%\">\n",
    "            <img src=\"question_icon.png\">\n",
    "        </td>\n",
    "        <td>\n",
    "            <div align=\"left\", style=\"font-size:120%\">\n",
    "                <font color=\"#21618C\">\n",
    "                    <b>7. Determine the lower bound and upper bound for estimated value of life expectancy per unit change in HDI (for income)</b>\n",
    "                </font>\n",
    "            </div>\n",
    "        </td>\n",
    "    </tr>\n",
    "</table>"
   ]
  },
  {
   "cell_type": "code",
   "execution_count": null,
   "metadata": {
    "id": "CuWU4wx3GT8i"
   },
   "outputs": [],
   "source": [
    "X=df1.iloc[:,14]\n",
    "X=sm.add_constant(X)\n",
    "y=df1['Expected']\n",
    "SLR_model=sm.OLS(y,X).fit()\n",
    "print(SLR_model.conf_int())"
   ]
  },
  {
   "cell_type": "markdown",
   "metadata": {
    "id": "B8OmzXM1GT8i"
   },
   "source": [
    "<a id=\"ML_eval\"> </a>\n",
    "## 4. Model Evaluation"
   ]
  },
  {
   "cell_type": "markdown",
   "metadata": {
    "collapsed": true,
    "id": "rEvt1TAXGT8j"
   },
   "source": [
    "<table align=\"left\">\n",
    "    <tr>\n",
    "        <td width=\"6%\">\n",
    "            <img src=\"question_icon.png\">\n",
    "        </td>\n",
    "        <td>\n",
    "            <div align=\"left\", style=\"font-size:120%\">\n",
    "                <font color=\"#21618C\">\n",
    "                    <b>8. A model is built to analyze the impact of mortality on Life expectancy. Would the addition of information about population of the country lead to a better prediction?</b>\n",
    "                </font>\n",
    "            </div>\n",
    "        </td>\n",
    "    </tr>\n",
    "</table>"
   ]
  },
  {
   "cell_type": "code",
   "execution_count": null,
   "metadata": {
    "id": "znUwZhZvGT8j"
   },
   "outputs": [],
   "source": [
    "X=df1.iloc[:,[1,2,6,11]]\n",
    "X=sm.add_constant(X)\n",
    "y=df1['Expected']\n",
    "MLR_model=sm.OLS(y,X).fit()\n",
    "print(MLR_model.summary())"
   ]
  },
  {
   "cell_type": "markdown",
   "metadata": {
    "collapsed": true,
    "id": "IpDAWaDeGT8k"
   },
   "source": [
    "<table align=\"left\">\n",
    "    <tr>\n",
    "        <td width=\"6%\">\n",
    "            <img src=\"question_icon.png\">\n",
    "        </td>\n",
    "        <td>\n",
    "            <div align=\"left\", style=\"font-size:120%\">\n",
    "                <font color=\"#21618C\">\n",
    "                    <b>9. Fit a full model and test the significance of the overall model. <br></b>\n",
    "                </font>\n",
    "            </div>\n",
    "        </td>\n",
    "    </tr>\n",
    "</table>"
   ]
  },
  {
   "cell_type": "code",
   "execution_count": null,
   "metadata": {},
   "outputs": [],
   "source": []
  },
  {
   "cell_type": "code",
   "execution_count": null,
   "metadata": {
    "id": "Yj6QQBFfGT8l",
    "scrolled": true
   },
   "outputs": [],
   "source": [
    "X=df1.iloc[:,1:16]\n",
    "encoded_status = pd.get_dummies(data = df1['Status'], drop_first=True, prefix = 'Status')\n",
    "X = pd.concat([pd.DataFrame(X), encoded_status], axis=1)\n",
    "X=sm.add_constant(X)\n",
    "y=df1['Expected']\n",
    "MLR_model_full = sm.OLS(y,X).fit()\n",
    "print(MLR_model_full.f_pvalue)\n"
   ]
  },
  {
   "cell_type": "markdown",
   "metadata": {
    "id": "l-U6cjSiGT8l"
   },
   "source": [
    "<a id=\"assum\"> </a>\n",
    "## 4. Assumptions of Linear Regression"
   ]
  },
  {
   "cell_type": "markdown",
   "metadata": {
    "collapsed": true,
    "id": "Y8Xe7qjqGT8m"
   },
   "source": [
    "<table align=\"left\">\n",
    "    <tr>\n",
    "        <td width=\"6%\">\n",
    "            <img src=\"question_icon.png\">\n",
    "        </td>\n",
    "        <td>\n",
    "            <div align=\"left\", style=\"font-size:120%\">\n",
    "                <font color=\"#21618C\">\n",
    "                    <b>10. A model is built using all the features (full model) to predict the life expectancy. Check whether the residuals obtained form the model follow a normal distribution.</b>\n",
    "                </font>\n",
    "            </div>\n",
    "        </td>\n",
    "    </tr>\n",
    "</table>"
   ]
  },
  {
   "cell_type": "code",
   "execution_count": null,
   "metadata": {
    "id": "PP48v3jTGT8m"
   },
   "outputs": [],
   "source": [
    "X = df1.iloc[:,1:16]\n",
    "encoded_status = pd.get_dummies(data = df1['Status'], drop_first=True, prefix = 'Status')\n",
    "X = pd.concat([pd.DataFrame(X), encoded_status], axis=1)\n",
    "X =  sm.add_constant(X)\n",
    "y = df1['Expected']\n",
    "MLR_model_full = sm.OLS(y,X).fit()\n",
    "\n",
    "# shapiro() returns a tuple having the values of test statistics and the corresponding p-value\n",
    "stat, p_value = shapiro(MLR_model_full.resid)\n",
    "print('Test statistic:', stat)\n",
    "print('P-Value:', p_value)"
   ]
  },
  {
   "cell_type": "markdown",
   "metadata": {
    "collapsed": true,
    "id": "jtHqhREXGT8m"
   },
   "source": [
    "<table align=\"left\">\n",
    "    <tr>\n",
    "        <td width=\"6%\">\n",
    "            <img src=\"question_icon.png\">\n",
    "        </td>\n",
    "        <td>\n",
    "            <div align=\"left\", style=\"font-size:120%\">\n",
    "                <font color=\"#21618C\">\n",
    "                        <b>11. Does the interaction of status of the country and its GDP have significant effect on life expectancy? (consider the full model)</b>\n",
    "                </font>\n",
    "            </div>\n",
    "        </td>\n",
    "    </tr>\n",
    "</table>"
   ]
  },
  {
   "cell_type": "code",
   "execution_count": null,
   "metadata": {
    "id": "Ng-8kwKgGT8n",
    "scrolled": true
   },
   "outputs": [],
   "source": [
    "# X = df1.iloc[:,1:16]        \n",
    "# encoded_status = pd.get_dummies(data = df1['Status'], drop_first=True, prefix = 'Status')\n",
    "# X = pd.concat([pd.DataFrame(X), encoded_status], axis=1)\n",
    "# X =  sm.add_constant(X)\n",
    "# y = df1['Expected']\n",
    "# MLR_model_full = sm.OLS(y,X).fit()\n",
    "# print(MLR_model_full.summary())\n",
    "print('The full model without interaction effect: \\nThe square for the full model without interaction is',MLR_model_full.rsquared)\n",
    "print('The adjusted r-squre for full model without interaction effect is',MLR_model_full.rsquared_adj)"
   ]
  },
  {
   "cell_type": "code",
   "execution_count": null,
   "metadata": {},
   "outputs": [],
   "source": [
    "# By examining the regression coefficients, we can determine whether the interaction between income group and GDP per capita \n",
    "# has a significant effect on life expectancy. If the coefficient for the interaction term is significantly different \n",
    "# from zero, then there is evidence of an interaction effect.\n"
   ]
  },
  {
   "cell_type": "markdown",
   "metadata": {
    "collapsed": true,
    "id": "Tc9LlIkTGT8n"
   },
   "source": [
    "<table align=\"left\">\n",
    "    <tr>\n",
    "        <td width=\"6%\">\n",
    "            <img src=\"question_icon.png\">\n",
    "        </td>\n",
    "        <td>\n",
    "            <div align=\"left\", style=\"font-size:120%\">\n",
    "                <font color=\"#21618C\">\n",
    "                    <b>12. Construct a full no-intecept model. What would you conclude when all the variables take value 0? </b>\n",
    "                </font>\n",
    "            </div>\n",
    "        </td>\n",
    "    </tr>\n",
    "</table>"
   ]
  },
  {
   "cell_type": "code",
   "execution_count": null,
   "metadata": {
    "id": "jtaT9qB2GT8o"
   },
   "outputs": [],
   "source": [
    "X=df1.iloc[:,1:16]\n",
    "encoded_status = pd.get_dummies(data = df1['Status'], drop_first=True, prefix = 'Status')\n",
    "X = pd.concat([pd.DataFrame(X), encoded_status], axis=1)\n",
    "y = df1['Expected']\n",
    "MLR_model_full_no_intercept = sm.OLS(y,X).fit()\n",
    "print(MLR_model_full_no_intercept.summary())"
   ]
  },
  {
   "cell_type": "code",
   "execution_count": null,
   "metadata": {},
   "outputs": [],
   "source": [
    "np.sum(MLR_model_full_no_intercept.resid)"
   ]
  },
  {
   "cell_type": "markdown",
   "metadata": {
    "id": "O3TOOMH7GT8o"
   },
   "source": [
    "### Hereon on we shall consider the FEV dataset.\n"
   ]
  },
  {
   "cell_type": "markdown",
   "metadata": {
    "id": "-cuOvjcHGT8p"
   },
   "source": [
    "### About the data set (Respiratory function data)\n",
    "\n",
    "Dataset consists of information about respiratory function in children and adolescents and factors that might impact the respiratory function. <br> Attribute information: \n",
    "\n",
    "**Age:** Age in years\n",
    "\n",
    "**Height:** Height in inches \n",
    "\n",
    "**Gender:** Gender value is 1 if male 0 if female\n",
    "\n",
    "**Smoke:** Whether the person is a smoker or non- smoker, the value is 1 if smoker and 0 otherwise\n",
    "\n",
    "**FEV:**  Forced Exhalation Volume (FEV), a measure of how much air somebody can forcibly exhale from their lung (Percentage)"
   ]
  },
  {
   "cell_type": "markdown",
   "metadata": {
    "id": "Qe2zwds0GT8p"
   },
   "source": [
    "#### Load the dataset and check the first five observations"
   ]
  },
  {
   "cell_type": "code",
   "execution_count": 47,
   "metadata": {
    "id": "Rd_zQlutGT8p"
   },
   "outputs": [
    {
     "data": {
      "text/html": [
       "<div>\n",
       "<style scoped>\n",
       "    .dataframe tbody tr th:only-of-type {\n",
       "        vertical-align: middle;\n",
       "    }\n",
       "\n",
       "    .dataframe tbody tr th {\n",
       "        vertical-align: top;\n",
       "    }\n",
       "\n",
       "    .dataframe thead th {\n",
       "        text-align: right;\n",
       "    }\n",
       "</style>\n",
       "<table border=\"1\" class=\"dataframe\">\n",
       "  <thead>\n",
       "    <tr style=\"text-align: right;\">\n",
       "      <th></th>\n",
       "      <th>Age</th>\n",
       "      <th>Height</th>\n",
       "      <th>Gender</th>\n",
       "      <th>Smoke</th>\n",
       "      <th>FEV</th>\n",
       "    </tr>\n",
       "  </thead>\n",
       "  <tbody>\n",
       "    <tr>\n",
       "      <th>0</th>\n",
       "      <td>9</td>\n",
       "      <td>57.000000</td>\n",
       "      <td>0</td>\n",
       "      <td>0</td>\n",
       "      <td>1.708000</td>\n",
       "    </tr>\n",
       "    <tr>\n",
       "      <th>1</th>\n",
       "      <td>8</td>\n",
       "      <td>67.500000</td>\n",
       "      <td>0</td>\n",
       "      <td>0</td>\n",
       "      <td>1.724000</td>\n",
       "    </tr>\n",
       "    <tr>\n",
       "      <th>2</th>\n",
       "      <td>7</td>\n",
       "      <td>54.500000</td>\n",
       "      <td>0</td>\n",
       "      <td>0</td>\n",
       "      <td>1.720000</td>\n",
       "    </tr>\n",
       "    <tr>\n",
       "      <th>3</th>\n",
       "      <td>9</td>\n",
       "      <td>53.000000</td>\n",
       "      <td>1</td>\n",
       "      <td>0</td>\n",
       "      <td>1.558000</td>\n",
       "    </tr>\n",
       "    <tr>\n",
       "      <th>4</th>\n",
       "      <td>9</td>\n",
       "      <td>57.000000</td>\n",
       "      <td>1</td>\n",
       "      <td>0</td>\n",
       "      <td>1.895000</td>\n",
       "    </tr>\n",
       "  </tbody>\n",
       "</table>\n",
       "</div>"
      ],
      "text/plain": [
       "   Age    Height  Gender  Smoke      FEV\n",
       "0    9 57.000000       0      0 1.708000\n",
       "1    8 67.500000       0      0 1.724000\n",
       "2    7 54.500000       0      0 1.720000\n",
       "3    9 53.000000       1      0 1.558000\n",
       "4    9 57.000000       1      0 1.895000"
      ]
     },
     "execution_count": 47,
     "metadata": {},
     "output_type": "execute_result"
    }
   ],
   "source": [
    "df2=pd.read_csv('LungCapdata.csv')\n",
    "df2.head()"
   ]
  },
  {
   "cell_type": "markdown",
   "metadata": {
    "collapsed": true,
    "id": "IvMQxjPRGT8q"
   },
   "source": [
    "<table align=\"left\">\n",
    "    <tr>\n",
    "        <td width=\"6%\">\n",
    "            <img src=\"question_icon.png\">\n",
    "        </td>\n",
    "        <td>\n",
    "            <div align=\"left\", style=\"font-size:120%\">\n",
    "                <font color=\"#21618C\">\n",
    "                    <b>13. Can we use a linear regression model to analyze the impact of all the features on respiratory function (FEV) ? </b>\n",
    "                </font>\n",
    "            </div>\n",
    "        </td>\n",
    "    </tr>\n",
    "</table>"
   ]
  },
  {
   "cell_type": "code",
   "execution_count": null,
   "metadata": {
    "id": "Y6fV5VIJGT8q"
   },
   "outputs": [],
   "source": [
    "print('data type of target variable', df2['FEV'].dtypes)"
   ]
  },
  {
   "cell_type": "code",
   "execution_count": 58,
   "metadata": {
    "scrolled": false
   },
   "outputs": [
    {
     "data": {
      "text/plain": [
       "<AxesSubplot:>"
      ]
     },
     "execution_count": 58,
     "metadata": {},
     "output_type": "execute_result"
    },
    {
     "data": {
      "image/png": "[encoded data removed]",
      "text/plain": [
       "<Figure size 640x480 with 2 Axes>"
      ]
     },
     "metadata": {},
     "output_type": "display_data"
    }
   ],
   "source": [
    "df_FEV_num= df2[['Age','Height','FEV']]\n",
    "sns.heatmap(df_FEV_num.corr(),annot=True)"
   ]
  },
  {
   "cell_type": "code",
   "execution_count": 59,
   "metadata": {},
   "outputs": [
    {
     "data": {
      "text/html": [
       "<div>\n",
       "<style scoped>\n",
       "    .dataframe tbody tr th:only-of-type {\n",
       "        vertical-align: middle;\n",
       "    }\n",
       "\n",
       "    .dataframe tbody tr th {\n",
       "        vertical-align: top;\n",
       "    }\n",
       "\n",
       "    .dataframe thead th {\n",
       "        text-align: right;\n",
       "    }\n",
       "</style>\n",
       "<table border=\"1\" class=\"dataframe\">\n",
       "  <thead>\n",
       "    <tr style=\"text-align: right;\">\n",
       "      <th></th>\n",
       "      <th>Age</th>\n",
       "      <th>Height</th>\n",
       "      <th>FEV</th>\n",
       "    </tr>\n",
       "  </thead>\n",
       "  <tbody>\n",
       "    <tr>\n",
       "      <th>Age</th>\n",
       "      <td>1.000000</td>\n",
       "      <td>0.791944</td>\n",
       "      <td>0.756459</td>\n",
       "    </tr>\n",
       "    <tr>\n",
       "      <th>Height</th>\n",
       "      <td>0.791944</td>\n",
       "      <td>1.000000</td>\n",
       "      <td>0.868135</td>\n",
       "    </tr>\n",
       "    <tr>\n",
       "      <th>FEV</th>\n",
       "      <td>0.756459</td>\n",
       "      <td>0.868135</td>\n",
       "      <td>1.000000</td>\n",
       "    </tr>\n",
       "  </tbody>\n",
       "</table>\n",
       "</div>"
      ],
      "text/plain": [
       "            Age   Height      FEV\n",
       "Age    1.000000 0.791944 0.756459\n",
       "Height 0.791944 1.000000 0.868135\n",
       "FEV    0.756459 0.868135 1.000000"
      ]
     },
     "execution_count": 59,
     "metadata": {},
     "output_type": "execute_result"
    }
   ],
   "source": [
    "df_FEV_num.corr()"
   ]
  },
  {
   "cell_type": "markdown",
   "metadata": {
    "collapsed": true,
    "id": "r4Ab8QP9GT8q"
   },
   "source": [
    "<table align=\"left\">\n",
    "    <tr>\n",
    "        <td width=\"6%\">\n",
    "            <img src=\"question_icon.png\">\n",
    "        </td>\n",
    "        <td>\n",
    "            <div align=\"left\", style=\"font-size:120%\">\n",
    "                <font color=\"#21618C\">\n",
    "                    <b>14. How can we rectify the multicollinearity detected in question 13? </b>\n",
    "                </font>\n",
    "            </div>\n",
    "        </td>\n",
    "    </tr>\n",
    "</table>"
   ]
  },
  {
   "cell_type": "code",
   "execution_count": 51,
   "metadata": {},
   "outputs": [
    {
     "data": {
      "text/html": [
       "<div>\n",
       "<style scoped>\n",
       "    .dataframe tbody tr th:only-of-type {\n",
       "        vertical-align: middle;\n",
       "    }\n",
       "\n",
       "    .dataframe tbody tr th {\n",
       "        vertical-align: top;\n",
       "    }\n",
       "\n",
       "    .dataframe thead th {\n",
       "        text-align: right;\n",
       "    }\n",
       "</style>\n",
       "<table border=\"1\" class=\"dataframe\">\n",
       "  <thead>\n",
       "    <tr style=\"text-align: right;\">\n",
       "      <th></th>\n",
       "      <th>Age</th>\n",
       "      <th>Height</th>\n",
       "      <th>Gender</th>\n",
       "      <th>Smoke</th>\n",
       "    </tr>\n",
       "  </thead>\n",
       "  <tbody>\n",
       "    <tr>\n",
       "      <th>0</th>\n",
       "      <td>9</td>\n",
       "      <td>57.000000</td>\n",
       "      <td>0</td>\n",
       "      <td>0</td>\n",
       "    </tr>\n",
       "  </tbody>\n",
       "</table>\n",
       "</div>"
      ],
      "text/plain": [
       "   Age    Height  Gender  Smoke\n",
       "0    9 57.000000       0      0"
      ]
     },
     "execution_count": 51,
     "metadata": {},
     "output_type": "execute_result"
    }
   ],
   "source": [
    "X=df2.iloc[:,0:4]\n",
    "X.head(1)"
   ]
  },
  {
   "cell_type": "code",
   "execution_count": 52,
   "metadata": {},
   "outputs": [
    {
     "data": {
      "text/html": [
       "<div>\n",
       "<style scoped>\n",
       "    .dataframe tbody tr th:only-of-type {\n",
       "        vertical-align: middle;\n",
       "    }\n",
       "\n",
       "    .dataframe tbody tr th {\n",
       "        vertical-align: top;\n",
       "    }\n",
       "\n",
       "    .dataframe thead th {\n",
       "        text-align: right;\n",
       "    }\n",
       "</style>\n",
       "<table border=\"1\" class=\"dataframe\">\n",
       "  <thead>\n",
       "    <tr style=\"text-align: right;\">\n",
       "      <th></th>\n",
       "      <th>Age</th>\n",
       "      <th>Height</th>\n",
       "      <th>Gender</th>\n",
       "      <th>Smoke</th>\n",
       "    </tr>\n",
       "  </thead>\n",
       "  <tbody>\n",
       "    <tr>\n",
       "      <th>0</th>\n",
       "      <td>9</td>\n",
       "      <td>57.000000</td>\n",
       "      <td>0</td>\n",
       "      <td>0</td>\n",
       "    </tr>\n",
       "  </tbody>\n",
       "</table>\n",
       "</div>"
      ],
      "text/plain": [
       "   Age    Height  Gender  Smoke\n",
       "0    9 57.000000       0      0"
      ]
     },
     "execution_count": 52,
     "metadata": {},
     "output_type": "execute_result"
    }
   ],
   "source": [
    "X=df2.iloc[:,:-1]\n",
    "X.head(1)"
   ]
  },
  {
   "cell_type": "code",
   "execution_count": 53,
   "metadata": {},
   "outputs": [
    {
     "data": {
      "text/plain": [
       "4"
      ]
     },
     "execution_count": 53,
     "metadata": {},
     "output_type": "execute_result"
    }
   ],
   "source": [
    "X.shape[1]"
   ]
  },
  {
   "cell_type": "code",
   "execution_count": 60,
   "metadata": {},
   "outputs": [
    {
     "data": {
      "text/plain": [
       "array([[ 1. ,  9. , 57. ,  0. ,  0. ],\n",
       "       [ 1. ,  8. , 67.5,  0. ,  0. ],\n",
       "       [ 1. ,  7. , 54.5,  0. ,  0. ],\n",
       "       ...,\n",
       "       [ 1. , 18. , 60. ,  0. ,  0. ],\n",
       "       [ 1. , 16. , 63. ,  0. ,  1. ],\n",
       "       [ 1. , 15. , 66.5,  0. ,  0. ]])"
      ]
     },
     "execution_count": 60,
     "metadata": {},
     "output_type": "execute_result"
    }
   ],
   "source": [
    "X.values"
   ]
  },
  {
   "cell_type": "code",
   "execution_count": 56,
   "metadata": {
    "id": "lcZBHcW3GT8r"
   },
   "outputs": [
    {
     "name": "stdout",
     "output_type": "stream",
     "text": [
      "   VIF_Factor Features\n",
      "0  191.122030    const\n",
      "1    3.019010      Age\n",
      "2    2.829728   Height\n",
      "3    1.060228   Gender\n",
      "4    1.209564    Smoke\n"
     ]
    }
   ],
   "source": [
    "X=df2.iloc[:,:-1]\n",
    "X=sm.add_constant(X)\n",
    "vif=pd.DataFrame()\n",
    "vif['VIF_Factor']=[variance_inflation_factor(X.values,i) for i in range(X.shape[1])]\n",
    "vif['Features']=X.columns\n",
    "print(vif)"
   ]
  },
  {
   "cell_type": "code",
   "execution_count": 61,
   "metadata": {},
   "outputs": [
    {
     "data": {
      "text/plain": [
       "Index(['const', 'Age', 'Height', 'Gender', 'Smoke'], dtype='object')"
      ]
     },
     "execution_count": 61,
     "metadata": {},
     "output_type": "execute_result"
    }
   ],
   "source": [
    "X.columns"
   ]
  },
  {
   "cell_type": "markdown",
   "metadata": {
    "collapsed": true,
    "id": "F5YUK2DDGT8r"
   },
   "source": [
    "<table align=\"left\">\n",
    "    <tr>\n",
    "        <td width=\"6%\">\n",
    "            <img src=\"question_icon.png\">\n",
    "        </td>\n",
    "        <td>\n",
    "            <div align=\"left\", style=\"font-size:120%\">\n",
    "                <font color=\"#21618C\">\n",
    "                    <b>15. A Linear regression model is used to analyze the impact of all possible features on respiratory function (FEV). How do we check whether or not the model adequately captures the relationship between the response and predictor variables?</b>\n",
    "                </font>\n",
    "            </div>\n",
    "        </td>\n",
    "    </tr>\n",
    "</table>"
   ]
  },
  {
   "cell_type": "code",
   "execution_count": 63,
   "metadata": {
    "id": "mN2JpSKGGT8r",
    "scrolled": false
   },
   "outputs": [
    {
     "data": {
      "text/plain": [
       "<AxesSubplot:>"
      ]
     },
     "execution_count": 63,
     "metadata": {},
     "output_type": "execute_result"
    },
    {
     "data": {
      "image/png": "[encoded data removed]",
      "text/plain": [
       "<Figure size 640x480 with 1 Axes>"
      ]
     },
     "metadata": {},
     "output_type": "display_data"
    }
   ],
   "source": [
    "X=df2.drop('FEV',axis=1)\n",
    "X_intercept=sm.add_constant(X)\n",
    "y=df2['FEV']\n",
    "MLR_model=sm.OLS(y,X_intercept).fit()\n",
    "residuals=MLR_model.resid\n",
    "fitted_values=MLR_model.fittedvalues\n",
    "sns.scatterplot(x=fitted_values,y=residuals)"
   ]
  },
  {
   "cell_type": "code",
   "execution_count": 66,
   "metadata": {},
   "outputs": [
    {
     "data": {
      "text/plain": [
       "<AxesSubplot:>"
      ]
     },
     "execution_count": 66,
     "metadata": {},
     "output_type": "execute_result"
    },
    {
     "data": {
      "image/png": "[encoded data removed]",
      "text/plain": [
       "<Figure size 640x480 with 1 Axes>"
      ]
     },
     "metadata": {},
     "output_type": "display_data"
    }
   ],
   "source": [
    "predicted = MLR_model.predict(X_intercept)\n",
    "sns.scatterplot(x=predicted,y=residuals)"
   ]
  },
  {
   "cell_type": "markdown",
   "metadata": {
    "collapsed": true,
    "id": "oC27QIBFGT8s"
   },
   "source": [
    "<table align=\"left\">\n",
    "    <tr>\n",
    "        <td width=\"6%\">\n",
    "            <img src=\"question_icon.png\">\n",
    "        </td>\n",
    "        <td>\n",
    "            <div align=\"left\", style=\"font-size:120%\">\n",
    "                <font color=\"#21618C\">\n",
    "                    <b>16.  A Linear regression model is used to analyze the impact of all possible features on respiratory function (FEV). Check whether the error terms are serially independent?</b>\n",
    "                </font>\n",
    "            </div>\n",
    "        </td>\n",
    "    </tr>\n",
    "</table>"
   ]
  },
  {
   "cell_type": "code",
   "execution_count": null,
   "metadata": {
    "id": "HJXiKKzqGT8s"
   },
   "outputs": [],
   "source": [
    "from statsmodels.stats.api import durbin_watson\n",
    "X= df2.drop('FEV',axis=1)\n",
    "X=sm.add_constant(X)\n",
    "y=df2['FEV']\n",
    "MLR_Model= sm.OLS(y,X).fit()\n",
    "residuals=MLR_Model.resid\n",
    "sms.durbin_watson(residuals)"
   ]
  },
  {
   "cell_type": "code",
   "execution_count": null,
   "metadata": {},
   "outputs": [],
   "source": [
    "# there is  no autocorrelation , error terms are serially independent, the assumption is not valid."
   ]
  },
  {
   "cell_type": "markdown",
   "metadata": {
    "collapsed": true,
    "id": "a5zZMejWGT8s"
   },
   "source": [
    "<table align=\"left\">\n",
    "    <tr>\n",
    "        <td width=\"6%\">\n",
    "            <img src=\"question_icon.png\">\n",
    "        </td>\n",
    "        <td>\n",
    "            <div align=\"left\", style=\"font-size:120%\">\n",
    "                <font color=\"#21618C\">\n",
    "                    <b>17. A model is built using all the features to predict the FEV. Check whether the residuals obtained form the model are normally distributed. </b>\n",
    "                </font>\n",
    "            </div>\n",
    "        </td>\n",
    "    </tr>\n",
    "</table>"
   ]
  },
  {
   "cell_type": "code",
   "execution_count": null,
   "metadata": {
    "id": "5vUopDxtGT8t",
    "scrolled": false
   },
   "outputs": [],
   "source": [
    "X= df2.drop('FEV',axis=1)\n",
    "X=sm.add_constant(X)\n",
    "y=df2['FEV']\n",
    "MLR_Model= sm.OLS(y,X).fit()\n",
    "residuals=MLR_Model.resid\n",
    "stats.shapiro(residuals)"
   ]
  },
  {
   "cell_type": "code",
   "execution_count": null,
   "metadata": {},
   "outputs": [],
   "source": [
    "sns.distplot(residuals)"
   ]
  },
  {
   "cell_type": "code",
   "execution_count": null,
   "metadata": {},
   "outputs": [],
   "source": [
    "# p<0.05 h0 is rejected , data is not normal"
   ]
  },
  {
   "cell_type": "code",
   "execution_count": null,
   "metadata": {},
   "outputs": [],
   "source": [
    "sm.qqplot(MLR_model.resid,line='r')\n",
    "\n",
    "plt.title('Q-Q Plot',fontsize=15)\n",
    "plt.xlabel(\"Theoritical Quanties\",fontsize=15)\n",
    "plt.ylabel(\"Sample Quanties\",fontsize=15)\n",
    "plt.show()"
   ]
  },
  {
   "cell_type": "markdown",
   "metadata": {
    "id": "6ruIu1g6GT8t"
   },
   "source": [
    "<a id=\"ml_perf\"> </a>\n",
    "## 6. Model Performance"
   ]
  },
  {
   "cell_type": "markdown",
   "metadata": {
    "collapsed": true,
    "id": "RneYTzzCGT8u"
   },
   "source": [
    "<table align=\"left\">\n",
    "    <tr>\n",
    "        <td width=\"6%\">\n",
    "            <img src=\"question_icon.png\">\n",
    "        </td>\n",
    "        <td>\n",
    "            <div align=\"left\", style=\"font-size:120%\">\n",
    "                <font color=\"#21618C\">\n",
    "                    <b>18. Build a full model on 70% of the given data. Calculate the mean square error and the root mean square error on the test set.</b>\n",
    "                </font>\n",
    "            </div>\n",
    "        </td>\n",
    "    </tr>\n",
    "</table>"
   ]
  },
  {
   "cell_type": "markdown",
   "metadata": {
    "id": "lxxdB1FNGT8u"
   },
   "source": [
    "from sklearn.metrics import r2_score,mean_squared_error,mean_absolute_error,mean_absolute_percentage_error"
   ]
  },
  {
   "cell_type": "code",
   "execution_count": null,
   "metadata": {},
   "outputs": [],
   "source": [
    "mse_train=mean_squared_error(y,MLR_Model.fittedvalues)\n",
    "print('MSE ',mse_train)\n",
    "rmse_train=np.sqrt(mse_train)\n",
    "print('RMSE ',rmse_train)"
   ]
  },
  {
   "cell_type": "code",
   "execution_count": null,
   "metadata": {},
   "outputs": [],
   "source": []
  },
  {
   "cell_type": "markdown",
   "metadata": {
    "collapsed": true,
    "id": "IutRN5LeGT8v"
   },
   "source": [
    "<table align=\"left\">\n",
    "    <tr>\n",
    "        <td width=\"6%\">\n",
    "            <img src=\"question_icon.png\">\n",
    "        </td>\n",
    "        <td>\n",
    "            <div align=\"left\", style=\"font-size:120%\">\n",
    "                <font color=\"#21618C\">\n",
    "                    <b>19. Calculate the mean absolute error and the  mean absolute percentage error for the test set using the model in Q18. Compare the values of RMSE and MAE. </b>\n",
    "                </font>\n",
    "            </div>\n",
    "        </td>\n",
    "    </tr>\n",
    "</table>"
   ]
  },
  {
   "cell_type": "code",
   "execution_count": null,
   "metadata": {
    "id": "asdF_imlGT8v"
   },
   "outputs": [],
   "source": [
    "from sklearn.metrics import mean_absolute_percentage_error as mape\n",
    "mae_train = mean_absolute_error(y,MLR_model.fittedvalues)\n",
    "print('MAE : ', mae_train)\n",
    "\n",
    "mape_train = mape(y, MLR_model.fittedvalues)*100\n",
    "print('MAPE : ',mape_train)"
   ]
  },
  {
   "cell_type": "markdown",
   "metadata": {
    "collapsed": true,
    "id": "qJUT1YRXGT8v"
   },
   "source": [
    "<table align=\"left\">\n",
    "    <tr>\n",
    "        <td width=\"6%\">\n",
    "            <img src=\"question_icon.png\">\n",
    "        </td>\n",
    "        <td>\n",
    "            <div align=\"left\", style=\"font-size:120%\">\n",
    "                <font color=\"#21618C\">\n",
    "                    <b>20. Build the full model on 80% of the given data and check if the model is overfitted? </b>\n",
    "                </font>\n",
    "            </div>\n",
    "        </td>\n",
    "    </tr>\n",
    "</table>"
   ]
  },
  {
   "cell_type": "code",
   "execution_count": null,
   "metadata": {
    "id": "GODi3g3MGT8w"
   },
   "outputs": [],
   "source": [
    "X=df2.iloc[:,:4].values\n",
    "X=sm.add_constant(X)\n",
    "y=df2['FEV']\n",
    "X_train,X_test,y_train,y_test=train_test_split(X,y,test_size=1,random_state=100)\n",
    "MLR_model=sm.OLS(y_train,X_train).fit()\n",
    "print(MLR_model.summary())"
   ]
  },
  {
   "cell_type": "code",
   "execution_count": null,
   "metadata": {},
   "outputs": [],
   "source": [
    "train_pred = MLR_model.predict(X_train)\n",
    "test_pred = MLR_model.predict(X_test)\n",
    "\n",
    "mse_train = mean_squared_error(y_train , train_pred)\n",
    "rmse_train = np.sqrt(mse_train)\n",
    "print('Root_Mean_square on training set : ',rmse_train)\n",
    "mse_test = mean_squared_error(y_test , test_pred)\n",
    "rmse_test = np.sqrt(mse_test)\n",
    "print('Root_Mean_square on testing set : ',rmse_test)"
   ]
  },
  {
   "cell_type": "code",
   "execution_count": null,
   "metadata": {},
   "outputs": [],
   "source": []
  }
 ],
 "metadata": {
  "colab": {
   "collapsed_sections": [],
   "name": "SLR - In-Class - Lab Exercise (DAY 1) - Questions  [v1.0 - 080420].ipynb",
   "provenance": []
  },
  "kernelspec": {
   "display_name": "Python 3 (ipykernel)",
   "language": "python",
   "name": "python3"
  },
  "language_info": {
   "codemirror_mode": {
    "name": "ipython",
    "version": 3
   },
   "file_extension": ".py",
   "mimetype": "text/x-python",
   "name": "python",
   "nbconvert_exporter": "python",
   "pygments_lexer": "ipython3",
   "version": "3.9.13"
  }
 },
 "nbformat": 4,
 "nbformat_minor": 1
}
